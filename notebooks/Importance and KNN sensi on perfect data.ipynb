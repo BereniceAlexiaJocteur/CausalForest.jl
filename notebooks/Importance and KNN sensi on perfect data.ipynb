{
 "cells": [
  {
   "cell_type": "code",
   "execution_count": 1,
   "id": "8d465bc3",
   "metadata": {},
   "outputs": [],
   "source": [
    "using CausalForest\n",
    "using StatsBase\n",
    "using Distributions"
   ]
  },
  {
   "cell_type": "code",
   "execution_count": 2,
   "id": "50f0557e",
   "metadata": {},
   "outputs": [],
   "source": [
    "n, m = 10^4, 10\n",
    "u = Uniform()\n",
    "features = rand(u, (n, m))\n",
    "X = [features; features]\n",
    "T = convert(Vector{Int64},[ones(n); zeros(n)])\n",
    "Y = X*[10, 0, 0, 0, 0, 0, 0, 0, 0, 0].*T  .+ 0.5\n",
    "\n",
    "cf2 = build_forest(true, false, Y, T, X, true, 10, 500, 100);"
   ]
  },
  {
   "cell_type": "code",
   "execution_count": 3,
   "id": "122f23cf",
   "metadata": {},
   "outputs": [
    {
     "data": {
      "text/plain": [
       "10-element Vector{Float64}:\n",
       " 1.0\n",
       " 0.0\n",
       " 0.0\n",
       " 0.0\n",
       " 0.0\n",
       " 0.0\n",
       " 0.0\n",
       " 0.0\n",
       " 0.0\n",
       " 0.0"
      ]
     },
     "execution_count": 3,
     "metadata": {},
     "output_type": "execute_result"
    }
   ],
   "source": [
    "importance(cf2)"
   ]
  },
  {
   "cell_type": "code",
   "execution_count": 4,
   "id": "40fa8299",
   "metadata": {},
   "outputs": [],
   "source": [
    "Y = X*[10, 0, 0, 0, 0, 0, 0, 0, 0, 0].*T\n",
    "cf3 = build_forest(true, false, Y, T, X, true, 10, 500, 100);"
   ]
  },
  {
   "cell_type": "code",
   "execution_count": 5,
   "id": "839edc4d",
   "metadata": {},
   "outputs": [
    {
     "data": {
      "text/plain": [
       "10-element Vector{Float64}:\n",
       " 1.0\n",
       " 0.0\n",
       " 0.0\n",
       " 0.0\n",
       " 0.0\n",
       " 0.0\n",
       " 0.0\n",
       " 0.0\n",
       " 0.0\n",
       " 0.0"
      ]
     },
     "execution_count": 5,
     "metadata": {},
     "output_type": "execute_result"
    }
   ],
   "source": [
    "importance(cf3)"
   ]
  },
  {
   "cell_type": "code",
   "execution_count": null,
   "id": "1f1c1298",
   "metadata": {},
   "outputs": [],
   "source": []
  },
  {
   "cell_type": "code",
   "execution_count": 6,
   "id": "e131b13d",
   "metadata": {},
   "outputs": [
    {
     "data": {
      "text/plain": [
       "10×1 Matrix{Float64}:\n",
       " 0.9932709844489244\n",
       " 9.533371339978032e-5\n",
       " 0.0036841292944016584\n",
       " 0.0011028442633642757\n",
       " 0.0\n",
       " 0.0\n",
       " 0.0\n",
       " 0.0018467083278862824\n",
       " 0.0\n",
       " 0.0"
      ]
     },
     "execution_count": 6,
     "metadata": {},
     "output_type": "execute_result"
    }
   ],
   "source": [
    "knn_sensi(cf2,500)"
   ]
  },
  {
   "cell_type": "code",
   "execution_count": 7,
   "id": "4026bb42",
   "metadata": {},
   "outputs": [
    {
     "data": {
      "text/plain": [
       "10×1 Matrix{Float64}:\n",
       " 0.9934532227945371\n",
       " 0.0\n",
       " 0.0002470506134609272\n",
       " 0.0023176049823706835\n",
       " 0.0\n",
       " 0.0023176049823714485\n",
       " 0.0\n",
       " 0.0016645166405752732\n",
       " 0.0\n",
       " 0.0"
      ]
     },
     "execution_count": 7,
     "metadata": {},
     "output_type": "execute_result"
    }
   ],
   "source": [
    "knn_sensi(cf3,500)"
   ]
  },
  {
   "cell_type": "code",
   "execution_count": null,
   "id": "be27cb6e",
   "metadata": {},
   "outputs": [],
   "source": []
  }
 ],
 "metadata": {
  "kernelspec": {
   "display_name": "Julia 1.7.2",
   "language": "julia",
   "name": "julia-1.7"
  },
  "language_info": {
   "file_extension": ".jl",
   "mimetype": "application/julia",
   "name": "julia",
   "version": "1.7.2"
  }
 },
 "nbformat": 4,
 "nbformat_minor": 5
}
