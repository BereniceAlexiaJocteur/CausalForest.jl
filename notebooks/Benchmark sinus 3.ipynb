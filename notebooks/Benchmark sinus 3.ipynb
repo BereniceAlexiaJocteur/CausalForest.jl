{
 "cells": [
  {
   "cell_type": "code",
   "execution_count": 5,
   "id": "53b7f27d",
   "metadata": {},
   "outputs": [],
   "source": [
    "using CausalForest\n",
    "using StatsBase\n",
    "using Plots\n",
    "using Random\n",
    "using Distributions\n",
    "using RCall\n",
    "using BenchmarkTools\n",
    "using DelimitedFiles"
   ]
  },
  {
   "cell_type": "code",
   "execution_count": 6,
   "id": "2a4cd378",
   "metadata": {},
   "outputs": [],
   "source": [
    "Random.seed!(123);\n",
    "n, m = 10^4, 10;\n",
    "u = Uniform(0,10);\n",
    "features = rand(u, (n, m));\n",
    "X = features;\n",
    "d = Normal();\n",
    "eps = rand(d, n);\n",
    "b = Bernoulli();\n",
    "T = convert(Vector{Int64},rand(b, n));\n",
    "Y = sin.(features*[1, 0, 0, 0, 0, 0, 0, 0, 0, 0]).*T  + features*[0, 0, 2, 0, 0, 0, 3, 0, 0, 0];"
   ]
  },
  {
   "cell_type": "code",
   "execution_count": 7,
   "id": "77832bf8",
   "metadata": {},
   "outputs": [
    {
     "data": {
      "text/plain": [
       "10000×12 Matrix{Float64}:\n",
       " 9.063     0.273863  9.2398     …  8.02953    8.61508   1.0  32.7318\n",
       " 4.43494   8.65398   4.38668       4.26558    5.79587   0.0  10.2415\n",
       " 7.45673   7.98071   9.35901       7.38559    9.99516   0.0  27.5137\n",
       " 5.12083   8.25448   8.79223       0.835565   8.06585   0.0  24.796\n",
       " 2.53849   5.30423   5.84012       0.570453   9.6668    0.0  22.6625\n",
       " 3.34152   2.66141   9.8669     …  0.92876    9.49805   1.0  25.1241\n",
       " 4.27328   8.75436   0.0258112     5.12688    2.24987   1.0   8.09666\n",
       " 8.67547   7.27313   0.151025      0.0873517  0.765286  0.0  25.0373\n",
       " 0.991336  1.20752   5.87184       8.38971    9.81301   0.0  20.8175\n",
       " 1.25287   6.88003   3.64868       4.16181    3.00126   0.0  26.2578\n",
       " 6.92209   0.298644  4.84843    …  8.07655    1.49476   0.0  36.4211\n",
       " 1.36551   1.07227   0.570038      2.53062    7.60498   1.0  21.9686\n",
       " 0.320967  6.45858   4.85281       9.74512    1.98433   0.0  32.6943\n",
       " ⋮                              ⋱                       ⋮    \n",
       " 1.41477   4.12499   4.66667       7.15208    2.01061   1.0  17.0164\n",
       " 8.90644   0.206914  4.58998       6.88024    4.0675    0.0  37.4342\n",
       " 9.06998   4.30907   5.78293    …  2.16229    2.83885   0.0  21.0071\n",
       " 5.36969   2.79123   7.52206       6.62058    0.337787  1.0  25.8433\n",
       " 4.02403   7.35939   6.73502       4.1632     4.9581    0.0  20.2401\n",
       " 5.42829   1.81778   9.49776       4.32137    1.39286   0.0  19.9342\n",
       " 4.09515   0.94505   3.75739       0.426026   3.54751   1.0  29.9997\n",
       " 5.28518   8.82277   2.73882    …  3.74575    6.67028   0.0  32.327\n",
       " 5.03432   1.86886   8.78118       8.52253    7.07487   1.0  40.846\n",
       " 1.51227   7.42091   6.94678       9.10512    2.08088   0.0  18.0307\n",
       " 9.87606   3.9929    7.10062       5.31304    1.92731   1.0  37.5453\n",
       " 8.55271   2.31435   0.181986      6.36457    2.56864   0.0  18.5483"
      ]
     },
     "execution_count": 7,
     "metadata": {},
     "output_type": "execute_result"
    }
   ],
   "source": [
    "df = hcat(X,T,Y)"
   ]
  },
  {
   "cell_type": "code",
   "execution_count": 8,
   "id": "8133f0ae",
   "metadata": {},
   "outputs": [],
   "source": [
    "header = [\"X1\" \"X2\" \"X3\" \"X4\" \"X5\" \"X6\" \"X7\" \"X8\" \"X9\" \"X10\" \"T\" \"Y\"]\n",
    "writedlm(\"sinus_causal_3.csv\", [header ; df], \",\")"
   ]
  },
  {
   "cell_type": "code",
   "execution_count": 9,
   "id": "f7a37ce6",
   "metadata": {},
   "outputs": [],
   "source": [
    "reval(\"set.seed(1)\")\n",
    "Xtest_1 = rcopy(R\"matrix(runif(10000),nrow=1000)\")\n",
    "true_effect_1 = sin.(Xtest_1[:, 1]);"
   ]
  },
  {
   "cell_type": "code",
   "execution_count": 10,
   "id": "f724ac5e",
   "metadata": {},
   "outputs": [
    {
     "data": {
      "text/plain": [
       "get_freq (generic function with 1 method)"
      ]
     },
     "execution_count": 10,
     "metadata": {},
     "output_type": "execute_result"
    }
   ],
   "source": [
    "function get_all_nodes_in_tree!(\n",
    "    tree ,\n",
    "    result  = []\n",
    "    )\n",
    "    if hasproperty(tree, :featid)  \n",
    "        push!(result, tree.featid)\n",
    "        get_all_nodes_in_tree!(tree.left, result)\n",
    "        get_all_nodes_in_tree!(tree.right, result)\n",
    "    end\n",
    "    return result\n",
    "end\n",
    "\n",
    "function get_freq(forest) \n",
    "    ensemble = forest.trees\n",
    "    n_trees = length(ensemble)\n",
    "    res = []\n",
    "    for i = 1:n_trees\n",
    "        append!(res, get_all_nodes_in_tree!(forest.trees[i].tree))\n",
    "    end\n",
    "    return proportionmap(res)\n",
    "end"
   ]
  },
  {
   "cell_type": "markdown",
   "id": "f8fe7aa5",
   "metadata": {},
   "source": [
    "# Critère alternatif (différence non centrée) honnête optimisé"
   ]
  },
  {
   "cell_type": "markdown",
   "id": "ea5dcdae",
   "metadata": {},
   "source": [
    "### Subsampling"
   ]
  },
  {
   "cell_type": "code",
   "execution_count": 11,
   "id": "436059a4",
   "metadata": {},
   "outputs": [
    {
     "name": "stdout",
     "output_type": "stream",
     "text": [
      "  7.920 s (2244564 allocations: 799.98 MiB)\n",
      "  7.755 s (269208485 allocations: 4.47 GiB)\n",
      "0.79318145606504280.00015793930591946576"
     ]
    }
   ],
   "source": [
    "errors_11 = zeros(100)\n",
    "\n",
    "cf = @btime build_forest_1_opti(false, false, true, Y, T, X, true, 10, 500, 0.5, 0.5, -1, 5, 10, 2000)\n",
    "pred = @btime apply_forest_1(cf, Xtest_1)\n",
    "errors_11[1] = rmsd(float(true_effect_1), pred)\n",
    "for i in 2:100\n",
    "    @rput i\n",
    "    reval(\"set.seed(i)\")\n",
    "    Xtest = rcopy(R\"matrix(runif(10000),nrow=1000)\")\n",
    "    pred = apply_forest_1(cf, Xtest)\n",
    "    true_effect = sin.(Xtest[:, 1])\n",
    "    errors_11[i] = rmsd(float(true_effect), pred)\n",
    "end\n",
    "print(mean(errors_11))\n",
    "print(var(errors_11))"
   ]
  },
  {
   "cell_type": "code",
   "execution_count": 12,
   "id": "a0501647",
   "metadata": {},
   "outputs": [
    {
     "data": {
      "text/plain": [
       "Dict{Any, Float64} with 10 entries:\n",
       "  5  => 0.115038\n",
       "  4  => 0.112562\n",
       "  6  => 0.117142\n",
       "  7  => 0.0158946\n",
       "  2  => 0.114642\n",
       "  10 => 0.111077\n",
       "  9  => 0.115075\n",
       "  8  => 0.115694\n",
       "  3  => 0.0661905\n",
       "  1  => 0.116684"
      ]
     },
     "execution_count": 12,
     "metadata": {},
     "output_type": "execute_result"
    }
   ],
   "source": [
    "cf = build_forest_1_opti(false, false, true, Y, T, X, true, 10, 500, 0.5, 0.5, -1, 5, 10, 2000)\n",
    "\n",
    "get_freq(cf)"
   ]
  },
  {
   "cell_type": "markdown",
   "id": "fa847f58",
   "metadata": {},
   "source": [
    "### Bootstrap"
   ]
  },
  {
   "cell_type": "code",
   "execution_count": 13,
   "id": "79e98dc1",
   "metadata": {},
   "outputs": [
    {
     "name": "stdout",
     "output_type": "stream",
     "text": [
      "  20.544 s (4277445 allocations: 1.10 GiB)\n",
      "  7.787 s (274731398 allocations: 4.56 GiB)\n",
      "1.1535404443524460.00020294799849312836"
     ]
    }
   ],
   "source": [
    "errors_12 = zeros(100)\n",
    "\n",
    "cf = @btime build_forest_1_opti(false, true, true, Y, T, X, true, 10, 500, 0.5, 0.5, -1, 5, 10, 2000)\n",
    "pred = @btime apply_forest_1(cf, Xtest_1)\n",
    "errors_12[1] = rmsd(float(true_effect_1), pred)\n",
    "for i in 2:100\n",
    "    @rput i\n",
    "    reval(\"set.seed(i)\")\n",
    "    Xtest = rcopy(R\"matrix(runif(10000),nrow=1000)\")\n",
    "    pred = apply_forest_1(cf, Xtest)\n",
    "    true_effect = sin.(Xtest[:, 1])\n",
    "    errors_12[i] = rmsd(float(true_effect), pred)\n",
    "end\n",
    "print(mean(errors_12))\n",
    "print(var(errors_12))"
   ]
  },
  {
   "cell_type": "code",
   "execution_count": 14,
   "id": "b6bac07e",
   "metadata": {},
   "outputs": [
    {
     "data": {
      "text/plain": [
       "Dict{Any, Float64} with 10 entries:\n",
       "  5  => 0.114546\n",
       "  4  => 0.11263\n",
       "  6  => 0.11441\n",
       "  7  => 0.0227747\n",
       "  2  => 0.115654\n",
       "  10 => 0.112569\n",
       "  9  => 0.111482\n",
       "  8  => 0.11261\n",
       "  3  => 0.0703623\n",
       "  1  => 0.112963"
      ]
     },
     "execution_count": 14,
     "metadata": {},
     "output_type": "execute_result"
    }
   ],
   "source": [
    "cf = build_forest_1_opti(false, true, true, Y, T, X, true, 10, 500, 0.5, 0.5, -1, 5, 10, 2000)\n",
    "\n",
    "get_freq(cf)"
   ]
  },
  {
   "cell_type": "code",
   "execution_count": null,
   "id": "2730fa55",
   "metadata": {},
   "outputs": [],
   "source": []
  }
 ],
 "metadata": {
  "kernelspec": {
   "display_name": "Julia 1.7.2",
   "language": "julia",
   "name": "julia-1.7"
  },
  "language_info": {
   "file_extension": ".jl",
   "mimetype": "application/julia",
   "name": "julia",
   "version": "1.7.2"
  }
 },
 "nbformat": 4,
 "nbformat_minor": 5
}
