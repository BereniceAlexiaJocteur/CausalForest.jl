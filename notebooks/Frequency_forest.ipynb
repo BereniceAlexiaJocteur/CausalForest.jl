{
 "cells": [
  {
   "cell_type": "code",
   "execution_count": 1,
   "id": "ca4e630d",
   "metadata": {},
   "outputs": [],
   "source": [
    "using CausalForest\n",
    "using StatsBase\n",
    "using Plots\n",
    "using Distributions"
   ]
  },
  {
   "cell_type": "markdown",
   "id": "c657ea04",
   "metadata": {},
   "source": [
    "Modèle \n",
    "\n",
    "$$Y = 10 X_1 + \\epsilon$$\n",
    "\n",
    "X est 10 features toutes uniformes sur [0,1].\n",
    "\n",
    "Epsilon suit loi normale (0,1).\n",
    "\n",
    "$n=10^3$ observations"
   ]
  },
  {
   "cell_type": "code",
   "execution_count": 2,
   "id": "e5fed0da",
   "metadata": {},
   "outputs": [],
   "source": [
    "n, m = 10^3, 10\n",
    "u = Uniform()\n",
    "features = rand(u, (n, m))\n",
    "d = Normal()\n",
    "eps = rand(d, 1000)\n",
    "labels = features*[10, 0, 0, 0, 0, 0, 0, 0, 0, 0]  .+ eps\n",
    "\n",
    "model = build_forest_oob(labels, features, 10, 1000);"
   ]
  },
  {
   "cell_type": "code",
   "execution_count": 3,
   "id": "ebc4c46a",
   "metadata": {},
   "outputs": [
    {
     "data": {
      "text/plain": [
       "get_all_nodes_in_tree! (generic function with 3 methods)"
      ]
     },
     "execution_count": 3,
     "metadata": {},
     "output_type": "execute_result"
    }
   ],
   "source": [
    "function get_all_nodes_in_tree!(\n",
    "    tree ,\n",
    "    depth = 3,\n",
    "    result  = []\n",
    "    )\n",
    "    if hasproperty(tree, :featid) && depth > 0\n",
    "        push!(result, tree.featid)\n",
    "        get_all_nodes_in_tree!(tree.left, depth-1, result)\n",
    "        get_all_nodes_in_tree!(tree.right, depth-1, result)\n",
    "    end\n",
    "    return result\n",
    "end"
   ]
  },
  {
   "cell_type": "code",
   "execution_count": 4,
   "id": "f4507734",
   "metadata": {},
   "outputs": [
    {
     "data": {
      "text/plain": [
       "get_freq (generic function with 2 methods)"
      ]
     },
     "execution_count": 4,
     "metadata": {},
     "output_type": "execute_result"
    }
   ],
   "source": [
    "function get_freq(forest, depth=3) \n",
    "    ensemble = forest.trees\n",
    "    n_trees = length(ensemble)\n",
    "    res = []\n",
    "    for i = 1:n_trees\n",
    "        append!(res, get_all_nodes_in_tree!(forest.trees[i].tree, depth))\n",
    "    end\n",
    "    return proportionmap(res)\n",
    "end"
   ]
  },
  {
   "cell_type": "code",
   "execution_count": 5,
   "id": "64524056",
   "metadata": {},
   "outputs": [
    {
     "data": {
      "text/plain": [
       "Dict{Any, Float64} with 9 entries:\n",
       "  5  => 0.00214286\n",
       "  4  => 0.000571429\n",
       "  7  => 0.000571429\n",
       "  2  => 0.000857143\n",
       "  10 => 0.000285714\n",
       "  9  => 0.000285714\n",
       "  8  => 0.000857143\n",
       "  3  => 0.001\n",
       "  1  => 0.993429"
      ]
     },
     "execution_count": 5,
     "metadata": {},
     "output_type": "execute_result"
    }
   ],
   "source": [
    "get_freq(model, 3)"
   ]
  },
  {
   "cell_type": "code",
   "execution_count": 6,
   "id": "5733d9cb",
   "metadata": {},
   "outputs": [
    {
     "data": {
      "text/plain": [
       "Dict{Any, Float64} with 10 entries:\n",
       "  5  => 0.0820919\n",
       "  4  => 0.0791884\n",
       "  6  => 0.06913\n",
       "  7  => 0.0635305\n",
       "  2  => 0.0706854\n",
       "  10 => 0.0564446\n",
       "  9  => 0.0610764\n",
       "  8  => 0.0702706\n",
       "  3  => 0.0778058\n",
       "  1  => 0.369776"
      ]
     },
     "execution_count": 6,
     "metadata": {},
     "output_type": "execute_result"
    }
   ],
   "source": [
    "get_freq(model, 5)"
   ]
  },
  {
   "cell_type": "code",
   "execution_count": 7,
   "id": "ab488b1d",
   "metadata": {},
   "outputs": [
    {
     "data": {
      "text/plain": [
       "Dict{Any, Float64} with 10 entries:\n",
       "  5  => 0.0957102\n",
       "  4  => 0.0948816\n",
       "  6  => 0.0888462\n",
       "  7  => 0.0909553\n",
       "  2  => 0.0922547\n",
       "  10 => 0.0893358\n",
       "  9  => 0.0877257\n",
       "  8  => 0.0911248\n",
       "  3  => 0.0947592\n",
       "  1  => 0.174406"
      ]
     },
     "execution_count": 7,
     "metadata": {},
     "output_type": "execute_result"
    }
   ],
   "source": [
    "get_freq(model, 10)"
   ]
  },
  {
   "cell_type": "markdown",
   "id": "a39e7644",
   "metadata": {},
   "source": [
    "Modèle\n",
    "\n",
    "$$\\Theta(X) = 10 X_1$$\n",
    "\n",
    "$$Y = \\Theta(X) T + 0.5$$\n",
    "\n",
    "X est 10 features toutes uniformes sur [0,1].\n",
    "\n",
    "T suit loi bernouilli p=0.5.\n",
    "\n",
    "$n=10^4$ observations"
   ]
  },
  {
   "cell_type": "code",
   "execution_count": 8,
   "id": "21e0daab",
   "metadata": {},
   "outputs": [],
   "source": [
    "n, m = 10^4, 10\n",
    "u = Uniform()\n",
    "features = rand(u, (n, m))\n",
    "X = features\n",
    "d = Normal()\n",
    "eps = rand(d, n)\n",
    "b = Bernoulli()\n",
    "T = convert(Vector{Int64},rand(b, n))\n",
    "Y = features*[10, 0, 0, 0, 0, 0, 0, 0, 0, 0].*T  .+ 0.5\n",
    "\n",
    "cf1 = build_forest(false, true, Y, T, features, true, 10, 1000);"
   ]
  },
  {
   "cell_type": "code",
   "execution_count": 9,
   "id": "ca8d237c",
   "metadata": {},
   "outputs": [
    {
     "data": {
      "image/png": "[encoded data removed]"
     },
     "execution_count": 9,
     "metadata": {},
     "output_type": "execute_result"
    }
   ],
   "source": [
    "Xtest = rand(Float64, (1000, size(X, 2)));\n",
    "Xtest[:, 1] =  LinRange(0, 1, 1000);\n",
    "true_effect = Xtest[:, 1].*10;\n",
    "pred1 = apply_forest(cf1, Xtest);\n",
    "plot(Xtest[:, 1], [true_effect, pred1], label=[\"True effect\" \"Estimation\"], title = \"Subsampling honest\", fmt = :png)"
   ]
  },
  {
   "cell_type": "code",
   "execution_count": 10,
   "id": "95a8588b",
   "metadata": {
    "scrolled": true
   },
   "outputs": [
    {
     "data": {
      "text/plain": [
       "Dict{Any, Float64} with 1 entry:\n",
       "  1 => 1.0"
      ]
     },
     "execution_count": 10,
     "metadata": {},
     "output_type": "execute_result"
    }
   ],
   "source": [
    "get_freq(cf1, 3)"
   ]
  },
  {
   "cell_type": "code",
   "execution_count": 11,
   "id": "9d0adbc6",
   "metadata": {},
   "outputs": [
    {
     "data": {
      "text/plain": [
       "Dict{Any, Float64} with 1 entry:\n",
       "  1 => 1.0"
      ]
     },
     "execution_count": 11,
     "metadata": {},
     "output_type": "execute_result"
    }
   ],
   "source": [
    "get_freq(cf1, 5)"
   ]
  },
  {
   "cell_type": "code",
   "execution_count": 12,
   "id": "68acb4e6",
   "metadata": {},
   "outputs": [
    {
     "data": {
      "text/plain": [
       "Dict{Any, Float64} with 10 entries:\n",
       "  5  => 0.0063398\n",
       "  4  => 0.00608066\n",
       "  6  => 0.00591407\n",
       "  7  => 0.00599736\n",
       "  2  => 0.00608529\n",
       "  10 => 0.00617784\n",
       "  9  => 0.00598811\n",
       "  8  => 0.00593258\n",
       "  3  => 0.00602513\n",
       "  1  => 0.945459"
      ]
     },
     "execution_count": 12,
     "metadata": {},
     "output_type": "execute_result"
    }
   ],
   "source": [
    "get_freq(cf1, 10)"
   ]
  },
  {
   "cell_type": "code",
   "execution_count": 13,
   "id": "e2959e9c",
   "metadata": {},
   "outputs": [
    {
     "data": {
      "text/plain": [
       "Dict{Any, Float64} with 10 entries:\n",
       "  5  => 0.0063398\n",
       "  4  => 0.00608066\n",
       "  6  => 0.00591407\n",
       "  7  => 0.00599736\n",
       "  2  => 0.00608529\n",
       "  10 => 0.00617784\n",
       "  9  => 0.00598811\n",
       "  8  => 0.00593258\n",
       "  3  => 0.00602513\n",
       "  1  => 0.945459"
      ]
     },
     "execution_count": 13,
     "metadata": {},
     "output_type": "execute_result"
    }
   ],
   "source": [
    "get_freq(cf1, 1000)"
   ]
  },
  {
   "cell_type": "markdown",
   "id": "e512cf0d",
   "metadata": {},
   "source": [
    "Modèle\n",
    "\n",
    "$$\\Theta(X) = 10 X_1$$\n",
    "\n",
    "$$Y = \\Theta(X) T + \\epsilon$$\n",
    "\n",
    "X est 10 features toutes uniformes sur [0,1].\n",
    "\n",
    "T suit loi bernouilli p=0.5.\n",
    "\n",
    "Epsilon suit loi normale (0,1).\n",
    "\n",
    "$n=10^4$ observations"
   ]
  },
  {
   "cell_type": "code",
   "execution_count": null,
   "id": "5dcef063",
   "metadata": {},
   "outputs": [],
   "source": [
    "Y = features*[10, 0, 0, 0, 0, 0, 0, 0, 0, 0].*T  .+ eps\n",
    "\n",
    "cf1 = build_forest(false, true, Y, T, X, true, 10, 1000);"
   ]
  },
  {
   "cell_type": "code",
   "execution_count": null,
   "id": "9a01b82d",
   "metadata": {
    "scrolled": true
   },
   "outputs": [],
   "source": [
    "get_freq(cf1, 3)"
   ]
  },
  {
   "cell_type": "code",
   "execution_count": null,
   "id": "99511ca6",
   "metadata": {},
   "outputs": [],
   "source": [
    "get_freq(cf1, 5)"
   ]
  },
  {
   "cell_type": "code",
   "execution_count": null,
   "id": "90256257",
   "metadata": {},
   "outputs": [],
   "source": [
    "get_freq(cf1, 10)"
   ]
  },
  {
   "cell_type": "code",
   "execution_count": null,
   "id": "a90d48e3",
   "metadata": {},
   "outputs": [],
   "source": [
    "get_freq(cf1, 1000)"
   ]
  },
  {
   "cell_type": "markdown",
   "id": "fca2cf80",
   "metadata": {},
   "source": [
    "$n=10^5$ maintenant"
   ]
  },
  {
   "cell_type": "markdown",
   "id": "3177cdcc",
   "metadata": {},
   "source": [
    "Modèle\n",
    "\n",
    "$$\\Theta(X) = 10 X_1$$\n",
    "\n",
    "$$Y = \\Theta(X) T + 0.5$$\n",
    "\n",
    "X est 10 features toutes uniformes sur [0,1].\n",
    "\n",
    "T suit loi bernouilli p=0.5.\n",
    "\n",
    "$n=10^5$ observations"
   ]
  },
  {
   "cell_type": "code",
   "execution_count": null,
   "id": "44bbfe55",
   "metadata": {},
   "outputs": [],
   "source": [
    "n, m = 10^5, 10\n",
    "u = Uniform()\n",
    "features = rand(u, (n, m))\n",
    "X = features\n",
    "d = Normal()\n",
    "eps = rand(d, n)\n",
    "b = Bernoulli()\n",
    "T = convert(Vector{Int64},rand(b, n))\n",
    "Y = features*[10, 0, 0, 0, 0, 0, 0, 0, 0, 0].*T  .+ 0.5\n",
    "\n",
    "cf1 = build_forest(false, true, Y, T, features, true, 10, 1000);"
   ]
  },
  {
   "cell_type": "code",
   "execution_count": null,
   "id": "c3e28660",
   "metadata": {
    "scrolled": true
   },
   "outputs": [],
   "source": [
    "get_freq(cf1, 3)"
   ]
  },
  {
   "cell_type": "code",
   "execution_count": null,
   "id": "f49325ec",
   "metadata": {},
   "outputs": [],
   "source": [
    "get_freq(cf1, 5)"
   ]
  },
  {
   "cell_type": "code",
   "execution_count": null,
   "id": "6b4ad767",
   "metadata": {},
   "outputs": [],
   "source": [
    "get_freq(cf1, 10)"
   ]
  },
  {
   "cell_type": "code",
   "execution_count": null,
   "id": "5a1f4ee6",
   "metadata": {},
   "outputs": [],
   "source": [
    "get_freq(cf1, 1000)"
   ]
  },
  {
   "cell_type": "markdown",
   "id": "681f75a2",
   "metadata": {},
   "source": [
    "Modèle\n",
    "\n",
    "$$\\Theta(X) = 10 X_1$$\n",
    "\n",
    "$$Y = \\Theta(X) T + \\epsilon$$\n",
    "\n",
    "X est 10 features toutes uniformes sur [0,1].\n",
    "\n",
    "T suit loi bernouilli p=0.5.\n",
    "\n",
    "Epsilon suit loi normale (0,1).\n",
    "\n",
    "$n=10^5$ observations"
   ]
  },
  {
   "cell_type": "code",
   "execution_count": null,
   "id": "8189e3e7",
   "metadata": {},
   "outputs": [],
   "source": [
    "Y = features*[10, 0, 0, 0, 0, 0, 0, 0, 0, 0].*T  .+ eps\n",
    "\n",
    "cf1 = build_forest(false, true, Y, T, X, true, 10, 1000);"
   ]
  },
  {
   "cell_type": "code",
   "execution_count": null,
   "id": "85589ad3",
   "metadata": {
    "scrolled": true
   },
   "outputs": [],
   "source": [
    "get_freq(cf1, 3)"
   ]
  },
  {
   "cell_type": "code",
   "execution_count": null,
   "id": "0c531405",
   "metadata": {},
   "outputs": [],
   "source": [
    "get_freq(cf1, 5)"
   ]
  },
  {
   "cell_type": "code",
   "execution_count": null,
   "id": "cb4fe18b",
   "metadata": {},
   "outputs": [],
   "source": [
    "get_freq(cf1, 10)"
   ]
  },
  {
   "cell_type": "code",
   "execution_count": null,
   "id": "00d63f94",
   "metadata": {},
   "outputs": [],
   "source": [
    "get_freq(cf1, 1000)"
   ]
  },
  {
   "cell_type": "code",
   "execution_count": null,
   "id": "94487d83",
   "metadata": {},
   "outputs": [],
   "source": []
  },
  {
   "cell_type": "code",
   "execution_count": null,
   "id": "fdcaf7df",
   "metadata": {},
   "outputs": [],
   "source": [
    "n, m = 10^4, 10\n",
    "u = Uniform()\n",
    "features = rand(u, (n, m))\n",
    "d = Normal()\n",
    "eps = rand(d, 10000)\n",
    "labels = cos.(features*[10, 0, 0, 0, 0, 0, 0, 0, 0, 0]) + sin.(features*[0, 0, 2, 0, 0, 0, 3, 0, 0, 0]) .+ eps\n",
    "\n",
    "model = build_forest_oob(labels, features, 10, 1000);"
   ]
  },
  {
   "cell_type": "code",
   "execution_count": null,
   "id": "3fbd53f4",
   "metadata": {},
   "outputs": [],
   "source": [
    "get_freq(model, 3)"
   ]
  },
  {
   "cell_type": "code",
   "execution_count": null,
   "id": "06646f0d",
   "metadata": {},
   "outputs": [],
   "source": [
    "get_freq(model, 5)"
   ]
  },
  {
   "cell_type": "code",
   "execution_count": null,
   "id": "fe8adbfb",
   "metadata": {},
   "outputs": [],
   "source": [
    "get_freq(model, 10)"
   ]
  }
 ],
 "metadata": {
  "celltoolbar": "Éditer les Méta-Données",
  "kernelspec": {
   "display_name": "Julia 1.7.2",
   "language": "julia",
   "name": "julia-1.7"
  },
  "language_info": {
   "file_extension": ".jl",
   "mimetype": "application/julia",
   "name": "julia",
   "version": "1.7.2"
  }
 },
 "nbformat": 4,
 "nbformat_minor": 5
}
