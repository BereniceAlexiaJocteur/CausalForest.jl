{
 "cells": [
  {
   "cell_type": "code",
   "execution_count": 1,
   "id": "8d465bc3",
   "metadata": {},
   "outputs": [],
   "source": [
    "using CausalForest\n",
    "using StatsBase\n",
    "using Distributions"
   ]
  },
  {
   "cell_type": "code",
   "execution_count": 2,
   "id": "50f0557e",
   "metadata": {},
   "outputs": [],
   "source": [
    "n, m = 10^4, 10\n",
    "u = Uniform()\n",
    "features = rand(u, (n, m))\n",
    "X = [features; features]\n",
    "T = convert(Vector{Int64},[ones(n); zeros(n)])\n",
    "Y = X*[10, 0, 0, 0, 0, 0, 0, 0, 0, 0].*T  .+ 0.5\n",
    "\n",
    "cf2 = build_forest(true, false, Y, T, X, true, 10, 500, 100);"
   ]
  },
  {
   "cell_type": "code",
   "execution_count": 3,
   "id": "122f23cf",
   "metadata": {},
   "outputs": [
    {
     "data": {
      "text/plain": [
       "10-element Vector{Float64}:\n",
       " 1.0\n",
       " 0.0\n",
       " 0.0\n",
       " 0.0\n",
       " 0.0\n",
       " 0.0\n",
       " 0.0\n",
       " 0.0\n",
       " 0.0\n",
       " 0.0"
      ]
     },
     "execution_count": 3,
     "metadata": {},
     "output_type": "execute_result"
    }
   ],
   "source": [
    "importance(cf2)"
   ]
  },
  {
   "cell_type": "code",
   "execution_count": 4,
   "id": "40fa8299",
   "metadata": {},
   "outputs": [],
   "source": [
    "Y = X*[10, 0, 0, 0, 0, 0, 0, 0, 0, 0].*T\n",
    "cf3 = build_forest(true, false, Y, T, X, true, 10, 500, 100);"
   ]
  },
  {
   "cell_type": "code",
   "execution_count": 5,
   "id": "839edc4d",
   "metadata": {},
   "outputs": [
    {
     "data": {
      "text/plain": [
       "10-element Vector{Float64}:\n",
       " 1.0\n",
       " 0.0\n",
       " 0.0\n",
       " 0.0\n",
       " 0.0\n",
       " 0.0\n",
       " 0.0\n",
       " 0.0\n",
       " 0.0\n",
       " 0.0"
      ]
     },
     "execution_count": 5,
     "metadata": {},
     "output_type": "execute_result"
    }
   ],
   "source": [
    "importance(cf3)"
   ]
  },
  {
   "cell_type": "code",
   "execution_count": null,
   "id": "1f1c1298",
   "metadata": {},
   "outputs": [],
   "source": []
  },
  {
   "cell_type": "code",
   "execution_count": 6,
   "id": "e131b13d",
   "metadata": {},
   "outputs": [
    {
     "data": {
      "text/plain": [
       "10×1 Matrix{Float64}:\n",
       " 0.9918929774914527\n",
       " 0.0006550416329902028\n",
       " 0.0\n",
       " 0.0003027146979698119\n",
       " 0.0013085940791210695\n",
       " 0.0008573639062424434\n",
       " 0.0011308194739768095\n",
       " 0.0012564125357778634\n",
       " 2.2486405765928288e-5\n",
       " 0.0025735897962739993"
      ]
     },
     "execution_count": 6,
     "metadata": {},
     "output_type": "execute_result"
    }
   ],
   "source": [
    "knn_sensi(cf2,500)"
   ]
  },
  {
   "cell_type": "code",
   "execution_count": 7,
   "id": "4026bb42",
   "metadata": {},
   "outputs": [
    {
     "data": {
      "text/plain": [
       "10×1 Matrix{Float64}:\n",
       " 0.992071440167893\n",
       " 0.00047778198533149184\n",
       " 0.0\n",
       " 0.00012553044589646634\n",
       " 0.0011307659497374275\n",
       " 0.0017614523934757855\n",
       " 0.0009548787052569257\n",
       " 0.0010805025743613646\n",
       " 0.0\n",
       " 0.0023976477937036837"
      ]
     },
     "execution_count": 7,
     "metadata": {},
     "output_type": "execute_result"
    }
   ],
   "source": [
    "knn_sensi(cf3,500)"
   ]
  },
  {
   "cell_type": "code",
   "execution_count": null,
   "id": "be27cb6e",
   "metadata": {},
   "outputs": [],
   "source": []
  }
 ],
 "metadata": {
  "kernelspec": {
   "display_name": "Julia 1.7.2",
   "language": "julia",
   "name": "julia-1.7"
  },
  "language_info": {
   "file_extension": ".jl",
   "mimetype": "application/julia",
   "name": "julia",
   "version": "1.7.2"
  }
 },
 "nbformat": 4,
 "nbformat_minor": 5
}
