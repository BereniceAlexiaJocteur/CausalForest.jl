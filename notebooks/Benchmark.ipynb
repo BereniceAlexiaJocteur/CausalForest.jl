{
 "cells": [
  {
   "cell_type": "code",
   "execution_count": 7,
   "id": "6e471994",
   "metadata": {},
   "outputs": [],
   "source": [
    "using CausalForest\n",
    "using RCall\n",
    "using StatsBase\n",
    "using BenchmarkTools"
   ]
  },
  {
   "cell_type": "code",
   "execution_count": 8,
   "id": "94636cad",
   "metadata": {},
   "outputs": [],
   "source": [
    "indices,X,T,Y = load_data(\"causal\")\n",
    "reval(\"set.seed(1)\")\n",
    "Xtest_1 = rcopy(R\"matrix(runif(10000),nrow=1000)\")\n",
    "true_effect_1 = Xtest_1[:, 1].>0.5;"
   ]
  },
  {
   "cell_type": "markdown",
   "id": "1ae94232",
   "metadata": {},
   "source": [
    "# Critère exact : centré honnête"
   ]
  },
  {
   "cell_type": "markdown",
   "id": "b0ca7f77",
   "metadata": {},
   "source": [
    "### Subsampling"
   ]
  },
  {
   "cell_type": "code",
   "execution_count": 10,
   "id": "1e55d606",
   "metadata": {},
   "outputs": [
    {
     "name": "stdout",
     "output_type": "stream",
     "text": [
      "  157.057 s (47559709 allocations: 6.03 GiB)\n",
      "  11.721 s (139309992 allocations: 2.31 GiB)\n",
      "0.092194758207655452.6772147781223152e-5"
     ]
    }
   ],
   "source": [
    "errors_7 = zeros(100)\n",
    "\n",
    "cf = @btime build_forest(true, false, true, Y, T, X, true, 10, 500, 0.5, 0.5, -1, 5, 10, 2000)\n",
    "pred = @btime apply_forest(cf, Xtest_1)\n",
    "errors_7[1] = rmsd(float(true_effect_1), pred)\n",
    "for i in 2:100\n",
    "    @rput i\n",
    "    reval(\"set.seed(i)\")\n",
    "    Xtest = rcopy(R\"matrix(runif(10000),nrow=1000)\")\n",
    "    pred = apply_forest(cf, Xtest)\n",
    "    true_effect = Xtest[:, 1].>0.5\n",
    "    errors_7[i] = rmsd(float(true_effect), pred)\n",
    "end\n",
    "print(mean(errors_7))\n",
    "print(var(errors_7))"
   ]
  },
  {
   "cell_type": "markdown",
   "id": "f64f640a",
   "metadata": {},
   "source": [
    "### Bootstrap"
   ]
  },
  {
   "cell_type": "code",
   "execution_count": 11,
   "id": "02ac018f",
   "metadata": {},
   "outputs": [
    {
     "name": "stdout",
     "output_type": "stream",
     "text": [
      "  191.654 s (48696357 allocations: 6.26 GiB)\n",
      "  12.871 s (151128883 allocations: 2.49 GiB)\n",
      "0.094367957879971382.3688574876047828e-5"
     ]
    }
   ],
   "source": [
    "errors_8 = zeros(100)\n",
    "\n",
    "cf = @btime build_forest(true, true, true, Y, T, X, true, 10, 500, 0.5, 0.5, -1, 5, 10, 2000)\n",
    "pred = @btime apply_forest(cf, Xtest_1)\n",
    "errors_8[1] = rmsd(float(true_effect_1), pred)\n",
    "for i in 2:100\n",
    "    @rput i\n",
    "    reval(\"set.seed(i)\")\n",
    "    Xtest = rcopy(R\"matrix(runif(10000),nrow=1000)\")\n",
    "    pred = apply_forest(cf, Xtest)\n",
    "    true_effect = Xtest[:, 1].>0.5\n",
    "    errors_8[i] = rmsd(float(true_effect), pred)\n",
    "end\n",
    "print(mean(errors_8))\n",
    "print(var(errors_8))"
   ]
  },
  {
   "cell_type": "markdown",
   "id": "1e823fe1",
   "metadata": {},
   "source": [
    "# Critère alternatif (différence non centrée) honnête"
   ]
  },
  {
   "cell_type": "markdown",
   "id": "9bdad164",
   "metadata": {},
   "source": [
    "### Subsampling"
   ]
  },
  {
   "cell_type": "code",
   "execution_count": 12,
   "id": "4ea448cd",
   "metadata": {},
   "outputs": [
    {
     "name": "stdout",
     "output_type": "stream",
     "text": [
      "  14.265 s (1568787 allocations: 405.13 MiB)\n",
      "  11.841 s (132298315 allocations: 2.21 GiB)\n",
      "0.098892343428435753.0791265443823704e-5"
     ]
    }
   ],
   "source": [
    "errors_11 = zeros(100)\n",
    "\n",
    "cf = @btime build_forest_1(false, false, true, Y, T, X, true, 10, 500, 0.5, 0.5, -1, 5, 10, 2000)\n",
    "pred = @btime apply_forest_1(cf, Xtest_1)\n",
    "errors_11[1] = rmsd(float(true_effect_1), pred)\n",
    "for i in 2:100\n",
    "    @rput i\n",
    "    reval(\"set.seed(i)\")\n",
    "    Xtest = rcopy(R\"matrix(runif(10000),nrow=1000)\")\n",
    "    pred = apply_forest_1(cf, Xtest)\n",
    "    true_effect = Xtest[:, 1].>0.5\n",
    "    errors_11[i] = rmsd(float(true_effect), pred)\n",
    "end\n",
    "print(mean(errors_11))\n",
    "print(var(errors_11))"
   ]
  },
  {
   "cell_type": "markdown",
   "id": "ac2b6725",
   "metadata": {},
   "source": [
    "### Bootstrap"
   ]
  },
  {
   "cell_type": "code",
   "execution_count": 14,
   "id": "d89d2d25",
   "metadata": {},
   "outputs": [
    {
     "name": "stdout",
     "output_type": "stream",
     "text": [
      "  41.349 s (2963560 allocations: 669.71 MiB)\n",
      "  10.648 s (137272161 allocations: 2.28 GiB)\n",
      "0.125170037001155455.246458417280409e-5"
     ]
    }
   ],
   "source": [
    "errors_12 = zeros(100)\n",
    "\n",
    "cf = @btime build_forest_1(false, true, true, Y, T, X, true, 10, 500, 0.5, 0.5, -1, 5, 10, 2000)\n",
    "pred = @btime apply_forest_1(cf, Xtest_1)\n",
    "errors_12[1] = rmsd(float(true_effect_1), pred)\n",
    "for i in 2:100\n",
    "    @rput i\n",
    "    reval(\"set.seed(i)\")\n",
    "    Xtest = rcopy(R\"matrix(runif(10000),nrow=1000)\")\n",
    "    pred = apply_forest_1(cf, Xtest)\n",
    "    true_effect = Xtest[:, 1].>0.5\n",
    "    errors_12[i] = rmsd(float(true_effect), pred)\n",
    "end\n",
    "print(mean(errors_12))\n",
    "print(var(errors_12))"
   ]
  },
  {
   "cell_type": "code",
   "execution_count": null,
   "id": "96b0132d",
   "metadata": {},
   "outputs": [],
   "source": []
  }
 ],
 "metadata": {
  "kernelspec": {
   "display_name": "Julia 1.7.2",
   "language": "julia",
   "name": "julia-1.7"
  },
  "language_info": {
   "file_extension": ".jl",
   "mimetype": "application/julia",
   "name": "julia",
   "version": "1.7.2"
  }
 },
 "nbformat": 4,
 "nbformat_minor": 5
}
