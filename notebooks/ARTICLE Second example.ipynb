{
 "cells": [
  {
   "cell_type": "code",
   "execution_count": 1,
   "id": "ee6834c9",
   "metadata": {},
   "outputs": [],
   "source": [
    "using CausalForest\n",
    "using RCall\n",
    "using StatsBase\n",
    "using Statistics\n",
    "using Random\n",
    "using Distributions"
   ]
  },
  {
   "cell_type": "code",
   "execution_count": 2,
   "id": "a54c403f",
   "metadata": {},
   "outputs": [
    {
     "data": {
      "text/plain": [
       "get_freq (generic function with 2 methods)"
      ]
     },
     "execution_count": 2,
     "metadata": {},
     "output_type": "execute_result"
    }
   ],
   "source": [
    "function get_all_nodes_in_tree!(\n",
    "    tree ,\n",
    "    depth = 3,\n",
    "    result  = []\n",
    "    )\n",
    "    if hasproperty(tree, :featid) && depth > 0\n",
    "        push!(result, tree.featid)\n",
    "        get_all_nodes_in_tree!(tree.left, depth-1, result)\n",
    "        get_all_nodes_in_tree!(tree.right, depth-1, result)\n",
    "    end\n",
    "    return result\n",
    "end\n",
    "\n",
    "function get_freq(forest, depth=3) \n",
    "    ensemble = forest.trees\n",
    "    n_trees = length(ensemble)\n",
    "    res = []\n",
    "    for i = 1:n_trees\n",
    "        append!(res, get_all_nodes_in_tree!(forest.trees[i].tree, depth))\n",
    "    end\n",
    "    return proportionmap(res)\n",
    "end"
   ]
  },
  {
   "cell_type": "code",
   "execution_count": 15,
   "id": "53c7a54b",
   "metadata": {},
   "outputs": [
    {
     "name": "stdout",
     "output_type": "stream",
     "text": [
      "\u001b[1m2×3 DataFrame\u001b[0m\n",
      "\u001b[1m Row \u001b[0m│\u001b[1m method \u001b[0m\u001b[1m RMSE     \u001b[0m\u001b[1m imp1     \u001b[0m\n",
      "\u001b[1m     \u001b[0m│\u001b[90m String \u001b[0m\u001b[90m Float64  \u001b[0m\u001b[90m Float64  \u001b[0m\n",
      "─────┼────────────────────────────\n",
      "   1 │ GRF     0.320771  0.77728\n",
      "   2 │ HTERF   0.208716  0.999835"
     ]
    }
   ],
   "source": [
    "Random.seed!(123);\n",
    "n, m = 10^4, 3;\n",
    "@rlibrary grf\n",
    "R\"\"\"\n",
    "set.seed(123)\n",
    "res <- data.frame()\n",
    "\"\"\"\n",
    "errors_grf = zeros(1)\n",
    "errors_hterf = zeros(1)\n",
    "hterf1 = zeros(1)\n",
    "grf1 = zeros(1)\n",
    "for j in 1:1\n",
    "    u = Uniform(-pi,pi);\n",
    "    features = rand(u, (n, m));\n",
    "    X = features;\n",
    "    b = Bernoulli();\n",
    "    T = convert(Vector{Int64},rand(b, n));\n",
    "    Y = cos.(features[:,2])+sin.(features[:,1]).*(T.+2).^3\n",
    "    Xtest = rand(u, (n, m));\n",
    "    tau = 19*sin.(Xtest[:,1])\n",
    "    @rput X T Y Xtest tau\n",
    "    R\"\"\"\n",
    "    cf <- grf::causal_forest(X, Y, T, num.trees=500, tune.num.trees=500, sample.fraction=0.7, ci.group.size=1)\n",
    "    tau.hat <- predict(cf, Xtest)$predictions\n",
    "    mse = sqrt(mean((tau.hat - tau)^2))\n",
    "    g_1 = grf::variable_importance(cf)[1]\n",
    "    \"\"\"\n",
    "    @rget mse g_1 \n",
    "    cf = build_forest(false, true, Y, T, X, true, m, 500, 500)\n",
    "    tauhat = apply_forest(cf, Xtest)\n",
    "    hterf1[j] = importance(cf)[1]\n",
    "    errors_hterf[j] = rmsd(tau, tauhat)\n",
    "    grf1[j] = g_1\n",
    "    errors_grf[j] = mse\n",
    "end\n",
    "err_hterf = mean(errors_hterf)\n",
    "err_grf = mean(errors_grf)\n",
    "grf_1 = mean(grf1)\n",
    "hterf_1 = mean(hterf1)\n",
    "@rput err_grf err_hterf grf_1 hterf_1\n",
    "R\"\"\"\n",
    "dfgrf = data.frame(method = \"GRF\", RMSE = err_grf, imp1 = grf_1)\n",
    "dfhterf = data.frame(method = \"HTERF\", RMSE = err_hterf, imp1 = hterf_1)\n",
    "res = rbind(res, dfgrf, dfhterf)\n",
    "\n",
    "\"\"\"\n",
    "@rget res\n",
    "print(res)"
   ]
  },
  {
   "cell_type": "code",
   "execution_count": null,
   "id": "909465c2",
   "metadata": {},
   "outputs": [],
   "source": []
  }
 ],
 "metadata": {
  "kernelspec": {
   "display_name": "Julia 1.7.2",
   "language": "julia",
   "name": "julia-1.7"
  },
  "language_info": {
   "file_extension": ".jl",
   "mimetype": "application/julia",
   "name": "julia",
   "version": "1.7.2"
  }
 },
 "nbformat": 4,
 "nbformat_minor": 5
}
