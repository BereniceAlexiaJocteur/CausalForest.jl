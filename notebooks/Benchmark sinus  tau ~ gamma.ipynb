{
 "cells": [
  {
   "cell_type": "code",
   "execution_count": 1,
   "id": "53b7f27d",
   "metadata": {},
   "outputs": [],
   "source": [
    "using CausalForest\n",
    "using StatsBase\n",
    "using Plots\n",
    "using Random\n",
    "using Distributions\n",
    "using RCall\n",
    "using BenchmarkTools\n",
    "using DelimitedFiles"
   ]
  },
  {
   "cell_type": "code",
   "execution_count": 2,
   "id": "2a4cd378",
   "metadata": {},
   "outputs": [],
   "source": [
    "Random.seed!(123);\n",
    "n, m = 10^4, 10;\n",
    "u = Uniform(0,10);\n",
    "features = rand(u, (n, m));\n",
    "X = features;\n",
    "d = Normal();\n",
    "eps = rand(d, n);\n",
    "b = Bernoulli();\n",
    "T = convert(Vector{Int64},rand(b, n));\n",
    "Y = 25*sin.(features*[1, 0, 0, 0, 0, 0, 0, 0, 0, 0]).*T  + features*[0, 0, 2, 0, 0, 0, 3, 0, 0, 0];"
   ]
  },
  {
   "cell_type": "code",
   "execution_count": 3,
   "id": "77832bf8",
   "metadata": {},
   "outputs": [
    {
     "data": {
      "text/plain": [
       "10000×12 Matrix{Float64}:\n",
       " 9.063     0.273863  9.2398     …  8.02953    8.61508   1.0   41.2264\n",
       " 4.43494   8.65398   4.38668       4.26558    5.79587   0.0   10.2415\n",
       " 7.45673   7.98071   9.35901       7.38559    9.99516   0.0   27.5137\n",
       " 5.12083   8.25448   8.79223       0.835565   8.06585   0.0   24.796\n",
       " 2.53849   5.30423   5.84012       0.570453   9.6668    0.0   22.6625\n",
       " 3.34152   2.66141   9.8669     …  0.92876    9.49805   1.0   20.3578\n",
       " 4.27328   8.75436   0.0258112     5.12688    2.24987   1.0  -13.6265\n",
       " 8.67547   7.27313   0.151025      0.0873517  0.765286  0.0   25.0373\n",
       " 0.991336  1.20752   5.87184       8.38971    9.81301   0.0   20.8175\n",
       " 1.25287   6.88003   3.64868       4.16181    3.00126   0.0   26.2578\n",
       " 6.92209   0.298644  4.84843    …  8.07655    1.49476   0.0   36.4211\n",
       " 1.36551   1.07227   0.570038      2.53062    7.60498   1.0   45.4647\n",
       " 0.320967  6.45858   4.85281       9.74512    1.98433   0.0   32.6943\n",
       " ⋮                              ⋱                       ⋮    \n",
       " 1.41477   4.12499   4.66667       7.15208    2.01061   1.0   40.7249\n",
       " 8.90644   0.206914  4.58998       6.88024    4.0675    0.0   37.4342\n",
       " 9.06998   4.30907   5.78293    …  2.16229    2.83885   0.0   21.0071\n",
       " 5.36969   2.79123   7.52206       6.62058    0.337787  1.0    6.84385\n",
       " 4.02403   7.35939   6.73502       4.1632     4.9581    0.0   20.2401\n",
       " 5.42829   1.81778   9.49776       4.32137    1.39286   0.0   19.9342\n",
       " 4.09515   0.94505   3.75739       0.426026   3.54751   1.0   10.4282\n",
       " 5.28518   8.82277   2.73882    …  3.74575    6.67028   0.0   32.327\n",
       " 5.03432   1.86886   8.78118       8.52253    7.07487   1.0   18.0789\n",
       " 1.51227   7.42091   6.94678       9.10512    2.08088   0.0   18.0307\n",
       " 9.87606   3.9929    7.10062       5.31304    1.92731   1.0   27.0783\n",
       " 8.55271   2.31435   0.181986      6.36457    2.56864   0.0   18.5483"
      ]
     },
     "execution_count": 3,
     "metadata": {},
     "output_type": "execute_result"
    }
   ],
   "source": [
    "df = hcat(X,T,Y)"
   ]
  },
  {
   "cell_type": "code",
   "execution_count": 4,
   "id": "8133f0ae",
   "metadata": {},
   "outputs": [],
   "source": [
    "#header = [\"X1\" \"X2\" \"X3\" \"X4\" \"X5\" \"X6\" \"X7\" \"X8\" \"X9\" \"X10\" \"T\" \"Y\"]\n",
    "#writedlm(\"sinus_causal_4.csv\", [header ; df], \",\")"
   ]
  },
  {
   "cell_type": "code",
   "execution_count": 5,
   "id": "f7a37ce6",
   "metadata": {},
   "outputs": [],
   "source": [
    "reval(\"set.seed(1)\")\n",
    "Xtest_1 = rcopy(R\"matrix(runif(10000,0,10),nrow=1000)\")\n",
    "true_effect_1 = 25*sin.(Xtest_1[:, 1]);"
   ]
  },
  {
   "cell_type": "code",
   "execution_count": 6,
   "id": "f724ac5e",
   "metadata": {},
   "outputs": [
    {
     "data": {
      "text/plain": [
       "get_freq (generic function with 2 methods)"
      ]
     },
     "execution_count": 6,
     "metadata": {},
     "output_type": "execute_result"
    }
   ],
   "source": [
    "function get_all_nodes_in_tree!(\n",
    "    tree ,\n",
    "    depth = 3,\n",
    "    result  = []\n",
    "    )\n",
    "    if hasproperty(tree, :featid) && depth > 0\n",
    "        push!(result, tree.featid)\n",
    "        get_all_nodes_in_tree!(tree.left, depth-1, result)\n",
    "        get_all_nodes_in_tree!(tree.right, depth-1, result)\n",
    "    end\n",
    "    return result\n",
    "end\n",
    "\n",
    "function get_freq(forest, depth=3) \n",
    "    ensemble = forest.trees\n",
    "    n_trees = length(ensemble)\n",
    "    res = []\n",
    "    for i = 1:n_trees\n",
    "        append!(res, get_all_nodes_in_tree!(forest.trees[i].tree, depth))\n",
    "    end\n",
    "    return proportionmap(res)\n",
    "end"
   ]
  },
  {
   "cell_type": "markdown",
   "id": "f8fe7aa5",
   "metadata": {},
   "source": [
    "# Critère nouveau"
   ]
  },
  {
   "cell_type": "markdown",
   "id": "ea5dcdae",
   "metadata": {},
   "source": [
    "### Subsampling"
   ]
  },
  {
   "cell_type": "code",
   "execution_count": null,
   "id": "436059a4",
   "metadata": {},
   "outputs": [],
   "source": [
    "errors_11 = zeros(100)\n",
    "\n",
    "cf = build_forest(false, true, Y, T, X, true, 10, 500, 500)\n",
    "pred = apply_forest(cf, Xtest_1)\n",
    "errors_11[1] = rmsd(float(true_effect_1), pred)\n",
    "for i in 2:100\n",
    "    @rput i\n",
    "    reval(\"set.seed(i)\")\n",
    "    Xtest = rcopy(R\"matrix(runif(10000,0,10),nrow=1000)\")\n",
    "    pred = apply_forest(cf, Xtest)\n",
    "    true_effect = 25*sin.(Xtest[:, 1])\n",
    "    errors_11[i] = rmsd(float(true_effect), pred)\n",
    "end\n",
    "println(mean(errors_11))\n",
    "println(var(errors_11))"
   ]
  },
  {
   "cell_type": "code",
   "execution_count": null,
   "id": "579cf4b4",
   "metadata": {},
   "outputs": [],
   "source": [
    "ind = sortperm(Xtest_1[:, 1])\n",
    "pred = apply_forest(cf, Xtest_1)\n",
    "plot(Xtest_1[ind, 1], [true_effect_1[ind], pred[ind]], label=[\"True effect\" \"Estimation\"], title = \"Subsampling honest\", fmt = :png)"
   ]
  },
  {
   "cell_type": "code",
   "execution_count": null,
   "id": "a0501647",
   "metadata": {},
   "outputs": [],
   "source": [
    "get_freq(cf, 3)"
   ]
  },
  {
   "cell_type": "code",
   "execution_count": null,
   "id": "713bb1b4",
   "metadata": {},
   "outputs": [],
   "source": [
    "get_freq(cf, 5)"
   ]
  },
  {
   "cell_type": "code",
   "execution_count": null,
   "id": "b59aff3a",
   "metadata": {},
   "outputs": [],
   "source": [
    "get_freq(cf, 10)"
   ]
  },
  {
   "cell_type": "markdown",
   "id": "fa847f58",
   "metadata": {},
   "source": [
    "### Bootstrap"
   ]
  },
  {
   "cell_type": "code",
   "execution_count": null,
   "id": "79e98dc1",
   "metadata": {},
   "outputs": [],
   "source": [
    "errors_12 = zeros(100)\n",
    "\n",
    "cf = build_forest(true, true, Y, T, X, true, 10, 500, 500)\n",
    "pred = apply_forest(cf, Xtest_1)\n",
    "errors_12[1] = rmsd(float(true_effect_1), pred)\n",
    "for i in 2:100\n",
    "    @rput i\n",
    "    reval(\"set.seed(i)\")\n",
    "    Xtest = rcopy(R\"matrix(runif(10000,0,10),nrow=1000)\")\n",
    "    pred = apply_forest(cf, Xtest)\n",
    "    true_effect = 25*sin.(Xtest[:, 1])\n",
    "    errors_12[i] = rmsd(float(true_effect), pred)\n",
    "end\n",
    "println(mean(errors_12))\n",
    "println(var(errors_12))"
   ]
  },
  {
   "cell_type": "code",
   "execution_count": null,
   "id": "7f825b73",
   "metadata": {},
   "outputs": [],
   "source": [
    "ind = sortperm(Xtest_1[:, 1])\n",
    "pred = apply_forest(cf, Xtest_1)\n",
    "plot(Xtest_1[ind, 1], [true_effect_1[ind], pred[ind]], label=[\"True effect\" \"Estimation\"], title = \"Bootstrap honest\", fmt = :png)"
   ]
  },
  {
   "cell_type": "code",
   "execution_count": null,
   "id": "b6bac07e",
   "metadata": {},
   "outputs": [],
   "source": [
    "get_freq(cf, 3)"
   ]
  },
  {
   "cell_type": "code",
   "execution_count": null,
   "id": "2730fa55",
   "metadata": {},
   "outputs": [],
   "source": [
    "get_freq(cf, 5)"
   ]
  },
  {
   "cell_type": "code",
   "execution_count": null,
   "id": "b1535fe0",
   "metadata": {},
   "outputs": [],
   "source": [
    "get_freq(cf, 10)"
   ]
  },
  {
   "cell_type": "code",
   "execution_count": null,
   "id": "7a61c6ff",
   "metadata": {},
   "outputs": [],
   "source": []
  }
 ],
 "metadata": {
  "kernelspec": {
   "display_name": "Julia 1.7.2",
   "language": "julia",
   "name": "julia-1.7"
  },
  "language_info": {
   "file_extension": ".jl",
   "mimetype": "application/julia",
   "name": "julia",
   "version": "1.7.2"
  }
 },
 "nbformat": 4,
 "nbformat_minor": 5
}
