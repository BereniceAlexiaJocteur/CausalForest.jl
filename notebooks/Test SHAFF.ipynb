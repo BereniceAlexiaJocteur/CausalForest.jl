{
 "cells": [
  {
   "cell_type": "code",
   "execution_count": 1,
   "id": "65fda159",
   "metadata": {},
   "outputs": [],
   "source": [
    "using CausalForest\n",
    "using StatsBase\n",
    "using Distributions"
   ]
  },
  {
   "cell_type": "code",
   "execution_count": 2,
   "id": "f82af3d9",
   "metadata": {},
   "outputs": [],
   "source": [
    "indices,X,T,Y = load_data(\"causal\");\n",
    "cf1 = build_forest(true, false, Y, T, X, false, -1, 100);"
   ]
  },
  {
   "cell_type": "code",
   "execution_count": 3,
   "id": "f9ae4dae",
   "metadata": {},
   "outputs": [
    {
     "data": {
      "text/plain": [
       "10×1 Matrix{Float64}:\n",
       " 0.0\n",
       " 0.0\n",
       " 0.0\n",
       " 0.0\n",
       " 0.0\n",
       " 0.21134203086843772\n",
       " 0.0\n",
       " 0.7432656448005075\n",
       " 0.0\n",
       " 0.04539232259554949"
      ]
     },
     "execution_count": 3,
     "metadata": {},
     "output_type": "execute_result"
    }
   ],
   "source": [
    "sens = shaff(cf1,50)"
   ]
  },
  {
   "cell_type": "code",
   "execution_count": 4,
   "id": "8d9ac415",
   "metadata": {},
   "outputs": [
    {
     "data": {
      "text/plain": [
       "0.9999999982644947"
      ]
     },
     "execution_count": 4,
     "metadata": {},
     "output_type": "execute_result"
    }
   ],
   "source": [
    "sum(sens)"
   ]
  },
  {
   "cell_type": "code",
   "execution_count": null,
   "id": "8998febb",
   "metadata": {},
   "outputs": [],
   "source": []
  }
 ],
 "metadata": {
  "kernelspec": {
   "display_name": "Julia 1.7.2",
   "language": "julia",
   "name": "julia-1.7"
  },
  "language_info": {
   "file_extension": ".jl",
   "mimetype": "application/julia",
   "name": "julia",
   "version": "1.7.2"
  }
 },
 "nbformat": 4,
 "nbformat_minor": 5
}
