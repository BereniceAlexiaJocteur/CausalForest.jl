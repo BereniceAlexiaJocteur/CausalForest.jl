{
 "cells": [
  {
   "cell_type": "code",
   "execution_count": 1,
   "id": "7839d443",
   "metadata": {},
   "outputs": [
    {
     "name": "stderr",
     "output_type": "stream",
     "text": [
      "┌ Info: Precompiling CausalForest [31bdf679-24a7-499a-9be9-b214c66174ea]\n",
      "└ @ Base loading.jl:1423\n"
     ]
    }
   ],
   "source": [
    "using CausalForest\n",
    "using Plots\n",
    "using StatsBase"
   ]
  },
  {
   "cell_type": "code",
   "execution_count": 2,
   "id": "542ca400",
   "metadata": {},
   "outputs": [],
   "source": [
    "indices,X,T,Y = load_data(\"causal\");\n",
    "Xtest = rand(Float64, (1000, size(X, 2)));\n",
    "Xtest[:, 1] =  LinRange(0, 1, 1000);\n",
    "true_effect = Xtest[:, 1].>0.5;"
   ]
  },
  {
   "cell_type": "markdown",
   "id": "2492ddc8",
   "metadata": {},
   "source": [
    "# Subsampling not honest"
   ]
  },
  {
   "cell_type": "code",
   "execution_count": null,
   "id": "1814d8a8",
   "metadata": {},
   "outputs": [],
   "source": [
    "cf1 = build_forest_2(false, false, false, Y, T, X, false, -1, 1, 0.7, 0.5, -1, 10, 20);\n",
    "print(\"fin\")\n",
    "pred1 = apply_forest_2(cf1, Xtest);"
   ]
  },
  {
   "cell_type": "code",
   "execution_count": null,
   "id": "1f1d8da1",
   "metadata": {},
   "outputs": [],
   "source": [
    "pred1"
   ]
  },
  {
   "cell_type": "code",
   "execution_count": null,
   "id": "fa147292",
   "metadata": {},
   "outputs": [],
   "source": [
    "plot(Xtest[:, 1], [true_effect, pred1], label=[\"True effect\" \"Estimation\"], title = \"No centering no bootstrap no honest\", fmt = :png)"
   ]
  },
  {
   "cell_type": "code",
   "execution_count": null,
   "id": "25b0db72",
   "metadata": {},
   "outputs": [],
   "source": [
    "rmsd(float(true_effect), pred1)"
   ]
  },
  {
   "cell_type": "code",
   "execution_count": null,
   "id": "6cb1e214",
   "metadata": {},
   "outputs": [],
   "source": [
    "importance(cf1)"
   ]
  },
  {
   "cell_type": "markdown",
   "id": "2bd0049c",
   "metadata": {},
   "source": [
    "# Subsampling honest"
   ]
  },
  {
   "cell_type": "code",
   "execution_count": 9,
   "id": "901b7813",
   "metadata": {},
   "outputs": [],
   "source": [
    "cf3 = build_forest_1(false, false, true, Y, T, X, false, -1, 100);\n",
    "pred3 = apply_forest_1(cf3, Xtest);"
   ]
  },
  {
   "cell_type": "code",
   "execution_count": 10,
   "id": "f2c61655",
   "metadata": {},
   "outputs": [
    {
     "data": {
      "text/plain": [
       "0.11687687549539566"
      ]
     },
     "execution_count": 10,
     "metadata": {},
     "output_type": "execute_result"
    }
   ],
   "source": [
    "rmsd(float(true_effect), pred3)"
   ]
  },
  {
   "cell_type": "markdown",
   "id": "897d790c",
   "metadata": {},
   "source": [
    "# Bootstrap not honest"
   ]
  },
  {
   "cell_type": "code",
   "execution_count": 11,
   "id": "56f04479",
   "metadata": {},
   "outputs": [],
   "source": [
    "cf5 = build_forest_1(false, true, false, Y, T, X, false, -1, 100);\n",
    "pred5 = apply_forest_1(cf5, Xtest);"
   ]
  },
  {
   "cell_type": "code",
   "execution_count": 12,
   "id": "51e03b7e",
   "metadata": {},
   "outputs": [
    {
     "data": {
      "text/plain": [
       "0.244217823374944"
      ]
     },
     "execution_count": 12,
     "metadata": {},
     "output_type": "execute_result"
    }
   ],
   "source": [
    "rmsd(float(true_effect), pred5)"
   ]
  },
  {
   "cell_type": "markdown",
   "id": "0dd6f040",
   "metadata": {},
   "source": [
    "# Bootstrap honest"
   ]
  },
  {
   "cell_type": "code",
   "execution_count": 13,
   "id": "849f274f",
   "metadata": {},
   "outputs": [],
   "source": [
    "cf7 = build_forest_1(false, true, true, Y, T, X, false, -1, 100);\n",
    "pred7 = apply_forest_1(cf7, Xtest);"
   ]
  },
  {
   "cell_type": "code",
   "execution_count": 14,
   "id": "4611f7ca",
   "metadata": {},
   "outputs": [
    {
     "data": {
      "text/plain": [
       "0.14553663653599877"
      ]
     },
     "execution_count": 14,
     "metadata": {},
     "output_type": "execute_result"
    }
   ],
   "source": [
    "rmsd(float(true_effect), pred7)"
   ]
  },
  {
   "cell_type": "markdown",
   "id": "456ef8c3",
   "metadata": {},
   "source": [
    "# 500 arbres"
   ]
  },
  {
   "cell_type": "markdown",
   "id": "2125537f",
   "metadata": {},
   "source": [
    "# Subsampling not honest"
   ]
  },
  {
   "cell_type": "code",
   "execution_count": 15,
   "id": "711757d6",
   "metadata": {},
   "outputs": [],
   "source": [
    "cf1 = build_forest_1(false, false, false, Y, T, X, false, -1, 500);\n",
    "pred1 = apply_forest_1(cf1, Xtest);"
   ]
  },
  {
   "cell_type": "code",
   "execution_count": 16,
   "id": "5c862257",
   "metadata": {},
   "outputs": [
    {
     "data": {
      "text/plain": [
       "0.22255104971238066"
      ]
     },
     "execution_count": 16,
     "metadata": {},
     "output_type": "execute_result"
    }
   ],
   "source": [
    "rmsd(float(true_effect), pred1)"
   ]
  },
  {
   "cell_type": "markdown",
   "id": "b9ecc40d",
   "metadata": {},
   "source": [
    "# Subsampling honest"
   ]
  },
  {
   "cell_type": "code",
   "execution_count": 17,
   "id": "d18ad95b",
   "metadata": {},
   "outputs": [],
   "source": [
    "cf3 = build_forest_1(false, false, true, Y, T, X, false, -1, 500);\n",
    "pred3 = apply_forest_1(cf3, Xtest);"
   ]
  },
  {
   "cell_type": "code",
   "execution_count": 18,
   "id": "92bbcca1",
   "metadata": {},
   "outputs": [
    {
     "data": {
      "text/plain": [
       "0.10422010575498047"
      ]
     },
     "execution_count": 18,
     "metadata": {},
     "output_type": "execute_result"
    }
   ],
   "source": [
    "rmsd(float(true_effect), pred3)"
   ]
  },
  {
   "cell_type": "markdown",
   "id": "7959ca44",
   "metadata": {},
   "source": [
    "# Bootstrap not honest"
   ]
  },
  {
   "cell_type": "code",
   "execution_count": 19,
   "id": "ec8d5494",
   "metadata": {},
   "outputs": [],
   "source": [
    "cf5 = build_forest_1(false, true, false, Y, T, X, false, -1, 500);\n",
    "pred5 = apply_forest_1(cf5, Xtest);"
   ]
  },
  {
   "cell_type": "code",
   "execution_count": 20,
   "id": "0cce048c",
   "metadata": {},
   "outputs": [
    {
     "data": {
      "text/plain": [
       "0.22448476408497128"
      ]
     },
     "execution_count": 20,
     "metadata": {},
     "output_type": "execute_result"
    }
   ],
   "source": [
    "rmsd(float(true_effect), pred5)"
   ]
  },
  {
   "cell_type": "markdown",
   "id": "b03e7285",
   "metadata": {},
   "source": [
    "# Bootstrap honest"
   ]
  },
  {
   "cell_type": "code",
   "execution_count": 21,
   "id": "8911dda3",
   "metadata": {},
   "outputs": [],
   "source": [
    "cf7 = build_forest_1(false, true, true, Y, T, X, false, -1, 500);\n",
    "pred7 = apply_forest_1(cf7, Xtest);"
   ]
  },
  {
   "cell_type": "code",
   "execution_count": 22,
   "id": "d64be017",
   "metadata": {},
   "outputs": [
    {
     "data": {
      "text/plain": [
       "0.1283746638066473"
      ]
     },
     "execution_count": 22,
     "metadata": {},
     "output_type": "execute_result"
    }
   ],
   "source": [
    "rmsd(float(true_effect), pred7)"
   ]
  },
  {
   "cell_type": "code",
   "execution_count": 23,
   "id": "8c2dee7a",
   "metadata": {},
   "outputs": [
    {
     "data": {
      "image/png": "[encoded data removed]"
     },
     "execution_count": 23,
     "metadata": {},
     "output_type": "execute_result"
    }
   ],
   "source": [
    "plot(Xtest[:, 1], [true_effect, pred7], label=[\"True effect\" \"Estimation\"], title = \"No centering bootstrap honest\", fmt = :png)"
   ]
  },
  {
   "cell_type": "code",
   "execution_count": 25,
   "id": "781c45d2",
   "metadata": {},
   "outputs": [
    {
     "data": {
      "text/plain": [
       "10-element Vector{Float64}:\n",
       " 0.12129028309028791\n",
       " 0.07689532074726445\n",
       " 0.05671183814611042\n",
       " 0.1316037091205837\n",
       " 0.06058117505168635\n",
       " 0.05103547512627368\n",
       " 0.17600944483052655\n",
       " 0.18922265542080977\n",
       " 0.06447286058255128\n",
       " 0.07217723788390583"
      ]
     },
     "execution_count": 25,
     "metadata": {},
     "output_type": "execute_result"
    }
   ],
   "source": [
    "importance(cf7)"
   ]
  },
  {
   "cell_type": "code",
   "execution_count": null,
   "id": "f72ba76d",
   "metadata": {},
   "outputs": [],
   "source": []
  }
 ],
 "metadata": {
  "kernelspec": {
   "display_name": "Julia 1.7.2",
   "language": "julia",
   "name": "julia-1.7"
  },
  "language_info": {
   "file_extension": ".jl",
   "mimetype": "application/julia",
   "name": "julia",
   "version": "1.7.2"
  }
 },
 "nbformat": 4,
 "nbformat_minor": 5
}
