{
 "cells": [
  {
   "cell_type": "code",
   "execution_count": 1,
   "id": "dcdffae0",
   "metadata": {},
   "outputs": [],
   "source": [
    "using CausalForest\n",
    "using StatsBase\n",
    "using Distributions"
   ]
  },
  {
   "cell_type": "code",
   "execution_count": 2,
   "id": "c63c37ae",
   "metadata": {},
   "outputs": [],
   "source": [
    "indices,X,T,Y = load_data(\"causal\");\n",
    "cf1 = build_forest(true, false, Y, T, X, false, -1, 500, 100);"
   ]
  },
  {
   "cell_type": "code",
   "execution_count": 3,
   "id": "5ae73196",
   "metadata": {},
   "outputs": [
    {
     "data": {
      "text/plain": [
       "10-element Vector{Float64}:\n",
       " 0.6632928059423592\n",
       " 0.03614759070585483\n",
       " 0.04239602286891629\n",
       " 0.04284532929617999\n",
       " 0.03277910886018128\n",
       " 0.030150659983417077\n",
       " 0.03437779368459302\n",
       " 0.042922030393780085\n",
       " 0.03159807669815513\n",
       " 0.043490581566563026"
      ]
     },
     "execution_count": 3,
     "metadata": {},
     "output_type": "execute_result"
    }
   ],
   "source": [
    "importance(cf1)"
   ]
  },
  {
   "cell_type": "code",
   "execution_count": 4,
   "id": "0ba6bfd5",
   "metadata": {},
   "outputs": [],
   "source": [
    "cf1bis = build_forest(true, false, Y, T, X, true, 10, 500, 100);"
   ]
  },
  {
   "cell_type": "code",
   "execution_count": 5,
   "id": "e0ecf4d8",
   "metadata": {},
   "outputs": [
    {
     "data": {
      "text/plain": [
       "10-element Vector{Float64}:\n",
       " 0.7536907829891022\n",
       " 0.030467695197212947\n",
       " 0.04829947093979429\n",
       " 0.01851610252862952\n",
       " 0.03202757255540852\n",
       " 0.016848829860511973\n",
       " 0.0280198508665733\n",
       " 0.025533353225892414\n",
       " 0.021478184922562704\n",
       " 0.025118156914312146"
      ]
     },
     "execution_count": 5,
     "metadata": {},
     "output_type": "execute_result"
    }
   ],
   "source": [
    "importance(cf1bis)"
   ]
  },
  {
   "cell_type": "code",
   "execution_count": null,
   "id": "23852eb9",
   "metadata": {},
   "outputs": [],
   "source": []
  },
  {
   "cell_type": "code",
   "execution_count": 6,
   "id": "b302e619",
   "metadata": {},
   "outputs": [],
   "source": [
    "n, m = 10^4, 10\n",
    "u = Uniform()\n",
    "features = rand(u, (n, m))\n",
    "X = features\n",
    "d = Normal()\n",
    "eps = rand(d, n)\n",
    "b = Bernoulli()\n",
    "T = convert(Vector{Int64},rand(b, n))\n",
    "Y = features*[10, 0, 0, 0, 0, 0, 0, 0, 0, 0].*T  .+ 0.5\n",
    "\n",
    "cf2 = build_forest(true, false, Y, T, features, true, 10, 500, 100);"
   ]
  },
  {
   "cell_type": "code",
   "execution_count": 7,
   "id": "93ed6e08",
   "metadata": {},
   "outputs": [
    {
     "data": {
      "text/plain": [
       "10-element Vector{Float64}:\n",
       " 1.0\n",
       " 0.0\n",
       " 0.0\n",
       " 0.0\n",
       " 0.0\n",
       " 0.0\n",
       " 0.0\n",
       " 0.0\n",
       " 0.0\n",
       " 0.0"
      ]
     },
     "execution_count": 7,
     "metadata": {},
     "output_type": "execute_result"
    }
   ],
   "source": [
    "importance(cf2)"
   ]
  },
  {
   "cell_type": "code",
   "execution_count": null,
   "id": "9187f16d",
   "metadata": {},
   "outputs": [],
   "source": []
  },
  {
   "cell_type": "code",
   "execution_count": 8,
   "id": "7e9dba2a",
   "metadata": {},
   "outputs": [],
   "source": [
    "Y = features*[10, 0, 0, 0, 0, 0, 0, 0, 0, 0].*T  .+ eps\n",
    "\n",
    "cf3 = build_forest(false, true, Y, T, X, true, 10, 500, 100);"
   ]
  },
  {
   "cell_type": "code",
   "execution_count": 9,
   "id": "599ac173",
   "metadata": {},
   "outputs": [
    {
     "data": {
      "text/plain": [
       "10-element Vector{Float64}:\n",
       " 0.9809353658536586\n",
       " 0.0020853658536585367\n",
       " 0.0017780487804878048\n",
       " 0.0027329268292682926\n",
       " 0.0030402439024390247\n",
       " 0.0026780487804878047\n",
       " 0.002118292682926829\n",
       " 0.0017560975609756098\n",
       " 0.0013939024390243902\n",
       " 0.0014817073170731707"
      ]
     },
     "execution_count": 9,
     "metadata": {},
     "output_type": "execute_result"
    }
   ],
   "source": [
    "importance(cf3)"
   ]
  },
  {
   "cell_type": "code",
   "execution_count": null,
   "id": "9e744645",
   "metadata": {},
   "outputs": [],
   "source": []
  }
 ],
 "metadata": {
  "kernelspec": {
   "display_name": "Julia 1.7.2",
   "language": "julia",
   "name": "julia-1.7"
  },
  "language_info": {
   "file_extension": ".jl",
   "mimetype": "application/julia",
   "name": "julia",
   "version": "1.7.2"
  }
 },
 "nbformat": 4,
 "nbformat_minor": 5
}
