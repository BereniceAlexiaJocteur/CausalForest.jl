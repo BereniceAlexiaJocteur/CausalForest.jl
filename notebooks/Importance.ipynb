{
 "cells": [
  {
   "cell_type": "code",
   "execution_count": 1,
   "id": "dcdffae0",
   "metadata": {},
   "outputs": [
    {
     "name": "stderr",
     "output_type": "stream",
     "text": [
      "┌ Info: Precompiling CausalForest [31bdf679-24a7-499a-9be9-b214c66174ea]\n",
      "└ @ Base loading.jl:1423\n"
     ]
    }
   ],
   "source": [
    "using CausalForest\n",
    "using StatsBase\n",
    "using Distributions"
   ]
  },
  {
   "cell_type": "code",
   "execution_count": 2,
   "id": "c63c37ae",
   "metadata": {},
   "outputs": [],
   "source": [
    "indices,X,T,Y = load_data(\"causal\");\n",
    "cf1 = build_forest(true, true, false, Y, T, X, false, -1, 100);"
   ]
  },
  {
   "cell_type": "code",
   "execution_count": 3,
   "id": "5ae73196",
   "metadata": {},
   "outputs": [
    {
     "data": {
      "text/plain": [
       "10-element Vector{Float64}:\n",
       " 0.23916839581029536\n",
       " 0.014103630580371009\n",
       " 0.1484182373917473\n",
       " 0.18599900600126734\n",
       " 0.05670657157412125\n",
       " 0.1489507287253209\n",
       " 0.05008996931028913\n",
       " 0.07917276940471901\n",
       " 0.06000388280754941\n",
       " 0.017386808394319296"
      ]
     },
     "execution_count": 3,
     "metadata": {},
     "output_type": "execute_result"
    }
   ],
   "source": [
    "importance(cf1)"
   ]
  },
  {
   "cell_type": "code",
   "execution_count": 8,
   "id": "0ba6bfd5",
   "metadata": {},
   "outputs": [],
   "source": [
    "cf1bis = build_forest(true, true, false, Y, T, X, false, 10, 100);"
   ]
  },
  {
   "cell_type": "code",
   "execution_count": 9,
   "id": "e0ecf4d8",
   "metadata": {},
   "outputs": [
    {
     "data": {
      "text/plain": [
       "10-element Vector{Float64}:\n",
       " 0.7340422512451491\n",
       " 0.03910552813604931\n",
       " 0.036583056523790555\n",
       " 0.026169738313963627\n",
       " 0.016922015207392803\n",
       " 0.04816173940545527\n",
       " 0.014770945637506425\n",
       " 0.027491216411687752\n",
       " 0.014458257922897138\n",
       " 0.04229525119610807"
      ]
     },
     "execution_count": 9,
     "metadata": {},
     "output_type": "execute_result"
    }
   ],
   "source": [
    "importance(cf1bis)"
   ]
  },
  {
   "cell_type": "code",
   "execution_count": null,
   "id": "23852eb9",
   "metadata": {},
   "outputs": [],
   "source": []
  },
  {
   "cell_type": "code",
   "execution_count": 4,
   "id": "b302e619",
   "metadata": {},
   "outputs": [],
   "source": [
    "n, m = 10^4, 10\n",
    "u = Uniform()\n",
    "features = rand(u, (n, m))\n",
    "X = features\n",
    "d = Normal()\n",
    "eps = rand(d, n)\n",
    "b = Bernoulli()\n",
    "T = convert(Vector{Int64},rand(b, n))\n",
    "Y = features*[10, 0, 0, 0, 0, 0, 0, 0, 0, 0].*T  .+ 0.5\n",
    "\n",
    "cf2 = build_forest(true, true, false, Y, T, features, false, 10, 1000);"
   ]
  },
  {
   "cell_type": "code",
   "execution_count": 5,
   "id": "93ed6e08",
   "metadata": {},
   "outputs": [
    {
     "data": {
      "text/plain": [
       "10-element Vector{Float64}:\n",
       " 0.708969164350583\n",
       " 0.02417290846076763\n",
       " 0.04468652614400774\n",
       " 0.02115221773529769\n",
       " 0.027351422677967058\n",
       " 0.03851566970422056\n",
       " 0.023370288075233184\n",
       " 0.053224686220296226\n",
       " 0.03228142058732553\n",
       " 0.026275696044301324"
      ]
     },
     "execution_count": 5,
     "metadata": {},
     "output_type": "execute_result"
    }
   ],
   "source": [
    "importance(cf2)"
   ]
  },
  {
   "cell_type": "code",
   "execution_count": null,
   "id": "9187f16d",
   "metadata": {},
   "outputs": [],
   "source": []
  },
  {
   "cell_type": "code",
   "execution_count": 6,
   "id": "7e9dba2a",
   "metadata": {},
   "outputs": [],
   "source": [
    "Y = features*[10, 0, 0, 0, 0, 0, 0, 0, 0, 0].*T  .+ eps\n",
    "\n",
    "cf3 = build_forest(false, false, true, Y, T, X, true, 10, 1000);"
   ]
  },
  {
   "cell_type": "code",
   "execution_count": 7,
   "id": "599ac173",
   "metadata": {},
   "outputs": [
    {
     "data": {
      "text/plain": [
       "10-element Vector{Float64}:\n",
       " 0.8188789275073353\n",
       " 0.017774105375503904\n",
       " 0.02086465991203689\n",
       " 0.020613384240612577\n",
       " 0.01924370015677325\n",
       " 0.02089294954309975\n",
       " 0.018706592161017273\n",
       " 0.018028508185018555\n",
       " 0.02057605921740975\n",
       " 0.02442111370119274"
      ]
     },
     "execution_count": 7,
     "metadata": {},
     "output_type": "execute_result"
    }
   ],
   "source": [
    "importance(cf3)"
   ]
  },
  {
   "cell_type": "code",
   "execution_count": null,
   "id": "9e744645",
   "metadata": {},
   "outputs": [],
   "source": []
  }
 ],
 "metadata": {
  "kernelspec": {
   "display_name": "Julia 1.7.2",
   "language": "julia",
   "name": "julia-1.7"
  },
  "language_info": {
   "file_extension": ".jl",
   "mimetype": "application/julia",
   "name": "julia",
   "version": "1.7.2"
  }
 },
 "nbformat": 4,
 "nbformat_minor": 5
}
