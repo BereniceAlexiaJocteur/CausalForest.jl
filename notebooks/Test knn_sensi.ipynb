{
 "cells": [
  {
   "cell_type": "code",
   "execution_count": 1,
   "id": "65fda159",
   "metadata": {},
   "outputs": [],
   "source": [
    "using CausalForest\n",
    "using StatsBase\n",
    "using Distributions"
   ]
  },
  {
   "cell_type": "code",
   "execution_count": 2,
   "id": "f82af3d9",
   "metadata": {},
   "outputs": [],
   "source": [
    "indices,X,T,Y = load_data(\"causal\");\n",
    "cf1 = build_forest(true, false, Y, T, X, false, -1, 500, 100);"
   ]
  },
  {
   "cell_type": "code",
   "execution_count": null,
   "id": "f9ae4dae",
   "metadata": {},
   "outputs": [],
   "source": [
    "sens = knn_sensi(cf1,500)"
   ]
  },
  {
   "cell_type": "code",
   "execution_count": null,
   "id": "8d9ac415",
   "metadata": {},
   "outputs": [],
   "source": [
    "sum(sens)"
   ]
  },
  {
   "cell_type": "code",
   "execution_count": null,
   "id": "4e72ceed",
   "metadata": {},
   "outputs": [],
   "source": [
    "sens1 = knn_sensi(cf1,1000)"
   ]
  },
  {
   "cell_type": "code",
   "execution_count": null,
   "id": "7af49028",
   "metadata": {},
   "outputs": [],
   "source": [
    "sum(sens1)"
   ]
  },
  {
   "cell_type": "code",
   "execution_count": null,
   "id": "b95d9597",
   "metadata": {},
   "outputs": [],
   "source": [
    "cf1_bis = build_forest(true, false, Y, T, X, true, 10, 500, 100);"
   ]
  },
  {
   "cell_type": "code",
   "execution_count": null,
   "id": "2c67ae0e",
   "metadata": {},
   "outputs": [],
   "source": [
    "sens2 = knn_sensi(cf1_bis,500)"
   ]
  },
  {
   "cell_type": "code",
   "execution_count": null,
   "id": "612c8618",
   "metadata": {},
   "outputs": [],
   "source": []
  },
  {
   "cell_type": "code",
   "execution_count": null,
   "id": "06f5fee5",
   "metadata": {},
   "outputs": [],
   "source": [
    "n, m = 10^4, 10\n",
    "u = Uniform()\n",
    "features = rand(u, (n, m))\n",
    "X = features\n",
    "d = Normal()\n",
    "eps = rand(d, n)\n",
    "b = Bernoulli()\n",
    "T = convert(Vector{Int64},rand(b, n))\n",
    "Y = features*[10, 0, 0, 0, 0, 0, 0, 0, 0, 0].*T  .+ 0.5\n",
    "\n",
    "cf2 = build_forest(true, false, Y, T, features, true, 10, 500, 100);"
   ]
  },
  {
   "cell_type": "code",
   "execution_count": null,
   "id": "6708030d",
   "metadata": {},
   "outputs": [],
   "source": [
    "sens3 = knn_sensi(cf2,500)"
   ]
  },
  {
   "cell_type": "code",
   "execution_count": null,
   "id": "4998611f",
   "metadata": {},
   "outputs": [],
   "source": [
    "sum(sens3)"
   ]
  },
  {
   "cell_type": "code",
   "execution_count": null,
   "id": "6b0b51a7",
   "metadata": {},
   "outputs": [],
   "source": [
    "cf2_bis = build_forest(true, false, Y, T, features, false, -1, 500, 100);"
   ]
  },
  {
   "cell_type": "code",
   "execution_count": null,
   "id": "2bfa4442",
   "metadata": {},
   "outputs": [],
   "source": [
    "sens3_bis = knn_sensi(cf2_bis,500)"
   ]
  },
  {
   "cell_type": "code",
   "execution_count": null,
   "id": "8a60f0c0",
   "metadata": {},
   "outputs": [],
   "source": []
  },
  {
   "cell_type": "code",
   "execution_count": null,
   "id": "e6ec1a9d",
   "metadata": {},
   "outputs": [],
   "source": [
    "Y = features*[10, 0, 0, 0, 0, 0, 0, 0, 0, 0].*T  .+ eps\n",
    "\n",
    "cf3 = build_forest(false, true, Y, T, X, true, 10, 500, 100);"
   ]
  },
  {
   "cell_type": "code",
   "execution_count": null,
   "id": "c9153c60",
   "metadata": {},
   "outputs": [],
   "source": [
    "sens4 = knn_sensi(cf3,500)"
   ]
  },
  {
   "cell_type": "code",
   "execution_count": null,
   "id": "08dd9e3e",
   "metadata": {},
   "outputs": [],
   "source": [
    "cf3_bis = build_forest(false, true, Y, T, X, false, -1, 500, 100);"
   ]
  },
  {
   "cell_type": "code",
   "execution_count": null,
   "id": "6a8ac6fc",
   "metadata": {},
   "outputs": [],
   "source": [
    "sens4_bis = knn_sensi(cf3_bis,500)"
   ]
  },
  {
   "cell_type": "code",
   "execution_count": null,
   "id": "6142bee9",
   "metadata": {},
   "outputs": [],
   "source": []
  }
 ],
 "metadata": {
  "kernelspec": {
   "display_name": "Julia 1.7.2",
   "language": "julia",
   "name": "julia-1.7"
  },
  "language_info": {
   "file_extension": ".jl",
   "mimetype": "application/julia",
   "name": "julia",
   "version": "1.7.2"
  }
 },
 "nbformat": 4,
 "nbformat_minor": 5
}
