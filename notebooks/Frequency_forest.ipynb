{
 "cells": [
  {
   "cell_type": "code",
   "execution_count": 1,
   "id": "ca4e630d",
   "metadata": {},
   "outputs": [],
   "source": [
    "using CausalForest\n",
    "using StatsBase\n",
    "using Plots\n",
    "using Distributions"
   ]
  },
  {
   "cell_type": "markdown",
   "id": "c657ea04",
   "metadata": {},
   "source": [
    "Modèle \n",
    "\n",
    "$$Y = 10 X_1 + \\epsilon$$\n",
    "\n",
    "X est 10 features toutes uniformes sur [0,1].\n",
    "\n",
    "Epsilon suit loi normale (0,1).\n",
    "\n",
    "$n=10^3$ observations"
   ]
  },
  {
   "cell_type": "code",
   "execution_count": 2,
   "id": "e5fed0da",
   "metadata": {},
   "outputs": [],
   "source": [
    "n, m = 10^3, 10\n",
    "u = Uniform()\n",
    "features = rand(u, (n, m))\n",
    "d = Normal()\n",
    "eps = rand(d, 1000)\n",
    "labels = features*[10, 0, 0, 0, 0, 0, 0, 0, 0, 0]  .+ eps\n",
    "\n",
    "model = build_forest_oob(labels, features, 10, 1000);"
   ]
  },
  {
   "cell_type": "code",
   "execution_count": 3,
   "id": "ebc4c46a",
   "metadata": {},
   "outputs": [
    {
     "data": {
      "text/plain": [
       "get_all_nodes_in_tree! (generic function with 3 methods)"
      ]
     },
     "execution_count": 3,
     "metadata": {},
     "output_type": "execute_result"
    }
   ],
   "source": [
    "function get_all_nodes_in_tree!(\n",
    "    tree ,\n",
    "    depth = 3,\n",
    "    result  = []\n",
    "    )\n",
    "    if hasproperty(tree, :featid) && depth > 0\n",
    "        push!(result, tree.featid)\n",
    "        get_all_nodes_in_tree!(tree.left, depth-1, result)\n",
    "        get_all_nodes_in_tree!(tree.right, depth-1, result)\n",
    "    end\n",
    "    return result\n",
    "end"
   ]
  },
  {
   "cell_type": "code",
   "execution_count": 4,
   "id": "f4507734",
   "metadata": {},
   "outputs": [
    {
     "data": {
      "text/plain": [
       "get_freq (generic function with 2 methods)"
      ]
     },
     "execution_count": 4,
     "metadata": {},
     "output_type": "execute_result"
    }
   ],
   "source": [
    "function get_freq(forest, depth=3) \n",
    "    ensemble = forest.trees\n",
    "    n_trees = length(ensemble)\n",
    "    res = []\n",
    "    for i = 1:n_trees\n",
    "        append!(res, get_all_nodes_in_tree!(forest.trees[i].tree, depth))\n",
    "    end\n",
    "    return proportionmap(res)\n",
    "end"
   ]
  },
  {
   "cell_type": "code",
   "execution_count": 5,
   "id": "64524056",
   "metadata": {},
   "outputs": [
    {
     "data": {
      "text/plain": [
       "Dict{Any, Float64} with 10 entries:\n",
       "  5  => 0.000285714\n",
       "  4  => 0.000857143\n",
       "  6  => 0.000285714\n",
       "  7  => 0.000571429\n",
       "  2  => 0.00471429\n",
       "  10 => 0.002\n",
       "  9  => 0.000857143\n",
       "  8  => 0.000571429\n",
       "  3  => 0.000428571\n",
       "  1  => 0.989429"
      ]
     },
     "execution_count": 5,
     "metadata": {},
     "output_type": "execute_result"
    }
   ],
   "source": [
    "get_freq(model, 3)"
   ]
  },
  {
   "cell_type": "code",
   "execution_count": 6,
   "id": "5733d9cb",
   "metadata": {},
   "outputs": [
    {
     "data": {
      "text/plain": [
       "Dict{Any, Float64} with 10 entries:\n",
       "  5  => 0.0687565\n",
       "  4  => 0.0600758\n",
       "  6  => 0.0636927\n",
       "  7  => 0.079504\n",
       "  2  => 0.072649\n",
       "  10 => 0.0808818\n",
       "  9  => 0.0595591\n",
       "  8  => 0.059938\n",
       "  3  => 0.0852911\n",
       "  1  => 0.369652"
      ]
     },
     "execution_count": 6,
     "metadata": {},
     "output_type": "execute_result"
    }
   ],
   "source": [
    "get_freq(model, 5)"
   ]
  },
  {
   "cell_type": "code",
   "execution_count": 7,
   "id": "ab488b1d",
   "metadata": {},
   "outputs": [
    {
     "data": {
      "text/plain": [
       "Dict{Any, Float64} with 10 entries:\n",
       "  5  => 0.0899888\n",
       "  4  => 0.0908363\n",
       "  6  => 0.0894614\n",
       "  7  => 0.0978897\n",
       "  2  => 0.0890283\n",
       "  10 => 0.0958838\n",
       "  9  => 0.08367\n",
       "  8  => 0.0871731\n",
       "  3  => 0.0997919\n",
       "  1  => 0.176277"
      ]
     },
     "execution_count": 7,
     "metadata": {},
     "output_type": "execute_result"
    }
   ],
   "source": [
    "get_freq(model, 10)"
   ]
  },
  {
   "cell_type": "markdown",
   "id": "a39e7644",
   "metadata": {},
   "source": [
    "Modèle\n",
    "\n",
    "$$\\Theta(X) = 10 X_1$$\n",
    "\n",
    "$$Y = \\Theta(X) T + 0.5$$\n",
    "\n",
    "X est 10 features toutes uniformes sur [0,1].\n",
    "\n",
    "T suit loi bernouilli p=0.5.\n",
    "\n",
    "$n=10^4$ observations"
   ]
  },
  {
   "cell_type": "code",
   "execution_count": 8,
   "id": "21e0daab",
   "metadata": {},
   "outputs": [],
   "source": [
    "n, m = 10^4, 10\n",
    "u = Uniform()\n",
    "features = rand(u, (n, m))\n",
    "X = features\n",
    "d = Normal()\n",
    "eps = rand(d, n)\n",
    "b = Bernoulli()\n",
    "T = convert(Vector{Int64},rand(b, n))\n",
    "Y = features*[10, 0, 0, 0, 0, 0, 0, 0, 0, 0].*T  .+ 0.5\n",
    "\n",
    "cf1 = build_forest(false, true, Y, T, features, true, 10, 1000);"
   ]
  },
  {
   "cell_type": "code",
   "execution_count": 9,
   "id": "ca8d237c",
   "metadata": {},
   "outputs": [
    {
     "data": {
      "image/png": "[encoded data removed]"
     },
     "execution_count": 9,
     "metadata": {},
     "output_type": "execute_result"
    }
   ],
   "source": [
    "Xtest = rand(Float64, (1000, size(X, 2)));\n",
    "Xtest[:, 1] =  LinRange(0, 1, 1000);\n",
    "true_effect = Xtest[:, 1].*10;\n",
    "pred1 = apply_forest(cf1, Xtest);\n",
    "plot(Xtest[:, 1], [true_effect, pred1], label=[\"True effect\" \"Estimation\"], title = \"Subsampling honest\", fmt = :png)"
   ]
  },
  {
   "cell_type": "code",
   "execution_count": 10,
   "id": "95a8588b",
   "metadata": {
    "scrolled": true
   },
   "outputs": [
    {
     "data": {
      "text/plain": [
       "Dict{Any, Float64} with 1 entry:\n",
       "  1 => 1.0"
      ]
     },
     "execution_count": 10,
     "metadata": {},
     "output_type": "execute_result"
    }
   ],
   "source": [
    "get_freq(cf1, 3)"
   ]
  },
  {
   "cell_type": "code",
   "execution_count": 11,
   "id": "9d0adbc6",
   "metadata": {},
   "outputs": [
    {
     "data": {
      "text/plain": [
       "Dict{Any, Float64} with 1 entry:\n",
       "  1 => 1.0"
      ]
     },
     "execution_count": 11,
     "metadata": {},
     "output_type": "execute_result"
    }
   ],
   "source": [
    "get_freq(cf1, 5)"
   ]
  },
  {
   "cell_type": "code",
   "execution_count": 12,
   "id": "68acb4e6",
   "metadata": {},
   "outputs": [
    {
     "data": {
      "text/plain": [
       "Dict{Any, Float64} with 10 entries:\n",
       "  5  => 0.00603356\n",
       "  4  => 0.00625136\n",
       "  6  => 0.00623282\n",
       "  7  => 0.00637648\n",
       "  2  => 0.00600112\n",
       "  10 => 0.00553308\n",
       "  9  => 0.00660818\n",
       "  8  => 0.00618185\n",
       "  3  => 0.00648306\n",
       "  1  => 0.944298"
      ]
     },
     "execution_count": 12,
     "metadata": {},
     "output_type": "execute_result"
    }
   ],
   "source": [
    "get_freq(cf1, 10)"
   ]
  },
  {
   "cell_type": "code",
   "execution_count": 13,
   "id": "e2959e9c",
   "metadata": {},
   "outputs": [
    {
     "data": {
      "text/plain": [
       "Dict{Any, Float64} with 10 entries:\n",
       "  5  => 0.00603356\n",
       "  4  => 0.00625136\n",
       "  6  => 0.00623282\n",
       "  7  => 0.00637648\n",
       "  2  => 0.00600112\n",
       "  10 => 0.00553308\n",
       "  9  => 0.00660818\n",
       "  8  => 0.00618185\n",
       "  3  => 0.00648306\n",
       "  1  => 0.944298"
      ]
     },
     "execution_count": 13,
     "metadata": {},
     "output_type": "execute_result"
    }
   ],
   "source": [
    "get_freq(cf1, 1000)"
   ]
  },
  {
   "cell_type": "markdown",
   "id": "e512cf0d",
   "metadata": {},
   "source": [
    "Modèle\n",
    "\n",
    "$$\\Theta(X) = 10 X_1$$\n",
    "\n",
    "$$Y = \\Theta(X) T + \\epsilon$$\n",
    "\n",
    "X est 10 features toutes uniformes sur [0,1].\n",
    "\n",
    "T suit loi bernouilli p=0.5.\n",
    "\n",
    "Epsilon suit loi normale (0,1).\n",
    "\n",
    "$n=10^4$ observations"
   ]
  },
  {
   "cell_type": "code",
   "execution_count": 14,
   "id": "5dcef063",
   "metadata": {},
   "outputs": [],
   "source": [
    "Y = features*[10, 0, 0, 0, 0, 0, 0, 0, 0, 0].*T  .+ eps\n",
    "\n",
    "cf1 = build_forest(false, true, Y, T, X, true, 10, 1000);"
   ]
  },
  {
   "cell_type": "code",
   "execution_count": 15,
   "id": "9a01b82d",
   "metadata": {
    "scrolled": true
   },
   "outputs": [
    {
     "data": {
      "text/plain": [
       "Dict{Any, Float64} with 1 entry:\n",
       "  1 => 1.0"
      ]
     },
     "execution_count": 15,
     "metadata": {},
     "output_type": "execute_result"
    }
   ],
   "source": [
    "get_freq(cf1, 3)"
   ]
  },
  {
   "cell_type": "code",
   "execution_count": 16,
   "id": "99511ca6",
   "metadata": {},
   "outputs": [
    {
     "data": {
      "text/plain": [
       "Dict{Any, Float64} with 10 entries:\n",
       "  5  => 0.0517603\n",
       "  4  => 0.0609533\n",
       "  6  => 0.0759751\n",
       "  7  => 0.0540919\n",
       "  2  => 0.0645838\n",
       "  10 => 0.0584219\n",
       "  9  => 0.0636179\n",
       "  8  => 0.0640842\n",
       "  3  => 0.0681811\n",
       "  1  => 0.438331"
      ]
     },
     "execution_count": 16,
     "metadata": {},
     "output_type": "execute_result"
    }
   ],
   "source": [
    "get_freq(cf1, 5)"
   ]
  },
  {
   "cell_type": "code",
   "execution_count": 17,
   "id": "90256257",
   "metadata": {},
   "outputs": [
    {
     "data": {
      "text/plain": [
       "Dict{Any, Float64} with 10 entries:\n",
       "  5  => 0.0901486\n",
       "  4  => 0.0920745\n",
       "  6  => 0.0996958\n",
       "  7  => 0.0935134\n",
       "  2  => 0.0962599\n",
       "  10 => 0.0941371\n",
       "  9  => 0.0929444\n",
       "  8  => 0.0934258\n",
       "  3  => 0.0972447\n",
       "  1  => 0.150556"
      ]
     },
     "execution_count": 17,
     "metadata": {},
     "output_type": "execute_result"
    }
   ],
   "source": [
    "get_freq(cf1, 10)"
   ]
  },
  {
   "cell_type": "code",
   "execution_count": 18,
   "id": "a90d48e3",
   "metadata": {},
   "outputs": [
    {
     "data": {
      "text/plain": [
       "Dict{Any, Float64} with 10 entries:\n",
       "  5  => 0.0920343\n",
       "  4  => 0.093527\n",
       "  6  => 0.0997333\n",
       "  7  => 0.0954125\n",
       "  2  => 0.096844\n",
       "  10 => 0.0956307\n",
       "  9  => 0.0942952\n",
       "  8  => 0.0948364\n",
       "  3  => 0.0979046\n",
       "  1  => 0.139782"
      ]
     },
     "execution_count": 18,
     "metadata": {},
     "output_type": "execute_result"
    }
   ],
   "source": [
    "get_freq(cf1, 1000)"
   ]
  },
  {
   "cell_type": "markdown",
   "id": "fca2cf80",
   "metadata": {},
   "source": [
    "$n=10^5$ maintenant"
   ]
  },
  {
   "cell_type": "markdown",
   "id": "3177cdcc",
   "metadata": {},
   "source": [
    "Modèle\n",
    "\n",
    "$$\\Theta(X) = 10 X_1$$\n",
    "\n",
    "$$Y = \\Theta(X) T + 0.5$$\n",
    "\n",
    "X est 10 features toutes uniformes sur [0,1].\n",
    "\n",
    "T suit loi bernouilli p=0.5.\n",
    "\n",
    "$n=10^5$ observations"
   ]
  },
  {
   "cell_type": "code",
   "execution_count": 19,
   "id": "44bbfe55",
   "metadata": {},
   "outputs": [],
   "source": [
    "n, m = 10^5, 10\n",
    "u = Uniform()\n",
    "features = rand(u, (n, m))\n",
    "X = features\n",
    "d = Normal()\n",
    "eps = rand(d, n)\n",
    "b = Bernoulli()\n",
    "T = convert(Vector{Int64},rand(b, n))\n",
    "Y = features*[10, 0, 0, 0, 0, 0, 0, 0, 0, 0].*T  .+ 0.5\n",
    "\n",
    "cf1 = build_forest(false, true, Y, T, features, true, 10, 1000);"
   ]
  },
  {
   "cell_type": "code",
   "execution_count": 20,
   "id": "c3e28660",
   "metadata": {
    "scrolled": true
   },
   "outputs": [
    {
     "data": {
      "text/plain": [
       "Dict{Any, Float64} with 1 entry:\n",
       "  1 => 1.0"
      ]
     },
     "execution_count": 20,
     "metadata": {},
     "output_type": "execute_result"
    }
   ],
   "source": [
    "get_freq(cf1, 3)"
   ]
  },
  {
   "cell_type": "code",
   "execution_count": 21,
   "id": "f49325ec",
   "metadata": {},
   "outputs": [
    {
     "data": {
      "text/plain": [
       "Dict{Any, Float64} with 1 entry:\n",
       "  1 => 1.0"
      ]
     },
     "execution_count": 21,
     "metadata": {},
     "output_type": "execute_result"
    }
   ],
   "source": [
    "get_freq(cf1, 5)"
   ]
  },
  {
   "cell_type": "code",
   "execution_count": 22,
   "id": "6b4ad767",
   "metadata": {},
   "outputs": [
    {
     "data": {
      "text/plain": [
       "Dict{Any, Float64} with 10 entries:\n",
       "  5  => 1.76438e-5\n",
       "  4  => 2.35251e-5\n",
       "  6  => 1.56834e-5\n",
       "  7  => 2.15647e-5\n",
       "  2  => 1.27428e-5\n",
       "  10 => 1.76438e-5\n",
       "  9  => 2.15647e-5\n",
       "  8  => 1.17625e-5\n",
       "  3  => 1.47032e-5\n",
       "  1  => 0.999843"
      ]
     },
     "execution_count": 22,
     "metadata": {},
     "output_type": "execute_result"
    }
   ],
   "source": [
    "get_freq(cf1, 10)"
   ]
  },
  {
   "cell_type": "code",
   "execution_count": 23,
   "id": "5a1f4ee6",
   "metadata": {},
   "outputs": [
    {
     "data": {
      "text/plain": [
       "Dict{Any, Float64} with 10 entries:\n",
       "  5  => 0.00577194\n",
       "  4  => 0.00580305\n",
       "  6  => 0.00570405\n",
       "  7  => 0.00578749\n",
       "  2  => 0.00563193\n",
       "  10 => 0.00570877\n",
       "  9  => 0.00577099\n",
       "  8  => 0.00572763\n",
       "  3  => 0.00570123\n",
       "  1  => 0.948393"
      ]
     },
     "execution_count": 23,
     "metadata": {},
     "output_type": "execute_result"
    }
   ],
   "source": [
    "get_freq(cf1, 1000)"
   ]
  },
  {
   "cell_type": "markdown",
   "id": "681f75a2",
   "metadata": {},
   "source": [
    "Modèle\n",
    "\n",
    "$$\\Theta(X) = 10 X_1$$\n",
    "\n",
    "$$Y = \\Theta(X) T + \\epsilon$$\n",
    "\n",
    "X est 10 features toutes uniformes sur [0,1].\n",
    "\n",
    "T suit loi bernouilli p=0.5.\n",
    "\n",
    "Epsilon suit loi normale (0,1).\n",
    "\n",
    "$n=10^5$ observations"
   ]
  },
  {
   "cell_type": "code",
   "execution_count": 24,
   "id": "8189e3e7",
   "metadata": {},
   "outputs": [],
   "source": [
    "Y = features*[10, 0, 0, 0, 0, 0, 0, 0, 0, 0].*T  .+ eps\n",
    "\n",
    "cf1 = build_forest(false, true, Y, T, X, true, 10, 1000);"
   ]
  },
  {
   "cell_type": "code",
   "execution_count": 25,
   "id": "85589ad3",
   "metadata": {
    "scrolled": true
   },
   "outputs": [
    {
     "data": {
      "text/plain": [
       "Dict{Any, Float64} with 1 entry:\n",
       "  1 => 1.0"
      ]
     },
     "execution_count": 25,
     "metadata": {},
     "output_type": "execute_result"
    }
   ],
   "source": [
    "get_freq(cf1, 3)"
   ]
  },
  {
   "cell_type": "code",
   "execution_count": 26,
   "id": "0c531405",
   "metadata": {},
   "outputs": [
    {
     "data": {
      "text/plain": [
       "Dict{Any, Float64} with 10 entries:\n",
       "  5  => 0.0169677\n",
       "  4  => 0.0193226\n",
       "  6  => 0.0194516\n",
       "  7  => 0.022871\n",
       "  2  => 0.0258387\n",
       "  10 => 0.0223871\n",
       "  9  => 0.0245484\n",
       "  8  => 0.0207742\n",
       "  3  => 0.0241613\n",
       "  1  => 0.803677"
      ]
     },
     "execution_count": 26,
     "metadata": {},
     "output_type": "execute_result"
    }
   ],
   "source": [
    "get_freq(cf1, 5)"
   ]
  },
  {
   "cell_type": "code",
   "execution_count": 27,
   "id": "cb4fe18b",
   "metadata": {},
   "outputs": [
    {
     "data": {
      "text/plain": [
       "Dict{Any, Float64} with 10 entries:\n",
       "  5  => 0.0931147\n",
       "  4  => 0.09544\n",
       "  6  => 0.092583\n",
       "  7  => 0.0937168\n",
       "  2  => 0.0948656\n",
       "  10 => 0.0956706\n",
       "  9  => 0.0951838\n",
       "  8  => 0.0941802\n",
       "  3  => 0.094714\n",
       "  1  => 0.150531"
      ]
     },
     "execution_count": 27,
     "metadata": {},
     "output_type": "execute_result"
    }
   ],
   "source": [
    "get_freq(cf1, 10)"
   ]
  },
  {
   "cell_type": "code",
   "execution_count": 28,
   "id": "00d63f94",
   "metadata": {},
   "outputs": [
    {
     "data": {
      "text/plain": [
       "Dict{Any, Float64} with 10 entries:\n",
       "  5  => 0.0990191\n",
       "  4  => 0.0996672\n",
       "  6  => 0.0984634\n",
       "  7  => 0.0989724\n",
       "  2  => 0.0983849\n",
       "  10 => 0.0990435\n",
       "  9  => 0.0993128\n",
       "  8  => 0.0983706\n",
       "  3  => 0.0988243\n",
       "  1  => 0.109942"
      ]
     },
     "execution_count": 28,
     "metadata": {},
     "output_type": "execute_result"
    }
   ],
   "source": [
    "get_freq(cf1, 1000)"
   ]
  },
  {
   "cell_type": "code",
   "execution_count": null,
   "id": "94487d83",
   "metadata": {},
   "outputs": [],
   "source": []
  }
 ],
 "metadata": {
  "celltoolbar": "Éditer les Méta-Données",
  "kernelspec": {
   "display_name": "Julia 1.7.2",
   "language": "julia",
   "name": "julia-1.7"
  },
  "language_info": {
   "file_extension": ".jl",
   "mimetype": "application/julia",
   "name": "julia",
   "version": "1.7.2"
  }
 },
 "nbformat": 4,
 "nbformat_minor": 5
}
