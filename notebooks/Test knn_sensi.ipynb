{
 "cells": [
  {
   "cell_type": "code",
   "execution_count": 1,
   "id": "65fda159",
   "metadata": {},
   "outputs": [],
   "source": [
    "using CausalForest\n",
    "using StatsBase\n",
    "using Distributions"
   ]
  },
  {
   "cell_type": "code",
   "execution_count": 2,
   "id": "f82af3d9",
   "metadata": {},
   "outputs": [],
   "source": [
    "indices,X,T,Y = load_data(\"causal\");\n",
    "cf1 = build_forest(true, false, Y, T, X, false, -1, 500, 100);"
   ]
  },
  {
   "cell_type": "code",
   "execution_count": 3,
   "id": "f9ae4dae",
   "metadata": {},
   "outputs": [
    {
     "data": {
      "text/plain": [
       "10×1 Matrix{Float64}:\n",
       " 0.8150605159265327\n",
       " 0.0\n",
       " 0.01369242991456294\n",
       " 0.05241171850494322\n",
       " 0.0\n",
       " 0.046541921853242504\n",
       " 0.01101185769907559\n",
       " 0.0\n",
       " 0.02867317962151042\n",
       " 0.03260837222560596"
      ]
     },
     "execution_count": 3,
     "metadata": {},
     "output_type": "execute_result"
    }
   ],
   "source": [
    "sens = knn_sensi(cf1,500)"
   ]
  },
  {
   "cell_type": "code",
   "execution_count": 4,
   "id": "8d9ac415",
   "metadata": {},
   "outputs": [
    {
     "data": {
      "text/plain": [
       "0.9999999957454734"
      ]
     },
     "execution_count": 4,
     "metadata": {},
     "output_type": "execute_result"
    }
   ],
   "source": [
    "sum(sens)"
   ]
  },
  {
   "cell_type": "code",
   "execution_count": 5,
   "id": "4e72ceed",
   "metadata": {},
   "outputs": [
    {
     "data": {
      "text/plain": [
       "10×1 Matrix{Float64}:\n",
       " 0.7921557097972369\n",
       " 0.03846235477352925\n",
       " 0.050453367490154256\n",
       " 0.0\n",
       " 0.004023159486449023\n",
       " 0.0\n",
       " 0.0\n",
       " 0.0770131520623883\n",
       " 0.029676366160820474\n",
       " 0.008215884277871836"
      ]
     },
     "execution_count": 5,
     "metadata": {},
     "output_type": "execute_result"
    }
   ],
   "source": [
    "sens1 = knn_sensi(cf1,1000)"
   ]
  },
  {
   "cell_type": "code",
   "execution_count": 6,
   "id": "7af49028",
   "metadata": {},
   "outputs": [
    {
     "data": {
      "text/plain": [
       "0.9999999940484501"
      ]
     },
     "execution_count": 6,
     "metadata": {},
     "output_type": "execute_result"
    }
   ],
   "source": [
    "sum(sens1)"
   ]
  },
  {
   "cell_type": "code",
   "execution_count": 7,
   "id": "b95d9597",
   "metadata": {},
   "outputs": [],
   "source": [
    "cf1_bis = build_forest(true, false, Y, T, X, true, 10, 500, 100);"
   ]
  },
  {
   "cell_type": "code",
   "execution_count": 8,
   "id": "2c67ae0e",
   "metadata": {},
   "outputs": [
    {
     "data": {
      "text/plain": [
       "10×1 Matrix{Float64}:\n",
       " 0.8129901230452689\n",
       " 0.03416179147385374\n",
       " 0.022581942965892117\n",
       " 0.018085660511781898\n",
       " 0.03276639594826722\n",
       " 0.018230521578854127\n",
       " 0.031123776008823486\n",
       " 0.021557123792941623\n",
       " 0.0013588810985038508\n",
       " 0.007143779687688871"
      ]
     },
     "execution_count": 8,
     "metadata": {},
     "output_type": "execute_result"
    }
   ],
   "source": [
    "sens2 = knn_sensi(cf1_bis,500)"
   ]
  },
  {
   "cell_type": "code",
   "execution_count": null,
   "id": "612c8618",
   "metadata": {},
   "outputs": [],
   "source": []
  },
  {
   "cell_type": "code",
   "execution_count": 9,
   "id": "06f5fee5",
   "metadata": {},
   "outputs": [],
   "source": [
    "n, m = 10^4, 10\n",
    "u = Uniform()\n",
    "features = rand(u, (n, m))\n",
    "X = features\n",
    "d = Normal()\n",
    "eps = rand(d, n)\n",
    "b = Bernoulli()\n",
    "T = convert(Vector{Int64},rand(b, n))\n",
    "Y = features*[10, 0, 0, 0, 0, 0, 0, 0, 0, 0].*T  .+ 0.5\n",
    "\n",
    "cf2 = build_forest(true, false, Y, T, features, true, 10, 500, 100);"
   ]
  },
  {
   "cell_type": "code",
   "execution_count": 10,
   "id": "6708030d",
   "metadata": {},
   "outputs": [
    {
     "data": {
      "text/plain": [
       "10×1 Matrix{Float64}:\n",
       " 0.9938182527723763\n",
       " 0.0\n",
       " 0.0012845539385984033\n",
       " 0.0\n",
       " 0.0004147688315821338\n",
       " 0.001185479388130201\n",
       " 0.001020729375783815\n",
       " 0.0012216932239620156\n",
       " 0.0008200900682202923\n",
       " 0.00023443241469305439"
      ]
     },
     "execution_count": 10,
     "metadata": {},
     "output_type": "execute_result"
    }
   ],
   "source": [
    "sens3 = knn_sensi(cf2,500)"
   ]
  },
  {
   "cell_type": "code",
   "execution_count": 11,
   "id": "4998611f",
   "metadata": {},
   "outputs": [
    {
     "data": {
      "text/plain": [
       "1.0000000000133462"
      ]
     },
     "execution_count": 11,
     "metadata": {},
     "output_type": "execute_result"
    }
   ],
   "source": [
    "sum(sens3)"
   ]
  },
  {
   "cell_type": "code",
   "execution_count": 12,
   "id": "6b0b51a7",
   "metadata": {},
   "outputs": [],
   "source": [
    "cf2_bis = build_forest(true, false, Y, T, features, false, -1, 500, 100);"
   ]
  },
  {
   "cell_type": "code",
   "execution_count": 13,
   "id": "2bfa4442",
   "metadata": {},
   "outputs": [
    {
     "data": {
      "text/plain": [
       "10×1 Matrix{Float64}:\n",
       " 0.9501968843101035\n",
       " 0.0\n",
       " 0.0\n",
       " 0.0035510865940010542\n",
       " 0.0\n",
       " 0.0012321560438466545\n",
       " 0.030816326318508173\n",
       " 0.0\n",
       " 0.014203545437589083\n",
       " 0.0"
      ]
     },
     "execution_count": 13,
     "metadata": {},
     "output_type": "execute_result"
    }
   ],
   "source": [
    "sens3_bis = knn_sensi(cf2_bis,500)"
   ]
  },
  {
   "cell_type": "code",
   "execution_count": null,
   "id": "8a60f0c0",
   "metadata": {},
   "outputs": [],
   "source": []
  },
  {
   "cell_type": "code",
   "execution_count": 14,
   "id": "e6ec1a9d",
   "metadata": {},
   "outputs": [],
   "source": [
    "Y = features*[10, 0, 0, 0, 0, 0, 0, 0, 0, 0].*T  .+ eps\n",
    "\n",
    "cf3 = build_forest(false, true, Y, T, X, true, 10, 500, 100);"
   ]
  },
  {
   "cell_type": "code",
   "execution_count": 15,
   "id": "c9153c60",
   "metadata": {},
   "outputs": [
    {
     "data": {
      "text/plain": [
       "10×1 Matrix{Float64}:\n",
       " 0.9475452714527604\n",
       " 0.004157890660564799\n",
       " 0.009671258790690024\n",
       " 0.0\n",
       " 0.0\n",
       " 0.0\n",
       " 0.0386255773027378\n",
       " 0.0\n",
       " 0.0\n",
       " 0.0"
      ]
     },
     "execution_count": 15,
     "metadata": {},
     "output_type": "execute_result"
    }
   ],
   "source": [
    "sens4 = knn_sensi(cf3,500)"
   ]
  },
  {
   "cell_type": "code",
   "execution_count": 16,
   "id": "08dd9e3e",
   "metadata": {},
   "outputs": [],
   "source": [
    "cf3_bis = build_forest(false, true, Y, T, X, false, -1, 500, 100);"
   ]
  },
  {
   "cell_type": "code",
   "execution_count": 17,
   "id": "6a8ac6fc",
   "metadata": {},
   "outputs": [
    {
     "data": {
      "text/plain": [
       "10×1 Matrix{Float64}:\n",
       " 0.9505182365246321\n",
       " 0.0\n",
       " 0.0\n",
       " 0.00680414948754348\n",
       " 0.0043792090536460705\n",
       " 0.0\n",
       " 0.02901832494394083\n",
       " 0.0\n",
       " 0.0\n",
       " 0.009280078549375128"
      ]
     },
     "execution_count": 17,
     "metadata": {},
     "output_type": "execute_result"
    }
   ],
   "source": [
    "sens4_bis = knn_sensi(cf3_bis,500)"
   ]
  },
  {
   "cell_type": "code",
   "execution_count": null,
   "id": "6142bee9",
   "metadata": {},
   "outputs": [],
   "source": []
  }
 ],
 "metadata": {
  "kernelspec": {
   "display_name": "Julia 1.7.2",
   "language": "julia",
   "name": "julia-1.7"
  },
  "language_info": {
   "file_extension": ".jl",
   "mimetype": "application/julia",
   "name": "julia",
   "version": "1.7.2"
  }
 },
 "nbformat": 4,
 "nbformat_minor": 5
}
