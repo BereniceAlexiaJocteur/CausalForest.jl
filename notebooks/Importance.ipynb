{
 "cells": [
  {
   "cell_type": "code",
   "execution_count": 1,
   "id": "dcdffae0",
   "metadata": {},
   "outputs": [],
   "source": [
    "using CausalForest\n",
    "using StatsBase\n",
    "using Distributions"
   ]
  },
  {
   "cell_type": "code",
   "execution_count": 2,
   "id": "c63c37ae",
   "metadata": {},
   "outputs": [],
   "source": [
    "indices,X,T,Y = load_data(\"causal\");\n",
    "cf1 = build_forest(true, false, Y, T, X, false, -1, 500, 100);"
   ]
  },
  {
   "cell_type": "code",
   "execution_count": 3,
   "id": "5ae73196",
   "metadata": {},
   "outputs": [
    {
     "data": {
      "text/plain": [
       "10-element Vector{Float64}:\n",
       " 0.6728945937400077\n",
       " 0.04740347208044878\n",
       " 0.0466051186895586\n",
       " 0.0341644114910073\n",
       " 0.027569324266785575\n",
       " 0.034361542870748954\n",
       " 0.031573319972881896\n",
       " 0.028801576743955316\n",
       " 0.03148245171554392\n",
       " 0.04514418842906186"
      ]
     },
     "execution_count": 3,
     "metadata": {},
     "output_type": "execute_result"
    }
   ],
   "source": [
    "importance(cf1)"
   ]
  },
  {
   "cell_type": "code",
   "execution_count": 4,
   "id": "0ba6bfd5",
   "metadata": {},
   "outputs": [],
   "source": [
    "cf1bis = build_forest(true, false, Y, T, X, true, 10, 500, 100);"
   ]
  },
  {
   "cell_type": "code",
   "execution_count": 5,
   "id": "e0ecf4d8",
   "metadata": {},
   "outputs": [
    {
     "data": {
      "text/plain": [
       "10-element Vector{Float64}:\n",
       " 0.7421863758802223\n",
       " 0.026190131118774978\n",
       " 0.043458411602767685\n",
       " 0.025473595548292673\n",
       " 0.025803091017885273\n",
       " 0.02879123054771237\n",
       " 0.025481223044803124\n",
       " 0.026657416034199934\n",
       " 0.02779097623382194\n",
       " 0.028167548971519723"
      ]
     },
     "execution_count": 5,
     "metadata": {},
     "output_type": "execute_result"
    }
   ],
   "source": [
    "importance(cf1bis)"
   ]
  },
  {
   "cell_type": "code",
   "execution_count": null,
   "id": "23852eb9",
   "metadata": {},
   "outputs": [],
   "source": []
  },
  {
   "cell_type": "code",
   "execution_count": 6,
   "id": "b302e619",
   "metadata": {},
   "outputs": [],
   "source": [
    "n, m = 10^4, 10\n",
    "u = Uniform()\n",
    "features = rand(u, (n, m))\n",
    "X = features\n",
    "d = Normal()\n",
    "eps = rand(d, n)\n",
    "b = Bernoulli()\n",
    "T = convert(Vector{Int64},rand(b, n))\n",
    "Y = features*[10, 0, 0, 0, 0, 0, 0, 0, 0, 0].*T  .+ 0.5\n",
    "\n",
    "cf2 = build_forest(true, false, Y, T, features, true, 10, 500, 100);"
   ]
  },
  {
   "cell_type": "code",
   "execution_count": 7,
   "id": "93ed6e08",
   "metadata": {},
   "outputs": [
    {
     "data": {
      "text/plain": [
       "10-element Vector{Float64}:\n",
       " 1.0\n",
       " 0.0\n",
       " 0.0\n",
       " 0.0\n",
       " 0.0\n",
       " 0.0\n",
       " 0.0\n",
       " 0.0\n",
       " 0.0\n",
       " 0.0"
      ]
     },
     "execution_count": 7,
     "metadata": {},
     "output_type": "execute_result"
    }
   ],
   "source": [
    "importance(cf2)"
   ]
  },
  {
   "cell_type": "code",
   "execution_count": null,
   "id": "9187f16d",
   "metadata": {},
   "outputs": [],
   "source": []
  },
  {
   "cell_type": "code",
   "execution_count": 8,
   "id": "7e9dba2a",
   "metadata": {},
   "outputs": [],
   "source": [
    "Y = features*[10, 0, 0, 0, 0, 0, 0, 0, 0, 0].*T  .+ eps\n",
    "\n",
    "cf3 = build_forest(false, true, Y, T, X, true, 10, 500, 100);"
   ]
  },
  {
   "cell_type": "code",
   "execution_count": 9,
   "id": "599ac173",
   "metadata": {},
   "outputs": [
    {
     "data": {
      "text/plain": [
       "10-element Vector{Float64}:\n",
       " 0.9816817073170732\n",
       " 0.001624390243902439\n",
       " 0.0018658536585365855\n",
       " 0.001920731707317073\n",
       " 0.0018329268292682926\n",
       " 0.001975609756097561\n",
       " 0.0033365853658536586\n",
       " 0.0014817073170731707\n",
       " 0.002228048780487805\n",
       " 0.002052439024390244"
      ]
     },
     "execution_count": 9,
     "metadata": {},
     "output_type": "execute_result"
    }
   ],
   "source": [
    "importance(cf3)"
   ]
  },
  {
   "cell_type": "code",
   "execution_count": null,
   "id": "9e744645",
   "metadata": {},
   "outputs": [],
   "source": []
  }
 ],
 "metadata": {
  "kernelspec": {
   "display_name": "Julia 1.7.2",
   "language": "julia",
   "name": "julia-1.7"
  },
  "language_info": {
   "file_extension": ".jl",
   "mimetype": "application/julia",
   "name": "julia",
   "version": "1.7.2"
  }
 },
 "nbformat": 4,
 "nbformat_minor": 5
}
