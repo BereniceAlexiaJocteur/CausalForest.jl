{
 "cells": [
  {
   "cell_type": "code",
   "execution_count": 17,
   "id": "ca4e630d",
   "metadata": {},
   "outputs": [],
   "source": [
    "using CausalForest\n",
    "using StatsBase\n",
    "using Plots\n",
    "using Distributions"
   ]
  },
  {
   "cell_type": "markdown",
   "id": "c657ea04",
   "metadata": {},
   "source": [
    "Modèle \n",
    "\n",
    "$$Y = 10 X_1 + \\epsilon$$\n",
    "\n",
    "X est 10 features toutes uniformes sur [0,1].\n",
    "\n",
    "Epsilon suit loi normale (0,1).\n",
    "\n",
    "$n=10^3$ observations"
   ]
  },
  {
   "cell_type": "code",
   "execution_count": 18,
   "id": "e5fed0da",
   "metadata": {},
   "outputs": [],
   "source": [
    "n, m = 10^3, 10\n",
    "u = Uniform()\n",
    "features = rand(u, (n, m))\n",
    "d = Normal()\n",
    "eps = rand(d, 1000)\n",
    "labels = features*[10, 0, 0, 0, 0, 0, 0, 0, 0, 0]  .+ eps\n",
    "\n",
    "model = build_forest_oob(labels, features, 10, 1000, 0.7, 3);"
   ]
  },
  {
   "cell_type": "code",
   "execution_count": 19,
   "id": "ebc4c46a",
   "metadata": {},
   "outputs": [
    {
     "data": {
      "text/plain": [
       "get_all_nodes_in_tree! (generic function with 2 methods)"
      ]
     },
     "execution_count": 19,
     "metadata": {},
     "output_type": "execute_result"
    }
   ],
   "source": [
    "function get_all_nodes_in_tree!(\n",
    "    tree ,\n",
    "    result  = []\n",
    "    )\n",
    "    if hasproperty(tree, :featid)  \n",
    "        push!(result, tree.featid)\n",
    "        get_all_nodes_in_tree!(tree.left, result)\n",
    "        get_all_nodes_in_tree!(tree.right, result)\n",
    "    end\n",
    "    return result\n",
    "end"
   ]
  },
  {
   "cell_type": "code",
   "execution_count": 20,
   "id": "f4507734",
   "metadata": {},
   "outputs": [
    {
     "data": {
      "text/plain": [
       "get_freq (generic function with 1 method)"
      ]
     },
     "execution_count": 20,
     "metadata": {},
     "output_type": "execute_result"
    }
   ],
   "source": [
    "function get_freq(forest) \n",
    "    ensemble = forest.trees\n",
    "    n_trees = length(ensemble)\n",
    "    res = []\n",
    "    for i = 1:n_trees\n",
    "        append!(res, get_all_nodes_in_tree!(forest.trees[i].tree))\n",
    "    end\n",
    "    return proportionmap(res)\n",
    "end"
   ]
  },
  {
   "cell_type": "code",
   "execution_count": 21,
   "id": "64524056",
   "metadata": {},
   "outputs": [
    {
     "data": {
      "text/plain": [
       "Dict{Any, Float64} with 10 entries:\n",
       "  5  => 0.00142857\n",
       "  4  => 0.00214286\n",
       "  6  => 0.00271429\n",
       "  7  => 0.002\n",
       "  2  => 0.00114286\n",
       "  10 => 0.00628571\n",
       "  9  => 0.001\n",
       "  8  => 0.00328571\n",
       "  3  => 0.00242857\n",
       "  1  => 0.977571"
      ]
     },
     "execution_count": 21,
     "metadata": {},
     "output_type": "execute_result"
    }
   ],
   "source": [
    "get_freq(model)"
   ]
  },
  {
   "cell_type": "code",
   "execution_count": 22,
   "id": "0c79aaa7",
   "metadata": {},
   "outputs": [],
   "source": [
    "model2 = build_forest_oob(labels, features, 10, 1000, 0.7, 5);"
   ]
  },
  {
   "cell_type": "code",
   "execution_count": 23,
   "id": "5733d9cb",
   "metadata": {},
   "outputs": [
    {
     "data": {
      "text/plain": [
       "Dict{Any, Float64} with 10 entries:\n",
       "  5  => 0.07928\n",
       "  4  => 0.0798983\n",
       "  6  => 0.0710016\n",
       "  7  => 0.0675666\n",
       "  2  => 0.0578456\n",
       "  10 => 0.0994779\n",
       "  9  => 0.0658491\n",
       "  8  => 0.0659865\n",
       "  3  => 0.0607997\n",
       "  1  => 0.352295"
      ]
     },
     "execution_count": 23,
     "metadata": {},
     "output_type": "execute_result"
    }
   ],
   "source": [
    "get_freq(model2)"
   ]
  },
  {
   "cell_type": "code",
   "execution_count": 24,
   "id": "7b01e6fc",
   "metadata": {},
   "outputs": [],
   "source": [
    "model3 = build_forest_oob(labels, features, 10, 1000, 0.7, 10);"
   ]
  },
  {
   "cell_type": "code",
   "execution_count": 25,
   "id": "ab488b1d",
   "metadata": {},
   "outputs": [
    {
     "data": {
      "text/plain": [
       "Dict{Any, Float64} with 10 entries:\n",
       "  5  => 0.0975483\n",
       "  4  => 0.0955595\n",
       "  6  => 0.0933915\n",
       "  7  => 0.0858697\n",
       "  2  => 0.0836829\n",
       "  10 => 0.102346\n",
       "  9  => 0.0900736\n",
       "  8  => 0.0913273\n",
       "  3  => 0.0898474\n",
       "  1  => 0.170354"
      ]
     },
     "execution_count": 25,
     "metadata": {},
     "output_type": "execute_result"
    }
   ],
   "source": [
    "get_freq(model3)"
   ]
  },
  {
   "cell_type": "markdown",
   "id": "a39e7644",
   "metadata": {},
   "source": [
    "Modèle\n",
    "\n",
    "$$\\Theta(X) = 10 X_1$$\n",
    "\n",
    "$$Y = \\Theta(X) T + 0.5$$\n",
    "\n",
    "X est 10 features toutes uniformes sur [0,1].\n",
    "\n",
    "T suit loi bernouilli p=0.5.\n",
    "\n",
    "$n=10^4$ observations"
   ]
  },
  {
   "cell_type": "code",
   "execution_count": 26,
   "id": "21e0daab",
   "metadata": {},
   "outputs": [],
   "source": [
    "n, m = 10^4, 10\n",
    "u = Uniform()\n",
    "features = rand(u, (n, m))\n",
    "X = features\n",
    "d = Normal()\n",
    "eps = rand(d, n)\n",
    "b = Bernoulli()\n",
    "T = convert(Vector{Int64},rand(b, n))\n",
    "Y = features*[10, 0, 0, 0, 0, 0, 0, 0, 0, 0].*T  .+ 0.5\n",
    "\n",
    "cf1 = build_forest(false, false, true, Y, T, features, true, 10, 1000, 0.7, 0.5, 3);"
   ]
  },
  {
   "cell_type": "code",
   "execution_count": 27,
   "id": "ca8d237c",
   "metadata": {},
   "outputs": [
    {
     "data": {
      "image/png": "[encoded data removed]"
     },
     "execution_count": 27,
     "metadata": {},
     "output_type": "execute_result"
    }
   ],
   "source": [
    "Xtest = rand(Float64, (1000, size(X, 2)));\n",
    "Xtest[:, 1] =  LinRange(0, 1, 1000);\n",
    "true_effect = Xtest[:, 1].*10;\n",
    "pred1 = apply_forest(cf1, Xtest);\n",
    "plot(Xtest[:, 1], [true_effect, pred1], label=[\"True effect\" \"Estimation\"], title = \"No centering no bootstrap honest\", fmt = :png)"
   ]
  },
  {
   "cell_type": "code",
   "execution_count": 28,
   "id": "95a8588b",
   "metadata": {
    "scrolled": true
   },
   "outputs": [
    {
     "data": {
      "text/plain": [
       "Dict{Any, Float64} with 10 entries:\n",
       "  5  => 0.0556113\n",
       "  4  => 0.0465816\n",
       "  6  => 0.0543213\n",
       "  7  => 0.0526014\n",
       "  2  => 0.0534614\n",
       "  10 => 0.0507381\n",
       "  9  => 0.0376953\n",
       "  8  => 0.044575\n",
       "  3  => 0.0569012\n",
       "  1  => 0.547513"
      ]
     },
     "execution_count": 28,
     "metadata": {},
     "output_type": "execute_result"
    }
   ],
   "source": [
    "get_freq(cf1)"
   ]
  },
  {
   "cell_type": "code",
   "execution_count": 29,
   "id": "bb465fe8",
   "metadata": {},
   "outputs": [
    {
     "data": {
      "image/png": "[encoded data removed]"
     },
     "execution_count": 29,
     "metadata": {},
     "output_type": "execute_result"
    }
   ],
   "source": [
    "cf2 = build_forest(false, false, true, Y, T, X, true, 10, 1000, 0.7, 0.5, 5);\n",
    "pred2 = apply_forest(cf2, Xtest);\n",
    "plot(Xtest[:, 1], [true_effect, pred2], label=[\"True effect\" \"Estimation\"], title = \"No centering no bootstrap honest\", fmt = :png)"
   ]
  },
  {
   "cell_type": "code",
   "execution_count": 30,
   "id": "9d0adbc6",
   "metadata": {},
   "outputs": [
    {
     "data": {
      "text/plain": [
       "Dict{Any, Float64} with 10 entries:\n",
       "  5  => 0.0818005\n",
       "  4  => 0.0707716\n",
       "  6  => 0.0832212\n",
       "  7  => 0.0738373\n",
       "  2  => 0.07952\n",
       "  10 => 0.0809406\n",
       "  9  => 0.0692762\n",
       "  8  => 0.0769029\n",
       "  3  => 0.0748467\n",
       "  1  => 0.308883"
      ]
     },
     "execution_count": 30,
     "metadata": {},
     "output_type": "execute_result"
    }
   ],
   "source": [
    "get_freq(cf2)"
   ]
  },
  {
   "cell_type": "code",
   "execution_count": 31,
   "id": "1a447b3c",
   "metadata": {},
   "outputs": [
    {
     "data": {
      "image/png": "[encoded data removed]"
     },
     "execution_count": 31,
     "metadata": {},
     "output_type": "execute_result"
    }
   ],
   "source": [
    "cf3 = build_forest(false, false, true, Y, T, X, true, 10, 1000, 0.7, 0.5, 10);\n",
    "pred3 = apply_forest(cf3, Xtest);\n",
    "plot(Xtest[:, 1], [true_effect, pred3], label=[\"True effect\" \"Estimation\"], title = \"No centering no bootstrap honest\", fmt = :png)"
   ]
  },
  {
   "cell_type": "code",
   "execution_count": 32,
   "id": "f47270f0",
   "metadata": {},
   "outputs": [
    {
     "data": {
      "text/plain": [
       "Dict{Any, Float64} with 10 entries:\n",
       "  5  => 0.0936664\n",
       "  4  => 0.0937315\n",
       "  6  => 0.0955125\n",
       "  7  => 0.0976959\n",
       "  2  => 0.093625\n",
       "  10 => 0.0972285\n",
       "  9  => 0.0963527\n",
       "  8  => 0.0950155\n",
       "  3  => 0.0953114\n",
       "  1  => 0.141861"
      ]
     },
     "execution_count": 32,
     "metadata": {},
     "output_type": "execute_result"
    }
   ],
   "source": [
    "get_freq(cf3)"
   ]
  },
  {
   "cell_type": "code",
   "execution_count": 33,
   "id": "79798e17",
   "metadata": {},
   "outputs": [
    {
     "data": {
      "image/png": "[encoded data removed]"
     },
     "execution_count": 33,
     "metadata": {},
     "output_type": "execute_result"
    }
   ],
   "source": [
    "cf4 = build_forest(false, false, true, Y, T, X, true, 10, 1000);\n",
    "pred4 = apply_forest(cf4, Xtest);\n",
    "plot(Xtest[:, 1], [true_effect, pred4], label=[\"True effect\" \"Estimation\"], title = \"No centering no bootstrap no honest\", fmt = :png)"
   ]
  },
  {
   "cell_type": "code",
   "execution_count": 34,
   "id": "e2959e9c",
   "metadata": {},
   "outputs": [
    {
     "data": {
      "text/plain": [
       "Dict{Any, Float64} with 10 entries:\n",
       "  5  => 0.0959777\n",
       "  4  => 0.0963059\n",
       "  6  => 0.0964246\n",
       "  7  => 0.0980306\n",
       "  2  => 0.096076\n",
       "  10 => 0.0977209\n",
       "  9  => 0.097452\n",
       "  8  => 0.0963282\n",
       "  3  => 0.0979453\n",
       "  1  => 0.127739"
      ]
     },
     "execution_count": 34,
     "metadata": {},
     "output_type": "execute_result"
    }
   ],
   "source": [
    "get_freq(cf4)"
   ]
  },
  {
   "cell_type": "markdown",
   "id": "e512cf0d",
   "metadata": {},
   "source": [
    "Modèle\n",
    "\n",
    "$$\\Theta(X) = 10 X_1$$\n",
    "\n",
    "$$Y = \\Theta(X) T + \\epsilon$$\n",
    "\n",
    "X est 10 features toutes uniformes sur [0,1].\n",
    "\n",
    "T suit loi bernouilli p=0.5.\n",
    "\n",
    "Epsilon suit loi normale (0,1).\n",
    "\n",
    "$n=10^4$ observations"
   ]
  },
  {
   "cell_type": "code",
   "execution_count": 35,
   "id": "5dcef063",
   "metadata": {},
   "outputs": [],
   "source": [
    "Y = features*[10, 0, 0, 0, 0, 0, 0, 0, 0, 0].*T  .+ eps\n",
    "\n",
    "cf1 = build_forest(false, false, true, Y, T, X, true, 10, 1000, 0.7, 0.5, 3);"
   ]
  },
  {
   "cell_type": "code",
   "execution_count": 36,
   "id": "9a01b82d",
   "metadata": {
    "scrolled": true
   },
   "outputs": [
    {
     "data": {
      "text/plain": [
       "Dict{Any, Float64} with 10 entries:\n",
       "  5  => 0.0608177\n",
       "  4  => 0.0659101\n",
       "  6  => 0.0689655\n",
       "  7  => 0.0549978\n",
       "  2  => 0.0590717\n",
       "  10 => 0.0421941\n",
       "  9  => 0.0648916\n",
       "  8  => 0.0822057\n",
       "  3  => 0.0544158\n",
       "  1  => 0.44653"
      ]
     },
     "execution_count": 36,
     "metadata": {},
     "output_type": "execute_result"
    }
   ],
   "source": [
    "get_freq(cf1)"
   ]
  },
  {
   "cell_type": "code",
   "execution_count": 37,
   "id": "b813c48e",
   "metadata": {},
   "outputs": [],
   "source": [
    "cf2 = build_forest(false, false, true, Y, T, X, true, 10, 1000, 0.7, 0.5, 5);"
   ]
  },
  {
   "cell_type": "code",
   "execution_count": 38,
   "id": "cc2472e9",
   "metadata": {},
   "outputs": [
    {
     "data": {
      "text/plain": [
       "Dict{Any, Float64} with 10 entries:\n",
       "  5  => 0.0830751\n",
       "  4  => 0.0839606\n",
       "  6  => 0.0939827\n",
       "  7  => 0.0794929\n",
       "  2  => 0.0755082\n",
       "  10 => 0.0728517\n",
       "  9  => 0.088388\n",
       "  8  => 0.0976052\n",
       "  3  => 0.0761924\n",
       "  1  => 0.248943"
      ]
     },
     "execution_count": 38,
     "metadata": {},
     "output_type": "execute_result"
    }
   ],
   "source": [
    "get_freq(cf2)"
   ]
  },
  {
   "cell_type": "code",
   "execution_count": 39,
   "id": "1924517c",
   "metadata": {},
   "outputs": [],
   "source": [
    "cf3 = build_forest(false, false, true, Y, T, X, true, 10, 1000, 0.7, 0.5, 10);"
   ]
  },
  {
   "cell_type": "code",
   "execution_count": 40,
   "id": "0a17e7de",
   "metadata": {},
   "outputs": [
    {
     "data": {
      "text/plain": [
       "Dict{Any, Float64} with 10 entries:\n",
       "  5  => 0.0963376\n",
       "  4  => 0.101263\n",
       "  6  => 0.102917\n",
       "  7  => 0.101184\n",
       "  2  => 0.0945741\n",
       "  10 => 0.100612\n",
       "  9  => 0.101622\n",
       "  8  => 0.0979003\n",
       "  3  => 0.0976571\n",
       "  1  => 0.105933"
      ]
     },
     "execution_count": 40,
     "metadata": {},
     "output_type": "execute_result"
    }
   ],
   "source": [
    "get_freq(cf3)"
   ]
  },
  {
   "cell_type": "code",
   "execution_count": 41,
   "id": "59d64140",
   "metadata": {},
   "outputs": [],
   "source": [
    "cf4 = build_forest(false, false, true, Y, T, X, true, 10, 1000);"
   ]
  },
  {
   "cell_type": "code",
   "execution_count": 42,
   "id": "fe61e453",
   "metadata": {},
   "outputs": [
    {
     "data": {
      "text/plain": [
       "Dict{Any, Float64} with 10 entries:\n",
       "  5  => 0.0970641\n",
       "  4  => 0.100382\n",
       "  6  => 0.101537\n",
       "  7  => 0.100898\n",
       "  2  => 0.097408\n",
       "  10 => 0.0995372\n",
       "  9  => 0.101712\n",
       "  8  => 0.0993104\n",
       "  3  => 0.0994366\n",
       "  1  => 0.102715"
      ]
     },
     "execution_count": 42,
     "metadata": {},
     "output_type": "execute_result"
    }
   ],
   "source": [
    "get_freq(cf4)"
   ]
  },
  {
   "cell_type": "markdown",
   "id": "fca2cf80",
   "metadata": {},
   "source": [
    "$n=10^5$ maintenant"
   ]
  },
  {
   "cell_type": "markdown",
   "id": "3177cdcc",
   "metadata": {},
   "source": [
    "Modèle\n",
    "\n",
    "$$\\Theta(X) = 10 X_1$$\n",
    "\n",
    "$$Y = \\Theta(X) T + 0.5$$\n",
    "\n",
    "X est 10 features toutes uniformes sur [0,1].\n",
    "\n",
    "T suit loi bernouilli p=0.5.\n",
    "\n",
    "$n=10^5$ observations"
   ]
  },
  {
   "cell_type": "code",
   "execution_count": 43,
   "id": "44bbfe55",
   "metadata": {},
   "outputs": [],
   "source": [
    "n, m = 10^5, 10\n",
    "u = Uniform()\n",
    "features = rand(u, (n, m))\n",
    "X = features\n",
    "d = Normal()\n",
    "eps = rand(d, n)\n",
    "b = Bernoulli()\n",
    "T = convert(Vector{Int64},rand(b, n))\n",
    "Y = features*[10, 0, 0, 0, 0, 0, 0, 0, 0, 0].*T  .+ 0.5\n",
    "\n",
    "cf1 = build_forest(false, false, true, Y, T, features, true, 10, 1000, 0.7, 0.5, 3);"
   ]
  },
  {
   "cell_type": "code",
   "execution_count": 44,
   "id": "c3e28660",
   "metadata": {
    "scrolled": true
   },
   "outputs": [
    {
     "data": {
      "text/plain": [
       "Dict{Any, Float64} with 10 entries:\n",
       "  5  => 0.0465714\n",
       "  4  => 0.0538571\n",
       "  6  => 0.0548571\n",
       "  7  => 0.0475714\n",
       "  2  => 0.0371429\n",
       "  10 => 0.053\n",
       "  9  => 0.0415714\n",
       "  8  => 0.0432857\n",
       "  3  => 0.049\n",
       "  1  => 0.573143"
      ]
     },
     "execution_count": 44,
     "metadata": {},
     "output_type": "execute_result"
    }
   ],
   "source": [
    "get_freq(cf1)"
   ]
  },
  {
   "cell_type": "code",
   "execution_count": 45,
   "id": "0f46cb45",
   "metadata": {},
   "outputs": [],
   "source": [
    "cf2 = build_forest(false, false, true, Y, T, features, true, 10, 1000, 0.7, 0.5, 5);"
   ]
  },
  {
   "cell_type": "code",
   "execution_count": 46,
   "id": "ccb495ca",
   "metadata": {},
   "outputs": [
    {
     "data": {
      "text/plain": [
       "Dict{Any, Float64} with 10 entries:\n",
       "  5  => 0.0671528\n",
       "  4  => 0.0705999\n",
       "  6  => 0.071992\n",
       "  7  => 0.0688432\n",
       "  2  => 0.0684455\n",
       "  10 => 0.0736162\n",
       "  9  => 0.0706662\n",
       "  8  => 0.0659596\n",
       "  3  => 0.0721909\n",
       "  1  => 0.370534"
      ]
     },
     "execution_count": 46,
     "metadata": {},
     "output_type": "execute_result"
    }
   ],
   "source": [
    "get_freq(cf2)"
   ]
  },
  {
   "cell_type": "code",
   "execution_count": 47,
   "id": "80867d45",
   "metadata": {},
   "outputs": [],
   "source": [
    "cf3 = build_forest(false, false, true, Y, T, X, true, 10, 1000, 0.7, 0.5, 10);"
   ]
  },
  {
   "cell_type": "code",
   "execution_count": 48,
   "id": "fd8089ec",
   "metadata": {},
   "outputs": [
    {
     "data": {
      "text/plain": [
       "Dict{Any, Float64} with 10 entries:\n",
       "  5  => 0.0981167\n",
       "  4  => 0.100102\n",
       "  6  => 0.0999198\n",
       "  7  => 0.0976372\n",
       "  2  => 0.10033\n",
       "  10 => 0.100784\n",
       "  9  => 0.0974735\n",
       "  8  => 0.0984603\n",
       "  3  => 0.09965\n",
       "  1  => 0.107526"
      ]
     },
     "execution_count": 48,
     "metadata": {},
     "output_type": "execute_result"
    }
   ],
   "source": [
    "get_freq(cf3)"
   ]
  },
  {
   "cell_type": "markdown",
   "id": "681f75a2",
   "metadata": {},
   "source": [
    "Modèle\n",
    "\n",
    "$$\\Theta(X) = 10 X_1$$\n",
    "\n",
    "$$Y = \\Theta(X) T + \\epsilon$$\n",
    "\n",
    "X est 10 features toutes uniformes sur [0,1].\n",
    "\n",
    "T suit loi bernouilli p=0.5.\n",
    "\n",
    "Epsilon suit loi normale (0,1).\n",
    "\n",
    "$n=10^5$ observations"
   ]
  },
  {
   "cell_type": "code",
   "execution_count": 51,
   "id": "8189e3e7",
   "metadata": {},
   "outputs": [],
   "source": [
    "Y = features*[10, 0, 0, 0, 0, 0, 0, 0, 0, 0].*T  .+ eps\n",
    "\n",
    "cf1 = build_forest(false, false, true, Y, T, X, true, 10, 1000, 0.7, 0.5, 3);"
   ]
  },
  {
   "cell_type": "code",
   "execution_count": 52,
   "id": "85589ad3",
   "metadata": {
    "scrolled": true
   },
   "outputs": [
    {
     "data": {
      "text/plain": [
       "Dict{Any, Float64} with 10 entries:\n",
       "  5  => 0.0779481\n",
       "  4  => 0.0551655\n",
       "  6  => 0.0565984\n",
       "  7  => 0.0548789\n",
       "  2  => 0.0663419\n",
       "  10 => 0.0495773\n",
       "  9  => 0.0544491\n",
       "  8  => 0.0601805\n",
       "  3  => 0.0511535\n",
       "  1  => 0.473707"
      ]
     },
     "execution_count": 52,
     "metadata": {},
     "output_type": "execute_result"
    }
   ],
   "source": [
    "get_freq(cf1)"
   ]
  },
  {
   "cell_type": "code",
   "execution_count": 53,
   "id": "3d3b2787",
   "metadata": {},
   "outputs": [],
   "source": [
    "cf2 = build_forest(false, false, true, Y, T, X, true, 10, 1000, 0.7, 0.5, 5);"
   ]
  },
  {
   "cell_type": "code",
   "execution_count": 54,
   "id": "237be831",
   "metadata": {},
   "outputs": [
    {
     "data": {
      "text/plain": [
       "Dict{Any, Float64} with 10 entries:\n",
       "  5  => 0.085243\n",
       "  4  => 0.0710845\n",
       "  6  => 0.0727266\n",
       "  7  => 0.0673624\n",
       "  2  => 0.0850241\n",
       "  10 => 0.0675814\n",
       "  9  => 0.0714859\n",
       "  8  => 0.0829076\n",
       "  3  => 0.0749891\n",
       "  1  => 0.321595"
      ]
     },
     "execution_count": 54,
     "metadata": {},
     "output_type": "execute_result"
    }
   ],
   "source": [
    "get_freq(cf2)"
   ]
  },
  {
   "cell_type": "code",
   "execution_count": 55,
   "id": "6a62acaf",
   "metadata": {},
   "outputs": [],
   "source": [
    "cf3 = build_forest(false, false, true, Y, T, X, true, 10, 1000, 0.7, 0.5, 10);"
   ]
  },
  {
   "cell_type": "code",
   "execution_count": 56,
   "id": "4d56ba4b",
   "metadata": {},
   "outputs": [
    {
     "data": {
      "text/plain": [
       "Dict{Any, Float64} with 10 entries:\n",
       "  5  => 0.102066\n",
       "  4  => 0.100092\n",
       "  6  => 0.0992271\n",
       "  7  => 0.0977648\n",
       "  2  => 0.104693\n",
       "  10 => 0.103194\n",
       "  9  => 0.0990659\n",
       "  8  => 0.10275\n",
       "  3  => 0.102302\n",
       "  1  => 0.0888463"
      ]
     },
     "execution_count": 56,
     "metadata": {},
     "output_type": "execute_result"
    }
   ],
   "source": [
    "get_freq(cf3)"
   ]
  },
  {
   "cell_type": "code",
   "execution_count": null,
   "id": "ffe8e2c4",
   "metadata": {},
   "outputs": [],
   "source": []
  }
 ],
 "metadata": {
  "celltoolbar": "Éditer les Méta-Données",
  "kernelspec": {
   "display_name": "Julia 1.7.2",
   "language": "julia",
   "name": "julia-1.7"
  },
  "language_info": {
   "file_extension": ".jl",
   "mimetype": "application/julia",
   "name": "julia",
   "version": "1.7.2"
  }
 },
 "nbformat": 4,
 "nbformat_minor": 5
}
