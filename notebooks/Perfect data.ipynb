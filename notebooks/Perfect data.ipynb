{
 "cells": [
  {
   "cell_type": "code",
   "execution_count": 1,
   "id": "8d465bc3",
   "metadata": {},
   "outputs": [],
   "source": [
    "using CausalForest\n",
    "using StatsBase\n",
    "using Distributions"
   ]
  },
  {
   "cell_type": "code",
   "execution_count": 5,
   "id": "50f0557e",
   "metadata": {},
   "outputs": [],
   "source": [
    "n, m = 10^4, 10\n",
    "u = Uniform()\n",
    "features = rand(u, (n, m))\n",
    "X = [features; features]\n",
    "T = convert(Vector{Int64},[ones(n); zeros(n)])\n",
    "Y = X*[10, 0, 0, 0, 0, 0, 0, 0, 0, 0].*T  .+ 0.5\n",
    "\n",
    "cf2 = build_forest(true, true, false, Y, T, X, false, 10, 1000);"
   ]
  },
  {
   "cell_type": "code",
   "execution_count": 6,
   "id": "122f23cf",
   "metadata": {},
   "outputs": [
    {
     "data": {
      "text/plain": [
       "10-element Vector{Float64}:\n",
       " 0.7300094645732274\n",
       " 0.03745396410017069\n",
       " 0.020812147204470187\n",
       " 0.021824037268353358\n",
       " 0.019480863786476905\n",
       " 0.05409698125638024\n",
       " 0.021161083367197943\n",
       " 0.02789464251637021\n",
       " 0.02133018952715271\n",
       " 0.04593662640020032"
      ]
     },
     "execution_count": 6,
     "metadata": {},
     "output_type": "execute_result"
    }
   ],
   "source": [
    "importance(cf2)"
   ]
  },
  {
   "cell_type": "code",
   "execution_count": 7,
   "id": "40fa8299",
   "metadata": {},
   "outputs": [],
   "source": [
    "Y = X*[10, 0, 0, 0, 0, 0, 0, 0, 0, 0].*T\n",
    "cf3 = build_forest(true, true, false, Y, T, X, false, 10, 1000);"
   ]
  },
  {
   "cell_type": "code",
   "execution_count": 8,
   "id": "839edc4d",
   "metadata": {},
   "outputs": [
    {
     "data": {
      "text/plain": [
       "10-element Vector{Float64}:\n",
       " 0.7353374321413237\n",
       " 0.03432356847298473\n",
       " 0.019686600038485387\n",
       " 0.021488649729176346\n",
       " 0.01928051759025418\n",
       " 0.05928653992036843\n",
       " 0.020144270939010705\n",
       " 0.02672023629779215\n",
       " 0.0230434201873272\n",
       " 0.040688764683277"
      ]
     },
     "execution_count": 8,
     "metadata": {},
     "output_type": "execute_result"
    }
   ],
   "source": [
    "importance(cf3)"
   ]
  },
  {
   "cell_type": "code",
   "execution_count": null,
   "id": "1f1c1298",
   "metadata": {},
   "outputs": [],
   "source": []
  },
  {
   "cell_type": "code",
   "execution_count": 9,
   "id": "e131b13d",
   "metadata": {},
   "outputs": [
    {
     "data": {
      "text/plain": [
       "10×1 Matrix{Float64}:\n",
       " 0.9561128801981618\n",
       " 0.0\n",
       " 0.0\n",
       " 0.0010179326924024418\n",
       " 0.00357997707986574\n",
       " 0.0099070946548205\n",
       " 0.0\n",
       " 0.020561706303463958\n",
       " 0.0012513396861744536\n",
       " 0.007569068156700994"
      ]
     },
     "execution_count": 9,
     "metadata": {},
     "output_type": "execute_result"
    }
   ],
   "source": [
    "knn_sensi(cf2,500)"
   ]
  },
  {
   "cell_type": "code",
   "execution_count": 10,
   "id": "4026bb42",
   "metadata": {},
   "outputs": [
    {
     "data": {
      "text/plain": [
       "10×1 Matrix{Float64}:\n",
       " 0.9527755807164225\n",
       " 0.005025726627649012\n",
       " 0.0\n",
       " 0.03257733724951108\n",
       " 0.0\n",
       " 0.005877720426312743\n",
       " 0.0\n",
       " 0.0\n",
       " 0.0\n",
       " 0.0037436335498482417"
      ]
     },
     "execution_count": 10,
     "metadata": {},
     "output_type": "execute_result"
    }
   ],
   "source": [
    "knn_sensi(cf3,500)"
   ]
  },
  {
   "cell_type": "code",
   "execution_count": null,
   "id": "be27cb6e",
   "metadata": {},
   "outputs": [],
   "source": []
  }
 ],
 "metadata": {
  "kernelspec": {
   "display_name": "Julia 1.7.2",
   "language": "julia",
   "name": "julia-1.7"
  },
  "language_info": {
   "file_extension": ".jl",
   "mimetype": "application/julia",
   "name": "julia",
   "version": "1.7.2"
  }
 },
 "nbformat": 4,
 "nbformat_minor": 5
}
