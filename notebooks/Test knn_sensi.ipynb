{
 "cells": [
  {
   "cell_type": "code",
   "execution_count": 1,
   "id": "65fda159",
   "metadata": {},
   "outputs": [],
   "source": [
    "using CausalForest\n",
    "using StatsBase\n",
    "using Distributions"
   ]
  },
  {
   "cell_type": "code",
   "execution_count": 2,
   "id": "f82af3d9",
   "metadata": {},
   "outputs": [],
   "source": [
    "indices,X,T,Y = load_data(\"causal\");\n",
    "cf1 = build_forest(true, false, Y, T, X, false, -1, 500, 100);"
   ]
  },
  {
   "cell_type": "code",
   "execution_count": 3,
   "id": "f9ae4dae",
   "metadata": {},
   "outputs": [
    {
     "data": {
      "text/plain": [
       "10×1 Matrix{Float64}:\n",
       " 0.7848776484050051\n",
       " 0.050076464388461556\n",
       " 0.0\n",
       " 0.033341426265720515\n",
       " 0.0\n",
       " 0.0\n",
       " 0.058007061508926504\n",
       " 0.014103160100097075\n",
       " 0.0\n",
       " 0.05959423387833608"
      ]
     },
     "execution_count": 3,
     "metadata": {},
     "output_type": "execute_result"
    }
   ],
   "source": [
    "sens = knn_sensi(cf1,500)"
   ]
  },
  {
   "cell_type": "code",
   "execution_count": 4,
   "id": "8d9ac415",
   "metadata": {},
   "outputs": [
    {
     "data": {
      "text/plain": [
       "0.9999999945465469"
      ]
     },
     "execution_count": 4,
     "metadata": {},
     "output_type": "execute_result"
    }
   ],
   "source": [
    "sum(sens)"
   ]
  },
  {
   "cell_type": "code",
   "execution_count": 5,
   "id": "4e72ceed",
   "metadata": {},
   "outputs": [
    {
     "data": {
      "text/plain": [
       "10×1 Matrix{Float64}:\n",
       " 0.7732633087975979\n",
       " 0.032853103803266955\n",
       " 0.0\n",
       " 0.010701656256604712\n",
       " 0.0\n",
       " 0.014010351884817751\n",
       " 0.024394598420795954\n",
       " 0.03958631489201992\n",
       " 0.04757713239837473\n",
       " 0.05761352640632093"
      ]
     },
     "execution_count": 5,
     "metadata": {},
     "output_type": "execute_result"
    }
   ],
   "source": [
    "sens1 = knn_sensi(cf1,1000)"
   ]
  },
  {
   "cell_type": "code",
   "execution_count": 6,
   "id": "7af49028",
   "metadata": {},
   "outputs": [
    {
     "data": {
      "text/plain": [
       "0.9999999928597988"
      ]
     },
     "execution_count": 6,
     "metadata": {},
     "output_type": "execute_result"
    }
   ],
   "source": [
    "sum(sens1)"
   ]
  },
  {
   "cell_type": "code",
   "execution_count": 7,
   "id": "b95d9597",
   "metadata": {},
   "outputs": [],
   "source": [
    "cf1_bis = build_forest(true, false, Y, T, X, true, 10, 500, 100);"
   ]
  },
  {
   "cell_type": "code",
   "execution_count": 8,
   "id": "2c67ae0e",
   "metadata": {},
   "outputs": [
    {
     "data": {
      "text/plain": [
       "10×1 Matrix{Float64}:\n",
       " 0.8073794545316069\n",
       " 0.003548068479667724\n",
       " 0.008055801001531086\n",
       " 0.0\n",
       " 0.03477113537458158\n",
       " 0.04201554887572049\n",
       " 0.012066793926898562\n",
       " 0.013567489880296334\n",
       " 0.027686361976875757\n",
       " 0.050909341447857415"
      ]
     },
     "execution_count": 8,
     "metadata": {},
     "output_type": "execute_result"
    }
   ],
   "source": [
    "sens2 = knn_sensi(cf1_bis,500)"
   ]
  },
  {
   "cell_type": "code",
   "execution_count": null,
   "id": "612c8618",
   "metadata": {},
   "outputs": [],
   "source": []
  },
  {
   "cell_type": "code",
   "execution_count": 9,
   "id": "06f5fee5",
   "metadata": {},
   "outputs": [],
   "source": [
    "n, m = 10^4, 10\n",
    "u = Uniform()\n",
    "features = rand(u, (n, m))\n",
    "X = features\n",
    "d = Normal()\n",
    "eps = rand(d, n)\n",
    "b = Bernoulli()\n",
    "T = convert(Vector{Int64},rand(b, n))\n",
    "Y = features*[10, 0, 0, 0, 0, 0, 0, 0, 0, 0].*T  .+ 0.5\n",
    "\n",
    "cf2 = build_forest(true, false, Y, T, features, true, 10, 500, 100);"
   ]
  },
  {
   "cell_type": "code",
   "execution_count": 10,
   "id": "6708030d",
   "metadata": {},
   "outputs": [
    {
     "data": {
      "text/plain": [
       "10×1 Matrix{Float64}:\n",
       " 0.9952952144501078\n",
       " 0.0\n",
       " 0.0007742813227873953\n",
       " 0.00044859806177431844\n",
       " 0.0014284101319184037\n",
       " 0.00018598817836032593\n",
       " 0.0007377492358559665\n",
       " 0.0\n",
       " 0.0004939201743258833\n",
       " 0.0006358384539494429"
      ]
     },
     "execution_count": 10,
     "metadata": {},
     "output_type": "execute_result"
    }
   ],
   "source": [
    "sens3 = knn_sensi(cf2,500)"
   ]
  },
  {
   "cell_type": "code",
   "execution_count": 11,
   "id": "4998611f",
   "metadata": {},
   "outputs": [
    {
     "data": {
      "text/plain": [
       "1.0000000000090796"
      ]
     },
     "execution_count": 11,
     "metadata": {},
     "output_type": "execute_result"
    }
   ],
   "source": [
    "sum(sens3)"
   ]
  },
  {
   "cell_type": "code",
   "execution_count": 12,
   "id": "6b0b51a7",
   "metadata": {},
   "outputs": [],
   "source": [
    "cf2_bis = build_forest(true, false, Y, T, features, false, -1, 500, 100);"
   ]
  },
  {
   "cell_type": "code",
   "execution_count": 13,
   "id": "2bfa4442",
   "metadata": {},
   "outputs": [
    {
     "data": {
      "text/plain": [
       "10×1 Matrix{Float64}:\n",
       " 0.9599717700914462\n",
       " 0.019860173592216784\n",
       " 0.01687970859788843\n",
       " 0.0\n",
       " 0.0\n",
       " 0.0\n",
       " 0.0\n",
       " 0.00328834656586494\n",
       " 0.0\n",
       " 0.0"
      ]
     },
     "execution_count": 13,
     "metadata": {},
     "output_type": "execute_result"
    }
   ],
   "source": [
    "sens3_bis = knn_sensi(cf2_bis,500)"
   ]
  },
  {
   "cell_type": "code",
   "execution_count": null,
   "id": "8a60f0c0",
   "metadata": {},
   "outputs": [],
   "source": []
  },
  {
   "cell_type": "code",
   "execution_count": 14,
   "id": "e6ec1a9d",
   "metadata": {},
   "outputs": [],
   "source": [
    "Y = features*[10, 0, 0, 0, 0, 0, 0, 0, 0, 0].*T  .+ eps\n",
    "\n",
    "cf3 = build_forest(false, true, Y, T, X, true, 10, 500, 100);"
   ]
  },
  {
   "cell_type": "code",
   "execution_count": 15,
   "id": "c9153c60",
   "metadata": {},
   "outputs": [
    {
     "data": {
      "text/plain": [
       "10×1 Matrix{Float64}:\n",
       " 0.9692671317416511\n",
       " 0.010419193538395152\n",
       " 0.007172655144557923\n",
       " 0.00791359517302677\n",
       " 0.0\n",
       " 0.0\n",
       " 0.005227424059378486\n",
       " 0.0\n",
       " 0.0\n",
       " 0.0"
      ]
     },
     "execution_count": 15,
     "metadata": {},
     "output_type": "execute_result"
    }
   ],
   "source": [
    "sens4 = knn_sensi(cf3,500)"
   ]
  },
  {
   "cell_type": "code",
   "execution_count": 16,
   "id": "08dd9e3e",
   "metadata": {},
   "outputs": [],
   "source": [
    "cf3_bis = build_forest(false, true, Y, T, X, false, -1, 500, 100);"
   ]
  },
  {
   "cell_type": "code",
   "execution_count": 17,
   "id": "6a8ac6fc",
   "metadata": {},
   "outputs": [
    {
     "data": {
      "text/plain": [
       "10×1 Matrix{Float64}:\n",
       " 0.9503180019585132\n",
       " 0.0016403705126435948\n",
       " 0.0\n",
       " 0.0\n",
       " 0.004830752898128657\n",
       " 0.0\n",
       " 0.0\n",
       " 0.009360486968583092\n",
       " 0.0338503859842216\n",
       " 0.0"
      ]
     },
     "execution_count": 17,
     "metadata": {},
     "output_type": "execute_result"
    }
   ],
   "source": [
    "sens4_bis = knn_sensi(cf3_bis,500)"
   ]
  },
  {
   "cell_type": "code",
   "execution_count": null,
   "id": "6142bee9",
   "metadata": {},
   "outputs": [],
   "source": []
  }
 ],
 "metadata": {
  "kernelspec": {
   "display_name": "Julia 1.7.2",
   "language": "julia",
   "name": "julia-1.7"
  },
  "language_info": {
   "file_extension": ".jl",
   "mimetype": "application/julia",
   "name": "julia",
   "version": "1.7.2"
  }
 },
 "nbformat": 4,
 "nbformat_minor": 5
}
