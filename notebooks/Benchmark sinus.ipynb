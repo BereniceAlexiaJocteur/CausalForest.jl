{
 "cells": [
  {
   "cell_type": "code",
   "execution_count": 21,
   "id": "53b7f27d",
   "metadata": {},
   "outputs": [],
   "source": [
    "using CausalForest\n",
    "using StatsBase\n",
    "using Plots\n",
    "using Random\n",
    "using Distributions\n",
    "using RCall\n",
    "using BenchmarkTools\n",
    "using DelimitedFiles"
   ]
  },
  {
   "cell_type": "code",
   "execution_count": 10,
   "id": "2a4cd378",
   "metadata": {},
   "outputs": [],
   "source": [
    "Random.seed!(123);\n",
    "n, m = 10^4, 10;\n",
    "u = Uniform();\n",
    "features = rand(u, (n, m));\n",
    "X = features;\n",
    "d = Normal();\n",
    "eps = rand(d, n);\n",
    "b = Bernoulli();\n",
    "T = convert(Vector{Int64},rand(b, n));\n",
    "Y = sin.(features*[1, 0, 0, 0, 0, 0, 0, 0, 0, 0]).*T  .+ 0.5;"
   ]
  },
  {
   "cell_type": "code",
   "execution_count": 11,
   "id": "77832bf8",
   "metadata": {},
   "outputs": [
    {
     "data": {
      "text/plain": [
       "10000×12 Matrix{Float64}:\n",
       " 0.9063     0.0273863  0.92398     0.583606   …  0.861508   1.0  1.28723\n",
       " 0.443494   0.865398   0.438668    0.866793      0.579587   0.0  0.5\n",
       " 0.745673   0.798071   0.935901    0.596536      0.999516   0.0  0.5\n",
       " 0.512083   0.825448   0.879223    0.287236      0.806585   0.0  0.5\n",
       " 0.253849   0.530423   0.584012    0.97704       0.96668    0.0  0.5\n",
       " 0.334152   0.266141   0.98669     0.976664   …  0.949805   1.0  0.827968\n",
       " 0.427328   0.875436   0.00258112  0.0863643     0.224987   1.0  0.91444\n",
       " 0.867547   0.727313   0.0151025   0.499536      0.0765286  0.0  0.5\n",
       " 0.0991336  0.120752   0.587184    0.317045      0.981301   0.0  0.5\n",
       " 0.125287   0.688003   0.364868    0.580333      0.300126   0.0  0.5\n",
       " 0.692209   0.0298644  0.484843    0.811503   …  0.149476   0.0  0.5\n",
       " 0.136551   0.107227   0.0570038   0.105282      0.760498   1.0  0.636128\n",
       " 0.0320967  0.645858   0.485281    0.20843       0.198433   0.0  0.5\n",
       " ⋮                                            ⋱             ⋮    \n",
       " 0.141477   0.412499   0.466667    0.907923      0.201061   1.0  0.641005\n",
       " 0.890644   0.0206914  0.458998    0.338561      0.40675    0.0  0.5\n",
       " 0.906998   0.430907   0.578293    0.720941   …  0.283885   0.0  0.5\n",
       " 0.536969   0.279123   0.752206    0.224232      0.0337787  1.0  1.01153\n",
       " 0.402403   0.735939   0.673502    0.434979      0.49581    0.0  0.5\n",
       " 0.542829   0.181778   0.949776    0.879051      0.139286   0.0  0.5\n",
       " 0.409515   0.094505   0.375739    0.533247      0.354751   1.0  0.898164\n",
       " 0.528518   0.882277   0.273882    0.275131   …  0.667028   0.0  0.5\n",
       " 0.503432   0.186886   0.878118    0.381373      0.707487   1.0  0.982434\n",
       " 0.151227   0.742091   0.694678    0.232953      0.208088   0.0  0.5\n",
       " 0.987606   0.39929    0.710062    0.959089      0.192731   1.0  1.33471\n",
       " 0.855271   0.231435   0.0181986   0.495302      0.256864   0.0  0.5"
      ]
     },
     "execution_count": 11,
     "metadata": {},
     "output_type": "execute_result"
    }
   ],
   "source": [
    "df = hcat(X,T,Y)"
   ]
  },
  {
   "cell_type": "code",
   "execution_count": 23,
   "id": "8133f0ae",
   "metadata": {},
   "outputs": [],
   "source": [
    "header = [\"X1\" \"X2\" \"X3\" \"X4\" \"X5\" \"X6\" \"X7\" \"X8\" \"X9\" \"X10\" \"T\" \"Y\"]\n",
    "writedlm(\"sinus_causal.csv\", [header ; df], \",\")"
   ]
  },
  {
   "cell_type": "code",
   "execution_count": 12,
   "id": "f7a37ce6",
   "metadata": {},
   "outputs": [],
   "source": [
    "reval(\"set.seed(1)\")\n",
    "Xtest_1 = rcopy(R\"matrix(runif(10000),nrow=1000)\")\n",
    "true_effect_1 = sin.(Xtest_1[:, 1]);"
   ]
  },
  {
   "cell_type": "code",
   "execution_count": 24,
   "id": "f724ac5e",
   "metadata": {},
   "outputs": [
    {
     "data": {
      "text/plain": [
       "get_freq (generic function with 1 method)"
      ]
     },
     "execution_count": 24,
     "metadata": {},
     "output_type": "execute_result"
    }
   ],
   "source": [
    "function get_all_nodes_in_tree!(\n",
    "    tree ,\n",
    "    result  = []\n",
    "    )\n",
    "    if hasproperty(tree, :featid)  \n",
    "        push!(result, tree.featid)\n",
    "        get_all_nodes_in_tree!(tree.left, result)\n",
    "        get_all_nodes_in_tree!(tree.right, result)\n",
    "    end\n",
    "    return result\n",
    "end\n",
    "\n",
    "function get_freq(forest) \n",
    "    ensemble = forest.trees\n",
    "    n_trees = length(ensemble)\n",
    "    res = []\n",
    "    for i = 1:n_trees\n",
    "        append!(res, get_all_nodes_in_tree!(forest.trees[i].tree))\n",
    "    end\n",
    "    return proportionmap(res)\n",
    "end"
   ]
  },
  {
   "cell_type": "markdown",
   "id": "1ae94232",
   "metadata": {},
   "source": [
    "# Critère exact : centré honnête"
   ]
  },
  {
   "cell_type": "markdown",
   "id": "b0ca7f77",
   "metadata": {},
   "source": [
    "### Subsampling"
   ]
  },
  {
   "cell_type": "code",
   "execution_count": 13,
   "id": "1e55d606",
   "metadata": {},
   "outputs": [
    {
     "name": "stdout",
     "output_type": "stream",
     "text": [
      "  229.404 s (101443434 allocations: 12.32 GiB)\n",
      "  7.885 s (246926015 allocations: 4.14 GiB)\n",
      "0.27140091262435971.7674570181564734e-5"
     ]
    }
   ],
   "source": [
    "errors_7 = zeros(100)\n",
    "\n",
    "cf = @btime build_forest(true, false, true, Y, T, X, true, 10, 500, 0.5, 0.5, -1, 5, 10, 2000)\n",
    "pred = @btime apply_forest(cf, Xtest_1)\n",
    "errors_7[1] = rmsd(float(true_effect_1), pred)\n",
    "for i in 2:100\n",
    "    @rput i\n",
    "    reval(\"set.seed(i)\")\n",
    "    Xtest = rcopy(R\"matrix(runif(10000),nrow=1000)\")\n",
    "    pred = apply_forest(cf, Xtest)\n",
    "    true_effect = sin.(Xtest[:, 1])\n",
    "    errors_7[i] = rmsd(float(true_effect), pred)\n",
    "end\n",
    "print(mean(errors_7))\n",
    "print(var(errors_7))"
   ]
  },
  {
   "cell_type": "code",
   "execution_count": 25,
   "id": "2e81a048",
   "metadata": {},
   "outputs": [
    {
     "data": {
      "text/plain": [
       "Dict{Any, Float64} with 10 entries:\n",
       "  5  => 0.0976571\n",
       "  4  => 0.0987599\n",
       "  6  => 0.100649\n",
       "  7  => 0.0994695\n",
       "  2  => 0.0975652\n",
       "  10 => 0.0989182\n",
       "  9  => 0.0938893\n",
       "  8  => 0.0981064\n",
       "  3  => 0.0977235\n",
       "  1  => 0.117262"
      ]
     },
     "execution_count": 25,
     "metadata": {},
     "output_type": "execute_result"
    }
   ],
   "source": [
    "cf = build_forest(true, false, true, Y, T, X, true, 10, 500, 0.5, 0.5, -1, 5, 10, 2000)\n",
    "\n",
    "get_freq(cf)"
   ]
  },
  {
   "cell_type": "markdown",
   "id": "f64f640a",
   "metadata": {},
   "source": [
    "### Bootstrap"
   ]
  },
  {
   "cell_type": "code",
   "execution_count": 14,
   "id": "02ac018f",
   "metadata": {},
   "outputs": [
    {
     "name": "stdout",
     "output_type": "stream",
     "text": [
      "  327.383 s (104412041 allocations: 12.71 GiB)\n",
      "  10.623 s (249554580 allocations: 4.18 GiB)\n",
      "0.26983421958306021.6089012971035695e-5"
     ]
    }
   ],
   "source": [
    "errors_8 = zeros(100)\n",
    "\n",
    "cf = @btime build_forest(true, true, true, Y, T, X, true, 10, 500, 0.5, 0.5, -1, 5, 10, 2000)\n",
    "pred = @btime apply_forest(cf, Xtest_1)\n",
    "errors_8[1] = rmsd(float(true_effect_1), pred)\n",
    "for i in 2:100\n",
    "    @rput i\n",
    "    reval(\"set.seed(i)\")\n",
    "    Xtest = rcopy(R\"matrix(runif(10000),nrow=1000)\")\n",
    "    pred = apply_forest(cf, Xtest)\n",
    "    true_effect = sin.(Xtest[:, 1])\n",
    "    errors_8[i] = rmsd(float(true_effect), pred)\n",
    "end\n",
    "print(mean(errors_8))\n",
    "print(var(errors_8))"
   ]
  },
  {
   "cell_type": "markdown",
   "id": "1e823fe1",
   "metadata": {},
   "source": [
    "# Critère alternatif (différence non centrée) honnête"
   ]
  },
  {
   "cell_type": "markdown",
   "id": "9bdad164",
   "metadata": {},
   "source": [
    "### Subsampling"
   ]
  },
  {
   "cell_type": "code",
   "execution_count": 17,
   "id": "4ea448cd",
   "metadata": {},
   "outputs": [
    {
     "name": "stdout",
     "output_type": "stream",
     "text": [
      "  6.820 s (3136175 allocations: 862.99 MiB)\n",
      "  7.884 s (246561184 allocations: 4.14 GiB)\n",
      "0.004844742098710911.0308282414730315e-6"
     ]
    }
   ],
   "source": [
    "errors_111 = zeros(100)\n",
    "\n",
    "cf = @btime build_forest_1(false, false, true, Y, T, X, true, 10, 500, 0.5, 0.5, -1, 5, 10, 2000)\n",
    "pred = @btime apply_forest_1(cf, Xtest_1)\n",
    "errors_111[1] = rmsd(float(true_effect_1), pred)\n",
    "for i in 2:100\n",
    "    @rput i\n",
    "    reval(\"set.seed(i)\")\n",
    "    Xtest = rcopy(R\"matrix(runif(10000),nrow=1000)\")\n",
    "    pred = apply_forest_1(cf, Xtest)\n",
    "    true_effect = sin.(Xtest[:, 1])\n",
    "    errors_111[i] = rmsd(float(true_effect), pred)\n",
    "end\n",
    "print(mean(errors_111))\n",
    "print(var(errors_111))"
   ]
  },
  {
   "cell_type": "code",
   "execution_count": 26,
   "id": "f4ed5d80",
   "metadata": {},
   "outputs": [
    {
     "data": {
      "text/plain": [
       "Dict{Any, Float64} with 10 entries:\n",
       "  5  => 0.0487784\n",
       "  4  => 0.0502723\n",
       "  6  => 0.0497427\n",
       "  7  => 0.0496977\n",
       "  2  => 0.0476692\n",
       "  10 => 0.0470847\n",
       "  9  => 0.0516463\n",
       "  8  => 0.0489133\n",
       "  3  => 0.0491431\n",
       "  1  => 0.557052"
      ]
     },
     "execution_count": 26,
     "metadata": {},
     "output_type": "execute_result"
    }
   ],
   "source": [
    "cf = build_forest_1(false, false, true, Y, T, X, true, 10, 500, 0.5, 0.5, -1, 5, 10, 2000)\n",
    "\n",
    "get_freq(cf)"
   ]
  },
  {
   "cell_type": "markdown",
   "id": "ac2b6725",
   "metadata": {},
   "source": [
    "### Bootstrap"
   ]
  },
  {
   "cell_type": "code",
   "execution_count": 19,
   "id": "d89d2d25",
   "metadata": {
    "scrolled": true
   },
   "outputs": [
    {
     "name": "stdout",
     "output_type": "stream",
     "text": [
      "  29.951 s (6048326 allocations: 1.23 GiB)\n",
      "  8.261 s (249960520 allocations: 4.19 GiB)\n",
      "0.0097649919794376532.7775000043447086e-6"
     ]
    }
   ],
   "source": [
    "errors_121 = zeros(100)\n",
    "\n",
    "cf = @btime build_forest_1(false, true, true, Y, T, X, true, 10, 500, 0.5, 0.5, -1, 5, 10, 2000)\n",
    "pred = @btime apply_forest_1(cf, Xtest_1)\n",
    "errors_121[1] = rmsd(float(true_effect_1), pred)\n",
    "for i in 2:100\n",
    "    @rput i\n",
    "    reval(\"set.seed(i)\")\n",
    "    Xtest = rcopy(R\"matrix(runif(10000),nrow=1000)\")\n",
    "    pred = apply_forest_1(cf, Xtest)\n",
    "    true_effect = sin.(Xtest[:, 1])\n",
    "    errors_121[i] = rmsd(float(true_effect), pred)\n",
    "end\n",
    "print(mean(errors_121))\n",
    "print(var(errors_121))"
   ]
  },
  {
   "cell_type": "markdown",
   "id": "f8fe7aa5",
   "metadata": {},
   "source": [
    "# Critère alternatif (différence non centrée) honnête optimisé"
   ]
  },
  {
   "cell_type": "markdown",
   "id": "9bdad164",
   "metadata": {},
   "source": [
    "### Subsampling"
   ]
  },
  {
   "cell_type": "code",
   "execution_count": 15,
   "id": "4ea448cd",
   "metadata": {},
   "outputs": [
    {
     "name": "stdout",
     "output_type": "stream",
     "text": [
      "  6.916 s (2188551 allocations: 794.13 MiB)\n",
      "  11.585 s (273917525 allocations: 4.54 GiB)\n",
      "0.0003813293803487854.5860544899894993e-10"
     ]
    }
   ],
   "source": [
    "errors_11 = zeros(100)\n",
    "\n",
    "cf = @btime build_forest_1_opti(false, false, true, Y, T, X, true, 10, 500, 0.5, 0.5, -1, 5, 10, 2000)\n",
    "pred = @btime apply_forest_1(cf, Xtest_1)\n",
    "errors_11[1] = rmsd(float(true_effect_1), pred)\n",
    "for i in 2:100\n",
    "    @rput i\n",
    "    reval(\"set.seed(i)\")\n",
    "    Xtest = rcopy(R\"matrix(runif(10000),nrow=1000)\")\n",
    "    pred = apply_forest_1(cf, Xtest)\n",
    "    true_effect = sin.(Xtest[:, 1])\n",
    "    errors_11[i] = rmsd(float(true_effect), pred)\n",
    "end\n",
    "print(mean(errors_11))\n",
    "print(var(errors_11))"
   ]
  },
  {
   "cell_type": "code",
   "execution_count": 27,
   "id": "a0501647",
   "metadata": {},
   "outputs": [
    {
     "data": {
      "text/plain": [
       "Dict{Any, Float64} with 10 entries:\n",
       "  5  => 0.00706998\n",
       "  4  => 0.00654335\n",
       "  6  => 0.00654335\n",
       "  7  => 0.00701731\n",
       "  2  => 0.00662234\n",
       "  10 => 0.00701731\n",
       "  9  => 0.00602989\n",
       "  8  => 0.00700415\n",
       "  3  => 0.00683299\n",
       "  1  => 0.939319"
      ]
     },
     "execution_count": 27,
     "metadata": {},
     "output_type": "execute_result"
    }
   ],
   "source": [
    "cf = build_forest_1_opti(false, false, true, Y, T, X, true, 10, 500, 0.5, 0.5, -1, 5, 10, 2000)\n",
    "\n",
    "get_freq(cf)"
   ]
  },
  {
   "cell_type": "markdown",
   "id": "ac2b6725",
   "metadata": {},
   "source": [
    "### Bootstrap"
   ]
  },
  {
   "cell_type": "code",
   "execution_count": 16,
   "id": "d89d2d25",
   "metadata": {},
   "outputs": [
    {
     "name": "stdout",
     "output_type": "stream",
     "text": [
      "  11.218 s (4178057 allocations: 1.09 GiB)\n",
      "  8.643 s (281324202 allocations: 4.65 GiB)\n",
      "0.000244755791987972041.1306716385320434e-10"
     ]
    }
   ],
   "source": [
    "errors_12 = zeros(100)\n",
    "\n",
    "cf = @btime build_forest_1_opti(false, true, true, Y, T, X, true, 10, 500, 0.5, 0.5, -1, 5, 10, 2000)\n",
    "pred = @btime apply_forest_1(cf, Xtest_1)\n",
    "errors_12[1] = rmsd(float(true_effect_1), pred)\n",
    "for i in 2:100\n",
    "    @rput i\n",
    "    reval(\"set.seed(i)\")\n",
    "    Xtest = rcopy(R\"matrix(runif(10000),nrow=1000)\")\n",
    "    pred = apply_forest_1(cf, Xtest)\n",
    "    true_effect = sin.(Xtest[:, 1])\n",
    "    errors_12[i] = rmsd(float(true_effect), pred)\n",
    "end\n",
    "print(mean(errors_12))\n",
    "print(var(errors_12))"
   ]
  },
  {
   "cell_type": "code",
   "execution_count": 28,
   "id": "b6bac07e",
   "metadata": {},
   "outputs": [
    {
     "data": {
      "text/plain": [
       "Dict{Any, Float64} with 10 entries:\n",
       "  5  => 0.0144808\n",
       "  4  => 0.0132759\n",
       "  6  => 0.0146973\n",
       "  7  => 0.0136439\n",
       "  2  => 0.0143293\n",
       "  10 => 0.0139469\n",
       "  9  => 0.0137232\n",
       "  8  => 0.0143798\n",
       "  3  => 0.0138531\n",
       "  1  => 0.87367"
      ]
     },
     "execution_count": 28,
     "metadata": {},
     "output_type": "execute_result"
    }
   ],
   "source": [
    "cf = build_forest_1_opti(false, true, true, Y, T, X, true, 10, 500, 0.5, 0.5, -1, 5, 10, 2000)\n",
    "\n",
    "get_freq(cf)"
   ]
  },
  {
   "cell_type": "code",
   "execution_count": null,
   "id": "2730fa55",
   "metadata": {},
   "outputs": [],
   "source": []
  }
 ],
 "metadata": {
  "kernelspec": {
   "display_name": "Julia 1.7.2",
   "language": "julia",
   "name": "julia-1.7"
  },
  "language_info": {
   "file_extension": ".jl",
   "mimetype": "application/julia",
   "name": "julia",
   "version": "1.7.2"
  }
 },
 "nbformat": 4,
 "nbformat_minor": 5
}
