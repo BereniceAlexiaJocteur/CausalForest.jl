{
 "cells": [
  {
   "cell_type": "code",
   "execution_count": 17,
   "id": "53b7f27d",
   "metadata": {},
   "outputs": [],
   "source": [
    "using CausalForest\n",
    "using StatsBase\n",
    "using Plots\n",
    "using Random\n",
    "using Distributions\n",
    "using RCall\n",
    "using BenchmarkTools\n",
    "using DelimitedFiles"
   ]
  },
  {
   "cell_type": "code",
   "execution_count": 18,
   "id": "2a4cd378",
   "metadata": {},
   "outputs": [],
   "source": [
    "Random.seed!(123);\n",
    "n, m = 10^4, 10;\n",
    "u = Uniform(0,10);\n",
    "features = rand(u, (n, m));\n",
    "X = features;\n",
    "d = Normal();\n",
    "eps = rand(d, n);\n",
    "b = Bernoulli();\n",
    "T = convert(Vector{Int64},rand(b, n));\n",
    "Y = sin.(features*[1, 0, 0, 0, 0, 0, 0, 0, 0, 0]).*T  .+ 0.5;"
   ]
  },
  {
   "cell_type": "code",
   "execution_count": 19,
   "id": "77832bf8",
   "metadata": {},
   "outputs": [
    {
     "data": {
      "text/plain": [
       "10000×12 Matrix{Float64}:\n",
       " 9.063     0.273863  9.2398     5.83606   …  8.61508   1.0   0.853941\n",
       " 4.43494   8.65398   4.38668    8.66793      5.79587   0.0   0.5\n",
       " 7.45673   7.98071   9.35901    5.96536      9.99516   0.0   0.5\n",
       " 5.12083   8.25448   8.79223    2.87236      8.06585   0.0   0.5\n",
       " 2.53849   5.30423   5.84012    9.7704       9.6668    0.0   0.5\n",
       " 3.34152   2.66141   9.8669     9.76664   …  9.49805   1.0   0.301406\n",
       " 4.27328   8.75436   0.0258112  0.863643     2.24987   1.0  -0.40513\n",
       " 8.67547   7.27313   0.151025   4.99536      0.765286  0.0   0.5\n",
       " 0.991336  1.20752   5.87184    3.17045      9.81301   0.0   0.5\n",
       " 1.25287   6.88003   3.64868    5.80333      3.00126   0.0   0.5\n",
       " 6.92209   0.298644  4.84843    8.11503   …  1.49476   0.0   0.5\n",
       " 1.36551   1.07227   0.570038   1.05282      7.60498   1.0   1.479\n",
       " 0.320967  6.45858   4.85281    2.0843       1.98433   0.0   0.5\n",
       " ⋮                                        ⋱            ⋮    \n",
       " 1.41477   4.12499   4.66667    9.07923      2.01061   1.0   1.48785\n",
       " 8.90644   0.206914  4.58998    3.38561      4.0675    0.0   0.5\n",
       " 9.06998   4.30907   5.78293    7.20941   …  2.83885   0.0   0.5\n",
       " 5.36969   2.79123   7.52206    2.24232      0.337787  1.0  -0.291643\n",
       " 4.02403   7.35939   6.73502    4.34979      4.9581    0.0   0.5\n",
       " 5.42829   1.81778   9.49776    8.79051      1.39286   0.0   0.5\n",
       " 4.09515   0.94505   3.75739    5.33247      3.54751   1.0  -0.315479\n",
       " 5.28518   8.82277   2.73882    2.75131   …  6.67028   0.0   0.5\n",
       " 5.03432   1.86886   8.78118    3.81373      7.07487   1.0  -0.448627\n",
       " 1.51227   7.42091   6.94678    2.32953      2.08088   0.0   0.5\n",
       " 9.87606   3.9929    7.10062    9.59089      1.92731   1.0   0.0638764\n",
       " 8.55271   2.31435   0.181986   4.95302      2.56864   0.0   0.5"
      ]
     },
     "execution_count": 19,
     "metadata": {},
     "output_type": "execute_result"
    }
   ],
   "source": [
    "df = hcat(X,T,Y)"
   ]
  },
  {
   "cell_type": "code",
   "execution_count": 20,
   "id": "8133f0ae",
   "metadata": {},
   "outputs": [],
   "source": [
    "header = [\"X1\" \"X2\" \"X3\" \"X4\" \"X5\" \"X6\" \"X7\" \"X8\" \"X9\" \"X10\" \"T\" \"Y\"]\n",
    "writedlm(\"sinus_causal_2.csv\", [header ; df], \",\")"
   ]
  },
  {
   "cell_type": "code",
   "execution_count": 5,
   "id": "f7a37ce6",
   "metadata": {},
   "outputs": [],
   "source": [
    "reval(\"set.seed(1)\")\n",
    "Xtest_1 = rcopy(R\"matrix(runif(10000),nrow=1000)\")\n",
    "true_effect_1 = sin.(Xtest_1[:, 1]);"
   ]
  },
  {
   "cell_type": "code",
   "execution_count": 6,
   "id": "f724ac5e",
   "metadata": {},
   "outputs": [
    {
     "data": {
      "text/plain": [
       "get_freq (generic function with 1 method)"
      ]
     },
     "execution_count": 6,
     "metadata": {},
     "output_type": "execute_result"
    }
   ],
   "source": [
    "function get_all_nodes_in_tree!(\n",
    "    tree ,\n",
    "    result  = []\n",
    "    )\n",
    "    if hasproperty(tree, :featid)  \n",
    "        push!(result, tree.featid)\n",
    "        get_all_nodes_in_tree!(tree.left, result)\n",
    "        get_all_nodes_in_tree!(tree.right, result)\n",
    "    end\n",
    "    return result\n",
    "end\n",
    "\n",
    "function get_freq(forest) \n",
    "    ensemble = forest.trees\n",
    "    n_trees = length(ensemble)\n",
    "    res = []\n",
    "    for i = 1:n_trees\n",
    "        append!(res, get_all_nodes_in_tree!(forest.trees[i].tree))\n",
    "    end\n",
    "    return proportionmap(res)\n",
    "end"
   ]
  },
  {
   "cell_type": "markdown",
   "id": "1ae94232",
   "metadata": {},
   "source": [
    "# Critère exact : centré honnête"
   ]
  },
  {
   "cell_type": "markdown",
   "id": "b0ca7f77",
   "metadata": {},
   "source": [
    "### Subsampling"
   ]
  },
  {
   "cell_type": "code",
   "execution_count": 7,
   "id": "1e55d606",
   "metadata": {},
   "outputs": [
    {
     "name": "stdout",
     "output_type": "stream",
     "text": [
      "  204.151 s (101779117 allocations: 12.34 GiB)\n",
      "  7.878 s (245341149 allocations: 4.12 GiB)\n",
      "0.418525669659797763.2258673065726005e-5"
     ]
    }
   ],
   "source": [
    "errors_7 = zeros(100)\n",
    "\n",
    "cf = @btime build_forest(true, false, true, Y, T, X, true, 10, 500, 0.5, 0.5, -1, 5, 10, 2000)\n",
    "pred = @btime apply_forest(cf, Xtest_1)\n",
    "errors_7[1] = rmsd(float(true_effect_1), pred)\n",
    "for i in 2:100\n",
    "    @rput i\n",
    "    reval(\"set.seed(i)\")\n",
    "    Xtest = rcopy(R\"matrix(runif(10000),nrow=1000)\")\n",
    "    pred = apply_forest(cf, Xtest)\n",
    "    true_effect = sin.(Xtest[:, 1])\n",
    "    errors_7[i] = rmsd(float(true_effect), pred)\n",
    "end\n",
    "print(mean(errors_7))\n",
    "print(var(errors_7))"
   ]
  },
  {
   "cell_type": "code",
   "execution_count": 8,
   "id": "2e81a048",
   "metadata": {},
   "outputs": [
    {
     "data": {
      "text/plain": [
       "Dict{Any, Float64} with 10 entries:\n",
       "  5  => 0.100447\n",
       "  4  => 0.102306\n",
       "  6  => 0.0964178\n",
       "  7  => 0.101045\n",
       "  2  => 0.101663\n",
       "  10 => 0.102705\n",
       "  9  => 0.0994362\n",
       "  8  => 0.100192\n",
       "  3  => 0.101734\n",
       "  1  => 0.0940532"
      ]
     },
     "execution_count": 8,
     "metadata": {},
     "output_type": "execute_result"
    }
   ],
   "source": [
    "cf = build_forest(true, false, true, Y, T, X, true, 10, 500, 0.5, 0.5, -1, 5, 10, 2000)\n",
    "\n",
    "get_freq(cf)"
   ]
  },
  {
   "cell_type": "markdown",
   "id": "f64f640a",
   "metadata": {},
   "source": [
    "### Bootstrap"
   ]
  },
  {
   "cell_type": "code",
   "execution_count": 9,
   "id": "02ac018f",
   "metadata": {},
   "outputs": [
    {
     "name": "stdout",
     "output_type": "stream",
     "text": [
      "  227.593 s (104756678 allocations: 12.74 GiB)\n",
      "  7.867 s (247680383 allocations: 4.15 GiB)\n",
      "0.41322214044403773.2099570307814725e-5"
     ]
    }
   ],
   "source": [
    "errors_8 = zeros(100)\n",
    "\n",
    "cf = @btime build_forest(true, true, true, Y, T, X, true, 10, 500, 0.5, 0.5, -1, 5, 10, 2000)\n",
    "pred = @btime apply_forest(cf, Xtest_1)\n",
    "errors_8[1] = rmsd(float(true_effect_1), pred)\n",
    "for i in 2:100\n",
    "    @rput i\n",
    "    reval(\"set.seed(i)\")\n",
    "    Xtest = rcopy(R\"matrix(runif(10000),nrow=1000)\")\n",
    "    pred = apply_forest(cf, Xtest)\n",
    "    true_effect = sin.(Xtest[:, 1])\n",
    "    errors_8[i] = rmsd(float(true_effect), pred)\n",
    "end\n",
    "print(mean(errors_8))\n",
    "print(var(errors_8))"
   ]
  },
  {
   "cell_type": "markdown",
   "id": "1e823fe1",
   "metadata": {},
   "source": [
    "# Critère alternatif (différence non centrée) honnête"
   ]
  },
  {
   "cell_type": "markdown",
   "id": "9bdad164",
   "metadata": {},
   "source": [
    "### Subsampling"
   ]
  },
  {
   "cell_type": "code",
   "execution_count": 10,
   "id": "4ea448cd",
   "metadata": {},
   "outputs": [
    {
     "name": "stdout",
     "output_type": "stream",
     "text": [
      "  8.443 s (3133652 allocations: 862.82 MiB)\n",
      "  7.971 s (244947232 allocations: 4.11 GiB)\n",
      "0.0224892425902219378.432681684806591e-7"
     ]
    }
   ],
   "source": [
    "errors_111 = zeros(100)\n",
    "\n",
    "cf = @btime build_forest_1(false, false, true, Y, T, X, true, 10, 500, 0.5, 0.5, -1, 5, 10, 2000)\n",
    "pred = @btime apply_forest_1(cf, Xtest_1)\n",
    "errors_111[1] = rmsd(float(true_effect_1), pred)\n",
    "for i in 2:100\n",
    "    @rput i\n",
    "    reval(\"set.seed(i)\")\n",
    "    Xtest = rcopy(R\"matrix(runif(10000),nrow=1000)\")\n",
    "    pred = apply_forest_1(cf, Xtest)\n",
    "    true_effect = sin.(Xtest[:, 1])\n",
    "    errors_111[i] = rmsd(float(true_effect), pred)\n",
    "end\n",
    "print(mean(errors_111))\n",
    "print(var(errors_111))"
   ]
  },
  {
   "cell_type": "code",
   "execution_count": 11,
   "id": "f4ed5d80",
   "metadata": {},
   "outputs": [
    {
     "data": {
      "text/plain": [
       "Dict{Any, Float64} with 10 entries:\n",
       "  5  => 0.0478191\n",
       "  4  => 0.0479592\n",
       "  6  => 0.0506356\n",
       "  7  => 0.0485445\n",
       "  2  => 0.0480843\n",
       "  10 => 0.0465885\n",
       "  9  => 0.0497101\n",
       "  8  => 0.0479842\n",
       "  3  => 0.0486045\n",
       "  1  => 0.56407"
      ]
     },
     "execution_count": 11,
     "metadata": {},
     "output_type": "execute_result"
    }
   ],
   "source": [
    "cf = build_forest_1(false, false, true, Y, T, X, true, 10, 500, 0.5, 0.5, -1, 5, 10, 2000)\n",
    "\n",
    "get_freq(cf)"
   ]
  },
  {
   "cell_type": "markdown",
   "id": "ac2b6725",
   "metadata": {},
   "source": [
    "### Bootstrap"
   ]
  },
  {
   "cell_type": "code",
   "execution_count": 12,
   "id": "d89d2d25",
   "metadata": {
    "scrolled": true
   },
   "outputs": [
    {
     "name": "stdout",
     "output_type": "stream",
     "text": [
      "  33.972 s (6042450 allocations: 1.23 GiB)\n",
      "  8.071 s (247592779 allocations: 4.15 GiB)\n",
      "0.038715198256655283.758565423668049e-6"
     ]
    }
   ],
   "source": [
    "errors_121 = zeros(100)\n",
    "\n",
    "cf = @btime build_forest_1(false, true, true, Y, T, X, true, 10, 500, 0.5, 0.5, -1, 5, 10, 2000)\n",
    "pred = @btime apply_forest_1(cf, Xtest_1)\n",
    "errors_121[1] = rmsd(float(true_effect_1), pred)\n",
    "for i in 2:100\n",
    "    @rput i\n",
    "    reval(\"set.seed(i)\")\n",
    "    Xtest = rcopy(R\"matrix(runif(10000),nrow=1000)\")\n",
    "    pred = apply_forest_1(cf, Xtest)\n",
    "    true_effect = sin.(Xtest[:, 1])\n",
    "    errors_121[i] = rmsd(float(true_effect), pred)\n",
    "end\n",
    "print(mean(errors_121))\n",
    "print(var(errors_121))"
   ]
  },
  {
   "cell_type": "markdown",
   "id": "f8fe7aa5",
   "metadata": {},
   "source": [
    "# Critère alternatif (différence non centrée) honnête optimisé"
   ]
  },
  {
   "cell_type": "markdown",
   "id": "ea5dcdae",
   "metadata": {},
   "source": [
    "### Subsampling"
   ]
  },
  {
   "cell_type": "code",
   "execution_count": 13,
   "id": "436059a4",
   "metadata": {},
   "outputs": [
    {
     "name": "stdout",
     "output_type": "stream",
     "text": [
      "  5.447 s (2200113 allocations: 795.56 MiB)\n",
      "  8.522 s (274231343 allocations: 4.55 GiB)\n",
      "0.0066428928347308061.0184612246468457e-7"
     ]
    }
   ],
   "source": [
    "errors_11 = zeros(100)\n",
    "\n",
    "cf = @btime build_forest_1_opti(false, false, true, Y, T, X, true, 10, 500, 0.5, 0.5, -1, 5, 10, 2000)\n",
    "pred = @btime apply_forest_1(cf, Xtest_1)\n",
    "errors_11[1] = rmsd(float(true_effect_1), pred)\n",
    "for i in 2:100\n",
    "    @rput i\n",
    "    reval(\"set.seed(i)\")\n",
    "    Xtest = rcopy(R\"matrix(runif(10000),nrow=1000)\")\n",
    "    pred = apply_forest_1(cf, Xtest)\n",
    "    true_effect = sin.(Xtest[:, 1])\n",
    "    errors_11[i] = rmsd(float(true_effect), pred)\n",
    "end\n",
    "print(mean(errors_11))\n",
    "print(var(errors_11))"
   ]
  },
  {
   "cell_type": "code",
   "execution_count": 14,
   "id": "a0501647",
   "metadata": {},
   "outputs": [
    {
     "data": {
      "text/plain": [
       "Dict{Any, Float64} with 10 entries:\n",
       "  5  => 0.00795208\n",
       "  4  => 0.00808202\n",
       "  6  => 0.00893959\n",
       "  7  => 0.00815998\n",
       "  2  => 0.00904354\n",
       "  10 => 0.00818596\n",
       "  9  => 0.00817297\n",
       "  8  => 0.00835488\n",
       "  3  => 0.00786112\n",
       "  1  => 0.925248"
      ]
     },
     "execution_count": 14,
     "metadata": {},
     "output_type": "execute_result"
    }
   ],
   "source": [
    "cf = build_forest_1_opti(false, false, true, Y, T, X, true, 10, 500, 0.5, 0.5, -1, 5, 10, 2000)\n",
    "\n",
    "get_freq(cf)"
   ]
  },
  {
   "cell_type": "markdown",
   "id": "fa847f58",
   "metadata": {},
   "source": [
    "### Bootstrap"
   ]
  },
  {
   "cell_type": "code",
   "execution_count": 15,
   "id": "79e98dc1",
   "metadata": {},
   "outputs": [
    {
     "name": "stdout",
     "output_type": "stream",
     "text": [
      "  13.070 s (4185300 allocations: 1.09 GiB)\n",
      "  8.606 s (281574467 allocations: 4.66 GiB)\n",
      "0.00360142797735669724.8440732233700656e-8"
     ]
    }
   ],
   "source": [
    "errors_12 = zeros(100)\n",
    "\n",
    "cf = @btime build_forest_1_opti(false, true, true, Y, T, X, true, 10, 500, 0.5, 0.5, -1, 5, 10, 2000)\n",
    "pred = @btime apply_forest_1(cf, Xtest_1)\n",
    "errors_12[1] = rmsd(float(true_effect_1), pred)\n",
    "for i in 2:100\n",
    "    @rput i\n",
    "    reval(\"set.seed(i)\")\n",
    "    Xtest = rcopy(R\"matrix(runif(10000),nrow=1000)\")\n",
    "    pred = apply_forest_1(cf, Xtest)\n",
    "    true_effect = sin.(Xtest[:, 1])\n",
    "    errors_12[i] = rmsd(float(true_effect), pred)\n",
    "end\n",
    "print(mean(errors_12))\n",
    "print(var(errors_12))"
   ]
  },
  {
   "cell_type": "code",
   "execution_count": 16,
   "id": "b6bac07e",
   "metadata": {},
   "outputs": [
    {
     "data": {
      "text/plain": [
       "Dict{Any, Float64} with 10 entries:\n",
       "  5  => 0.0156709\n",
       "  4  => 0.0157069\n",
       "  6  => 0.0158221\n",
       "  7  => 0.0156925\n",
       "  2  => 0.0150446\n",
       "  10 => 0.0159948\n",
       "  9  => 0.0147783\n",
       "  8  => 0.015966\n",
       "  3  => 0.0154189\n",
       "  1  => 0.859905"
      ]
     },
     "execution_count": 16,
     "metadata": {},
     "output_type": "execute_result"
    }
   ],
   "source": [
    "cf = build_forest_1_opti(false, true, true, Y, T, X, true, 10, 500, 0.5, 0.5, -1, 5, 10, 2000)\n",
    "\n",
    "get_freq(cf)"
   ]
  },
  {
   "cell_type": "code",
   "execution_count": null,
   "id": "2730fa55",
   "metadata": {},
   "outputs": [],
   "source": []
  }
 ],
 "metadata": {
  "kernelspec": {
   "display_name": "Julia 1.7.2",
   "language": "julia",
   "name": "julia-1.7"
  },
  "language_info": {
   "file_extension": ".jl",
   "mimetype": "application/julia",
   "name": "julia",
   "version": "1.7.2"
  }
 },
 "nbformat": 4,
 "nbformat_minor": 5
}
