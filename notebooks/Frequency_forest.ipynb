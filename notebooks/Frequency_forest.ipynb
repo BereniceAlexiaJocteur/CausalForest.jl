{
 "cells": [
  {
   "cell_type": "code",
   "execution_count": 1,
   "id": "ca4e630d",
   "metadata": {},
   "outputs": [],
   "source": [
    "using CausalForest\n",
    "using StatsBase\n",
    "using Plots\n",
    "using Distributions"
   ]
  },
  {
   "cell_type": "markdown",
   "id": "c657ea04",
   "metadata": {},
   "source": [
    "Modèle \n",
    "\n",
    "$$Y = 10 X_1 + \\epsilon$$\n",
    "\n",
    "X est 10 features toutes uniformes sur [0,1].\n",
    "\n",
    "Epsilon suit loi normale (0,1).\n",
    "\n",
    "$n=10^3$ observations"
   ]
  },
  {
   "cell_type": "code",
   "execution_count": 2,
   "id": "e5fed0da",
   "metadata": {},
   "outputs": [],
   "source": [
    "n, m = 10^3, 10\n",
    "u = Uniform()\n",
    "features = rand(u, (n, m))\n",
    "d = Normal()\n",
    "eps = rand(d, 1000)\n",
    "labels = features*[10, 0, 0, 0, 0, 0, 0, 0, 0, 0]  .+ eps\n",
    "\n",
    "model = build_forest_oob(labels, features, 10, 1000);"
   ]
  },
  {
   "cell_type": "code",
   "execution_count": 3,
   "id": "ebc4c46a",
   "metadata": {},
   "outputs": [
    {
     "data": {
      "text/plain": [
       "get_all_nodes_in_tree! (generic function with 3 methods)"
      ]
     },
     "execution_count": 3,
     "metadata": {},
     "output_type": "execute_result"
    }
   ],
   "source": [
    "function get_all_nodes_in_tree!(\n",
    "    tree ,\n",
    "    depth = 3,\n",
    "    result  = []\n",
    "    )\n",
    "    if hasproperty(tree, :featid) && depth > 0\n",
    "        push!(result, tree.featid)\n",
    "        get_all_nodes_in_tree!(tree.left, depth-1, result)\n",
    "        get_all_nodes_in_tree!(tree.right, depth-1, result)\n",
    "    end\n",
    "    return result\n",
    "end"
   ]
  },
  {
   "cell_type": "code",
   "execution_count": 4,
   "id": "f4507734",
   "metadata": {},
   "outputs": [
    {
     "data": {
      "text/plain": [
       "get_freq (generic function with 2 methods)"
      ]
     },
     "execution_count": 4,
     "metadata": {},
     "output_type": "execute_result"
    }
   ],
   "source": [
    "function get_freq(forest, depth=3) \n",
    "    ensemble = forest.trees\n",
    "    n_trees = length(ensemble)\n",
    "    res = []\n",
    "    for i = 1:n_trees\n",
    "        append!(res, get_all_nodes_in_tree!(forest.trees[i].tree, depth))\n",
    "    end\n",
    "    return proportionmap(res)\n",
    "end"
   ]
  },
  {
   "cell_type": "code",
   "execution_count": 5,
   "id": "64524056",
   "metadata": {},
   "outputs": [
    {
     "data": {
      "text/plain": [
       "Dict{Any, Float64} with 10 entries:\n",
       "  5  => 0.01\n",
       "  4  => 0.00228571\n",
       "  6  => 0.00214286\n",
       "  7  => 0.000428571\n",
       "  2  => 0.00342857\n",
       "  10 => 0.00257143\n",
       "  9  => 0.00185714\n",
       "  8  => 0.00142857\n",
       "  3  => 0.001\n",
       "  1  => 0.974857"
      ]
     },
     "execution_count": 5,
     "metadata": {},
     "output_type": "execute_result"
    }
   ],
   "source": [
    "get_freq(model, 3)"
   ]
  },
  {
   "cell_type": "code",
   "execution_count": 6,
   "id": "5733d9cb",
   "metadata": {},
   "outputs": [
    {
     "data": {
      "text/plain": [
       "Dict{Any, Float64} with 10 entries:\n",
       "  5  => 0.089279\n",
       "  4  => 0.0728247\n",
       "  6  => 0.0700079\n",
       "  7  => 0.0640651\n",
       "  2  => 0.0720003\n",
       "  10 => 0.0630689\n",
       "  9  => 0.0745079\n",
       "  8  => 0.0805194\n",
       "  3  => 0.0478857\n",
       "  1  => 0.365841"
      ]
     },
     "execution_count": 6,
     "metadata": {},
     "output_type": "execute_result"
    }
   ],
   "source": [
    "get_freq(model, 5)"
   ]
  },
  {
   "cell_type": "code",
   "execution_count": 7,
   "id": "ab488b1d",
   "metadata": {},
   "outputs": [
    {
     "data": {
      "text/plain": [
       "Dict{Any, Float64} with 10 entries:\n",
       "  5  => 0.0981391\n",
       "  4  => 0.0928302\n",
       "  6  => 0.093578\n",
       "  7  => 0.0894748\n",
       "  2  => 0.0925779\n",
       "  10 => 0.0888673\n",
       "  9  => 0.0943444\n",
       "  8  => 0.0951762\n",
       "  3  => 0.0799693\n",
       "  1  => 0.175043"
      ]
     },
     "execution_count": 7,
     "metadata": {},
     "output_type": "execute_result"
    }
   ],
   "source": [
    "get_freq(model, 10)"
   ]
  },
  {
   "cell_type": "markdown",
   "id": "a39e7644",
   "metadata": {},
   "source": [
    "Modèle\n",
    "\n",
    "$$\\Theta(X) = 10 X_1$$\n",
    "\n",
    "$$Y = \\Theta(X) T + 0.5$$\n",
    "\n",
    "X est 10 features toutes uniformes sur [0,1].\n",
    "\n",
    "T suit loi bernouilli p=0.5.\n",
    "\n",
    "$n=10^4$ observations"
   ]
  },
  {
   "cell_type": "code",
   "execution_count": 8,
   "id": "21e0daab",
   "metadata": {},
   "outputs": [],
   "source": [
    "n, m = 10^4, 10\n",
    "u = Uniform()\n",
    "features = rand(u, (n, m))\n",
    "X = features\n",
    "d = Normal()\n",
    "eps = rand(d, n)\n",
    "b = Bernoulli()\n",
    "T = convert(Vector{Int64},rand(b, n))\n",
    "Y = features*[10, 0, 0, 0, 0, 0, 0, 0, 0, 0].*T  .+ 0.5\n",
    "\n",
    "cf1 = build_forest(false, true, Y, T, features, true, 10, 1000);"
   ]
  },
  {
   "cell_type": "code",
   "execution_count": 9,
   "id": "ca8d237c",
   "metadata": {},
   "outputs": [
    {
     "data": {
      "image/png": "[encoded data removed]"
     },
     "execution_count": 9,
     "metadata": {},
     "output_type": "execute_result"
    }
   ],
   "source": [
    "Xtest = rand(Float64, (1000, size(X, 2)));\n",
    "Xtest[:, 1] =  LinRange(0, 1, 1000);\n",
    "true_effect = Xtest[:, 1].*10;\n",
    "pred1 = apply_forest(cf1, Xtest);\n",
    "plot(Xtest[:, 1], [true_effect, pred1], label=[\"True effect\" \"Estimation\"], title = \"Subsampling honest\", fmt = :png)"
   ]
  },
  {
   "cell_type": "code",
   "execution_count": 10,
   "id": "95a8588b",
   "metadata": {
    "scrolled": true
   },
   "outputs": [
    {
     "data": {
      "text/plain": [
       "Dict{Any, Float64} with 1 entry:\n",
       "  1 => 1.0"
      ]
     },
     "execution_count": 10,
     "metadata": {},
     "output_type": "execute_result"
    }
   ],
   "source": [
    "get_freq(cf1, 3)"
   ]
  },
  {
   "cell_type": "code",
   "execution_count": 11,
   "id": "9d0adbc6",
   "metadata": {},
   "outputs": [
    {
     "data": {
      "text/plain": [
       "Dict{Any, Float64} with 1 entry:\n",
       "  1 => 1.0"
      ]
     },
     "execution_count": 11,
     "metadata": {},
     "output_type": "execute_result"
    }
   ],
   "source": [
    "get_freq(cf1, 5)"
   ]
  },
  {
   "cell_type": "code",
   "execution_count": 12,
   "id": "68acb4e6",
   "metadata": {},
   "outputs": [
    {
     "data": {
      "text/plain": [
       "Dict{Any, Float64} with 10 entries:\n",
       "  5  => 0.00636521\n",
       "  4  => 0.0058915\n",
       "  6  => 0.00597888\n",
       "  7  => 0.00673314\n",
       "  2  => 0.00647099\n",
       "  10 => 0.00617204\n",
       "  9  => 0.00591909\n",
       "  8  => 0.00671474\n",
       "  3  => 0.0064296\n",
       "  1  => 0.943325"
      ]
     },
     "execution_count": 12,
     "metadata": {},
     "output_type": "execute_result"
    }
   ],
   "source": [
    "get_freq(cf1, 10)"
   ]
  },
  {
   "cell_type": "code",
   "execution_count": 13,
   "id": "e2959e9c",
   "metadata": {},
   "outputs": [
    {
     "data": {
      "text/plain": [
       "Dict{Any, Float64} with 10 entries:\n",
       "  5  => 0.00636521\n",
       "  4  => 0.0058915\n",
       "  6  => 0.00597888\n",
       "  7  => 0.00673314\n",
       "  2  => 0.00647099\n",
       "  10 => 0.00617204\n",
       "  9  => 0.00591909\n",
       "  8  => 0.00671474\n",
       "  3  => 0.0064296\n",
       "  1  => 0.943325"
      ]
     },
     "execution_count": 13,
     "metadata": {},
     "output_type": "execute_result"
    }
   ],
   "source": [
    "get_freq(cf1, 1000)"
   ]
  },
  {
   "cell_type": "markdown",
   "id": "e512cf0d",
   "metadata": {},
   "source": [
    "Modèle\n",
    "\n",
    "$$\\Theta(X) = 10 X_1$$\n",
    "\n",
    "$$Y = \\Theta(X) T + \\epsilon$$\n",
    "\n",
    "X est 10 features toutes uniformes sur [0,1].\n",
    "\n",
    "T suit loi bernouilli p=0.5.\n",
    "\n",
    "Epsilon suit loi normale (0,1).\n",
    "\n",
    "$n=10^4$ observations"
   ]
  },
  {
   "cell_type": "code",
   "execution_count": 14,
   "id": "5dcef063",
   "metadata": {},
   "outputs": [],
   "source": [
    "Y = features*[10, 0, 0, 0, 0, 0, 0, 0, 0, 0].*T  .+ eps\n",
    "\n",
    "cf1 = build_forest(false, true, Y, T, X, true, 10, 1000);"
   ]
  },
  {
   "cell_type": "code",
   "execution_count": 15,
   "id": "9a01b82d",
   "metadata": {
    "scrolled": true
   },
   "outputs": [
    {
     "data": {
      "text/plain": [
       "Dict{Any, Float64} with 1 entry:\n",
       "  1 => 1.0"
      ]
     },
     "execution_count": 15,
     "metadata": {},
     "output_type": "execute_result"
    }
   ],
   "source": [
    "get_freq(cf1, 3)"
   ]
  },
  {
   "cell_type": "code",
   "execution_count": 16,
   "id": "99511ca6",
   "metadata": {},
   "outputs": [
    {
     "data": {
      "text/plain": [
       "Dict{Any, Float64} with 10 entries:\n",
       "  5  => 0.0619847\n",
       "  4  => 0.0715208\n",
       "  6  => 0.0564551\n",
       "  7  => 0.0578127\n",
       "  2  => 0.0603954\n",
       "  10 => 0.0597331\n",
       "  9  => 0.0633754\n",
       "  8  => 0.0704944\n",
       "  3  => 0.0557597\n",
       "  1  => 0.442469"
      ]
     },
     "execution_count": 16,
     "metadata": {},
     "output_type": "execute_result"
    }
   ],
   "source": [
    "get_freq(cf1, 5)"
   ]
  },
  {
   "cell_type": "code",
   "execution_count": 17,
   "id": "90256257",
   "metadata": {},
   "outputs": [
    {
     "data": {
      "text/plain": [
       "Dict{Any, Float64} with 10 entries:\n",
       "  5  => 0.0972857\n",
       "  4  => 0.0978303\n",
       "  6  => 0.0902978\n",
       "  7  => 0.093134\n",
       "  2  => 0.0945035\n",
       "  10 => 0.0942393\n",
       "  9  => 0.0939535\n",
       "  8  => 0.0960941\n",
       "  3  => 0.0917375\n",
       "  1  => 0.150924"
      ]
     },
     "execution_count": 17,
     "metadata": {},
     "output_type": "execute_result"
    }
   ],
   "source": [
    "get_freq(cf1, 10)"
   ]
  },
  {
   "cell_type": "code",
   "execution_count": 18,
   "id": "a90d48e3",
   "metadata": {},
   "outputs": [
    {
     "data": {
      "text/plain": [
       "Dict{Any, Float64} with 10 entries:\n",
       "  5  => 0.0984604\n",
       "  4  => 0.0987181\n",
       "  6  => 0.0925116\n",
       "  7  => 0.0942456\n",
       "  2  => 0.0957786\n",
       "  10 => 0.0958966\n",
       "  9  => 0.0948702\n",
       "  8  => 0.0968007\n",
       "  3  => 0.0926514\n",
       "  1  => 0.140067"
      ]
     },
     "execution_count": 18,
     "metadata": {},
     "output_type": "execute_result"
    }
   ],
   "source": [
    "get_freq(cf1, 1000)"
   ]
  },
  {
   "cell_type": "markdown",
   "id": "fca2cf80",
   "metadata": {},
   "source": [
    "$n=10^5$ maintenant"
   ]
  },
  {
   "cell_type": "markdown",
   "id": "3177cdcc",
   "metadata": {},
   "source": [
    "Modèle\n",
    "\n",
    "$$\\Theta(X) = 10 X_1$$\n",
    "\n",
    "$$Y = \\Theta(X) T + 0.5$$\n",
    "\n",
    "X est 10 features toutes uniformes sur [0,1].\n",
    "\n",
    "T suit loi bernouilli p=0.5.\n",
    "\n",
    "$n=10^5$ observations"
   ]
  },
  {
   "cell_type": "code",
   "execution_count": 19,
   "id": "44bbfe55",
   "metadata": {},
   "outputs": [],
   "source": [
    "n, m = 10^5, 10\n",
    "u = Uniform()\n",
    "features = rand(u, (n, m))\n",
    "X = features\n",
    "d = Normal()\n",
    "eps = rand(d, n)\n",
    "b = Bernoulli()\n",
    "T = convert(Vector{Int64},rand(b, n))\n",
    "Y = features*[10, 0, 0, 0, 0, 0, 0, 0, 0, 0].*T  .+ 0.5\n",
    "\n",
    "cf1 = build_forest(false, true, Y, T, features, true, 10, 1000);"
   ]
  },
  {
   "cell_type": "code",
   "execution_count": 20,
   "id": "c3e28660",
   "metadata": {
    "scrolled": true
   },
   "outputs": [
    {
     "data": {
      "text/plain": [
       "Dict{Any, Float64} with 1 entry:\n",
       "  1 => 1.0"
      ]
     },
     "execution_count": 20,
     "metadata": {},
     "output_type": "execute_result"
    }
   ],
   "source": [
    "get_freq(cf1, 3)"
   ]
  },
  {
   "cell_type": "code",
   "execution_count": 21,
   "id": "f49325ec",
   "metadata": {},
   "outputs": [
    {
     "data": {
      "text/plain": [
       "Dict{Any, Float64} with 1 entry:\n",
       "  1 => 1.0"
      ]
     },
     "execution_count": 21,
     "metadata": {},
     "output_type": "execute_result"
    }
   ],
   "source": [
    "get_freq(cf1, 5)"
   ]
  },
  {
   "cell_type": "code",
   "execution_count": 22,
   "id": "6b4ad767",
   "metadata": {},
   "outputs": [
    {
     "data": {
      "text/plain": [
       "Dict{Any, Float64} with 10 entries:\n",
       "  5  => 1.76551e-5\n",
       "  4  => 1.56934e-5\n",
       "  6  => 2.74634e-5\n",
       "  7  => 2.94251e-5\n",
       "  2  => 1.56934e-5\n",
       "  10 => 1.76551e-5\n",
       "  9  => 2.84443e-5\n",
       "  8  => 2.64826e-5\n",
       "  3  => 2.25592e-5\n",
       "  1  => 0.999799"
      ]
     },
     "execution_count": 22,
     "metadata": {},
     "output_type": "execute_result"
    }
   ],
   "source": [
    "get_freq(cf1, 10)"
   ]
  },
  {
   "cell_type": "code",
   "execution_count": 23,
   "id": "5a1f4ee6",
   "metadata": {},
   "outputs": [
    {
     "data": {
      "text/plain": [
       "Dict{Any, Float64} with 10 entries:\n",
       "  5  => 0.00599362\n",
       "  4  => 0.00588613\n",
       "  6  => 0.0058074\n",
       "  7  => 0.00577817\n",
       "  2  => 0.0058338\n",
       "  10 => 0.00578712\n",
       "  9  => 0.00587576\n",
       "  8  => 0.00586586\n",
       "  3  => 0.00568576\n",
       "  1  => 0.947486"
      ]
     },
     "execution_count": 23,
     "metadata": {},
     "output_type": "execute_result"
    }
   ],
   "source": [
    "get_freq(cf1, 1000)"
   ]
  },
  {
   "cell_type": "markdown",
   "id": "681f75a2",
   "metadata": {},
   "source": [
    "Modèle\n",
    "\n",
    "$$\\Theta(X) = 10 X_1$$\n",
    "\n",
    "$$Y = \\Theta(X) T + \\epsilon$$\n",
    "\n",
    "X est 10 features toutes uniformes sur [0,1].\n",
    "\n",
    "T suit loi bernouilli p=0.5.\n",
    "\n",
    "Epsilon suit loi normale (0,1).\n",
    "\n",
    "$n=10^5$ observations"
   ]
  },
  {
   "cell_type": "code",
   "execution_count": 24,
   "id": "8189e3e7",
   "metadata": {},
   "outputs": [],
   "source": [
    "Y = features*[10, 0, 0, 0, 0, 0, 0, 0, 0, 0].*T  .+ eps\n",
    "\n",
    "cf1 = build_forest(false, true, Y, T, X, true, 10, 1000);"
   ]
  },
  {
   "cell_type": "code",
   "execution_count": 25,
   "id": "85589ad3",
   "metadata": {
    "scrolled": true
   },
   "outputs": [
    {
     "data": {
      "text/plain": [
       "Dict{Any, Float64} with 1 entry:\n",
       "  1 => 1.0"
      ]
     },
     "execution_count": 25,
     "metadata": {},
     "output_type": "execute_result"
    }
   ],
   "source": [
    "get_freq(cf1, 3)"
   ]
  },
  {
   "cell_type": "code",
   "execution_count": 26,
   "id": "0c531405",
   "metadata": {},
   "outputs": [
    {
     "data": {
      "text/plain": [
       "Dict{Any, Float64} with 10 entries:\n",
       "  5  => 0.0202258\n",
       "  4  => 0.0228065\n",
       "  6  => 0.0191613\n",
       "  7  => 0.017129\n",
       "  2  => 0.0257097\n",
       "  10 => 0.016871\n",
       "  9  => 0.0164516\n",
       "  8  => 0.0235484\n",
       "  3  => 0.0155161\n",
       "  1  => 0.822581"
      ]
     },
     "execution_count": 26,
     "metadata": {},
     "output_type": "execute_result"
    }
   ],
   "source": [
    "get_freq(cf1, 5)"
   ]
  },
  {
   "cell_type": "code",
   "execution_count": 27,
   "id": "cb4fe18b",
   "metadata": {},
   "outputs": [
    {
     "data": {
      "text/plain": [
       "Dict{Any, Float64} with 10 entries:\n",
       "  5  => 0.0946382\n",
       "  4  => 0.0925904\n",
       "  6  => 0.0936918\n",
       "  7  => 0.092758\n",
       "  2  => 0.0972569\n",
       "  10 => 0.0946404\n",
       "  9  => 0.0958903\n",
       "  8  => 0.0954659\n",
       "  3  => 0.0928132\n",
       "  1  => 0.150255"
      ]
     },
     "execution_count": 27,
     "metadata": {},
     "output_type": "execute_result"
    }
   ],
   "source": [
    "get_freq(cf1, 10)"
   ]
  },
  {
   "cell_type": "code",
   "execution_count": 28,
   "id": "00d63f94",
   "metadata": {},
   "outputs": [
    {
     "data": {
      "text/plain": [
       "Dict{Any, Float64} with 10 entries:\n",
       "  5  => 0.0986638\n",
       "  4  => 0.0982043\n",
       "  6  => 0.098575\n",
       "  7  => 0.0982461\n",
       "  2  => 0.100083\n",
       "  10 => 0.0990005\n",
       "  9  => 0.0991556\n",
       "  8  => 0.0991464\n",
       "  3  => 0.0992196\n",
       "  1  => 0.109706"
      ]
     },
     "execution_count": 28,
     "metadata": {},
     "output_type": "execute_result"
    }
   ],
   "source": [
    "get_freq(cf1, 1000)"
   ]
  },
  {
   "cell_type": "code",
   "execution_count": null,
   "id": "94487d83",
   "metadata": {},
   "outputs": [],
   "source": []
  },
  {
   "cell_type": "code",
   "execution_count": 29,
   "id": "fdcaf7df",
   "metadata": {},
   "outputs": [],
   "source": [
    "n, m = 10^4, 10\n",
    "u = Uniform()\n",
    "features = rand(u, (n, m))\n",
    "d = Normal()\n",
    "eps = rand(d, 10000)\n",
    "labels = cos.(features*[10, 0, 0, 0, 0, 0, 0, 0, 0, 0]) + sin.(features*[0, 0, 2, 0, 0, 0, 3, 0, 0, 0]) .+ eps\n",
    "\n",
    "model = build_forest_oob(labels, features, 10, 1000);"
   ]
  },
  {
   "cell_type": "code",
   "execution_count": 30,
   "id": "3fbd53f4",
   "metadata": {},
   "outputs": [
    {
     "data": {
      "text/plain": [
       "Dict{Any, Float64} with 10 entries:\n",
       "  5  => 0.000714286\n",
       "  4  => 0.00157143\n",
       "  6  => 0.000285714\n",
       "  7  => 0.216857\n",
       "  2  => 0.00114286\n",
       "  10 => 0.000428571\n",
       "  9  => 0.000428571\n",
       "  8  => 0.000571429\n",
       "  3  => 0.199429\n",
       "  1  => 0.578571"
      ]
     },
     "execution_count": 30,
     "metadata": {},
     "output_type": "execute_result"
    }
   ],
   "source": [
    "get_freq(model, 3)"
   ]
  },
  {
   "cell_type": "code",
   "execution_count": 31,
   "id": "06646f0d",
   "metadata": {},
   "outputs": [
    {
     "data": {
      "text/plain": [
       "Dict{Any, Float64} with 10 entries:\n",
       "  5  => 0.0277443\n",
       "  4  => 0.0326614\n",
       "  6  => 0.0222085\n",
       "  7  => 0.163893\n",
       "  2  => 0.0260836\n",
       "  10 => 0.0264092\n",
       "  9  => 0.023739\n",
       "  8  => 0.0268977\n",
       "  3  => 0.176333\n",
       "  1  => 0.47403"
      ]
     },
     "execution_count": 31,
     "metadata": {},
     "output_type": "execute_result"
    }
   ],
   "source": [
    "get_freq(model, 5)"
   ]
  },
  {
   "cell_type": "code",
   "execution_count": 32,
   "id": "fe8adbfb",
   "metadata": {},
   "outputs": [
    {
     "data": {
      "text/plain": [
       "Dict{Any, Float64} with 10 entries:\n",
       "  5  => 0.0871553\n",
       "  4  => 0.0871123\n",
       "  6  => 0.0870404\n",
       "  7  => 0.126074\n",
       "  2  => 0.0856039\n",
       "  10 => 0.0848018\n",
       "  9  => 0.0852423\n",
       "  8  => 0.0855081\n",
       "  3  => 0.124434\n",
       "  1  => 0.147028"
      ]
     },
     "execution_count": 32,
     "metadata": {},
     "output_type": "execute_result"
    }
   ],
   "source": [
    "get_freq(model, 10)"
   ]
  }
 ],
 "metadata": {
  "celltoolbar": "Éditer les Méta-Données",
  "kernelspec": {
   "display_name": "Julia 1.7.2",
   "language": "julia",
   "name": "julia-1.7"
  },
  "language_info": {
   "file_extension": ".jl",
   "mimetype": "application/julia",
   "name": "julia",
   "version": "1.7.2"
  }
 },
 "nbformat": 4,
 "nbformat_minor": 5
}
