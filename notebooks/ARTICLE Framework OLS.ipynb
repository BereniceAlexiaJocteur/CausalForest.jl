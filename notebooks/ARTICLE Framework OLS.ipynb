{
 "cells": [
  {
   "cell_type": "code",
   "execution_count": 1,
   "id": "ee6834c9",
   "metadata": {},
   "outputs": [],
   "source": [
    "using CausalForest\n",
    "using RCall\n",
    "using StatsBase\n",
    "using Statistics\n",
    "using Random\n",
    "using Distributions"
   ]
  },
  {
   "cell_type": "code",
   "execution_count": 2,
   "id": "a54c403f",
   "metadata": {},
   "outputs": [
    {
     "data": {
      "text/plain": [
       "get_freq (generic function with 2 methods)"
      ]
     },
     "execution_count": 2,
     "metadata": {},
     "output_type": "execute_result"
    }
   ],
   "source": [
    "function get_all_nodes_in_tree!(\n",
    "    tree ,\n",
    "    depth = 3,\n",
    "    result  = []\n",
    "    )\n",
    "    if hasproperty(tree, :featid) && depth > 0\n",
    "        push!(result, tree.featid)\n",
    "        get_all_nodes_in_tree!(tree.left, depth-1, result)\n",
    "        get_all_nodes_in_tree!(tree.right, depth-1, result)\n",
    "    end\n",
    "    return result\n",
    "end\n",
    "\n",
    "function get_freq(forest, depth=3) \n",
    "    ensemble = forest.trees\n",
    "    n_trees = length(ensemble)\n",
    "    res = []\n",
    "    for i = 1:n_trees\n",
    "        append!(res, get_all_nodes_in_tree!(forest.trees[i].tree, depth))\n",
    "    end\n",
    "    return proportionmap(res)\n",
    "end"
   ]
  },
  {
   "cell_type": "code",
   "execution_count": 3,
   "id": "53c7a54b",
   "metadata": {},
   "outputs": [
    {
     "name": "stdout",
     "output_type": "stream",
     "text": [
      "\u001b[1m3×6 DataFrame\u001b[0m\n",
      "\u001b[1m Row \u001b[0m│\u001b[1m method    \u001b[0m\u001b[1m RMSE       \u001b[0m\u001b[1m dep3     \u001b[0m\u001b[1m dep5     \u001b[0m\u001b[1m dep10    \u001b[0m\u001b[1m imp     \u001b[0m\n",
      "\u001b[1m     \u001b[0m│\u001b[90m String    \u001b[0m\u001b[90m Float64    \u001b[0m\u001b[90m Float64  \u001b[0m\u001b[90m Float64  \u001b[0m\u001b[90m Float64  \u001b[0m\u001b[90m Float64 \u001b[0m\n",
      "─────┼──────────────────────────────────────────────────────────────\n",
      "   1 │ GRF        0.0115552   0.875165  0.51386   0.171388  0.86674\n",
      "   2 │ HTERF      0.00434751  1.0       0.953929  0.238555  1.0\n",
      "   3 │ HTERF-OLS  0.00148948  1.0       1.0       0.944206  1.0"
     ]
    }
   ],
   "source": [
    "Random.seed!(123);\n",
    "n, m = 10^4, 10;\n",
    "@rlibrary grf\n",
    "R\"\"\"\n",
    "set.seed(123)\n",
    "res <- data.frame()\n",
    "\"\"\"\n",
    "errors_grf = zeros(60)\n",
    "errors_hterf = zeros(60)\n",
    "errors_OLS = zeros(60)\n",
    "hterf1 = zeros(60)\n",
    "hterf2 = zeros(60)\n",
    "hterf3 = zeros(60)\n",
    "hterf4 = zeros(60)\n",
    "grf1 = zeros(60)\n",
    "grf2 = zeros(60)\n",
    "grf3 = zeros(60)\n",
    "grf4 = zeros(60)\n",
    "ols1 = zeros(60)\n",
    "ols2 = zeros(60)\n",
    "ols3 = zeros(60)\n",
    "ols4 = zeros(60)\n",
    "for j in 1:60\n",
    "    u = Uniform(0,1);\n",
    "    features = rand(u, (n, m));\n",
    "    X = features;\n",
    "    b = Bernoulli();\n",
    "    T = convert(Vector{Int64},rand(b, n));\n",
    "    Y = sin.(features*[1, 0, 0, 0, 0, 0, 0, 0, 0, 0]).*T  + features*[0, 2, 3, 0, 0, 0, 0, 0, 0, 0];\n",
    "    Xtest = rand(u, (n, m));\n",
    "    tau = sin.(Xtest*[1, 0, 0, 0, 0, 0, 0, 0, 0, 0])\n",
    "    @rput X T Y Xtest tau\n",
    "    R\"\"\"\n",
    "    cf <- grf::causal_forest(X, Y, T, num.trees=500, tune.num.trees=500, sample.fraction=0.7, ci.group.size=1)\n",
    "    tau.hat <- predict(cf, Xtest)$predictions\n",
    "    mse = sqrt(mean((tau.hat - tau)^2))\n",
    "    freq = grf::split_frequencies(cf,20)\n",
    "    g_1 = sum(freq[1:3,1])/sum(freq[1:3,])\n",
    "    g_2 = sum(freq[1:5,1])/sum(freq[1:5,])\n",
    "    g_3 = sum(freq[1:10,1])/sum(freq[1:10,])\n",
    "    g_4 = grf::variable_importance(cf)[1]\n",
    "    \"\"\"\n",
    "    @rget mse g_1 g_2 g_3 g_4\n",
    "    cf = build_forest(false, true, Y, T, X, true, m, 500, 500)\n",
    "    tauhat = apply_forest(cf, Xtest)\n",
    "    cf1 = build_forest_ols(false, true, Y, T, X, true, m, 500, 500)\n",
    "    tauhat1 = apply_forest_ols(cf1, Xtest)\n",
    "    hterf1[j] = get_freq(cf, 3)[1]\n",
    "    hterf2[j] = get_freq(cf, 5)[1]\n",
    "    hterf3[j] = get_freq(cf, 10)[1]\n",
    "    hterf4[j] = importance(cf)[1]\n",
    "    errors_hterf[j] = rmsd(tau, tauhat)\n",
    "    grf1[j] = g_1\n",
    "    grf2[j] = g_2\n",
    "    grf3[j] = g_3\n",
    "    grf4[j] = g_4\n",
    "    errors_grf[j] = mse\n",
    "    ols1[j] = get_freq(cf1, 3)[1]\n",
    "    ols2[j] = get_freq(cf1, 5)[1]\n",
    "    ols3[j] = get_freq(cf1, 10)[1]\n",
    "    ols4[j] = importance(cf1)[1]\n",
    "    errors_OLS[j] = rmsd(tau, tauhat1)\n",
    "end\n",
    "err_hterf = mean(errors_hterf)\n",
    "err_grf = mean(errors_grf)\n",
    "err_ols = mean(errors_OLS)\n",
    "grf_1 = mean(grf1)\n",
    "grf_2 = mean(grf2)\n",
    "grf_3 = mean(grf3)\n",
    "grf_4 = mean(grf4)\n",
    "hterf_1 = mean(hterf1)\n",
    "hterf_2 = mean(hterf2)\n",
    "hterf_3 = mean(hterf3)\n",
    "hterf_4 = mean(hterf4)\n",
    "ols_1 = mean(ols1)\n",
    "ols_2 = mean(ols2)\n",
    "ols_3 = mean(ols3)\n",
    "ols_4 = mean(ols4)\n",
    "@rput err_grf err_hterf err_ols grf_1 grf_2 grf_3 grf_4 hterf_1 hterf_2 hterf_3 hterf_4 ols_1 ols_2 ols_3 ols_4\n",
    "R\"\"\"\n",
    "dfgrf = data.frame(method = \"GRF\", RMSE = err_grf, dep3 = grf_1, dep5 = grf_2, dep10 = grf_3, imp = grf_4)\n",
    "dfhterf = data.frame(method = \"HTERF\", RMSE = err_hterf, dep3 = hterf_1, dep5 = hterf_2, dep10 = hterf_3, imp = hterf_4)\n",
    "dfols = data.frame(method = \"HTERF-OLS\", RMSE = err_ols, dep3 = ols_1, dep5 = ols_2, dep10 = ols_3, imp = ols_4)\n",
    "res = rbind(res, dfgrf, dfhterf, dfols)\n",
    "\n",
    "\"\"\"\n",
    "@rget res\n",
    "print(res)"
   ]
  },
  {
   "cell_type": "code",
   "execution_count": null,
   "id": "b6a8268d",
   "metadata": {},
   "outputs": [],
   "source": []
  }
 ],
 "metadata": {
  "kernelspec": {
   "display_name": "Julia 1.7.2",
   "language": "julia",
   "name": "julia-1.7"
  },
  "language_info": {
   "file_extension": ".jl",
   "mimetype": "application/julia",
   "name": "julia",
   "version": "1.7.2"
  }
 },
 "nbformat": 4,
 "nbformat_minor": 5
}
