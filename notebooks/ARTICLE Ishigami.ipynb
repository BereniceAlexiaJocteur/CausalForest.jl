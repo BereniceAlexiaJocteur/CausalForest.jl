{
 "cells": [
  {
   "cell_type": "code",
   "execution_count": 1,
   "id": "ee6834c9",
   "metadata": {},
   "outputs": [],
   "source": [
    "using CausalForest\n",
    "using RCall\n",
    "using StatsBase\n",
    "using Statistics\n",
    "using Random\n",
    "using Distributions"
   ]
  },
  {
   "cell_type": "code",
   "execution_count": 2,
   "id": "a54c403f",
   "metadata": {},
   "outputs": [
    {
     "data": {
      "text/plain": [
       "get_freq (generic function with 2 methods)"
      ]
     },
     "execution_count": 2,
     "metadata": {},
     "output_type": "execute_result"
    }
   ],
   "source": [
    "function get_all_nodes_in_tree!(\n",
    "    tree ,\n",
    "    depth = 3,\n",
    "    result  = []\n",
    "    )\n",
    "    if hasproperty(tree, :featid) && depth > 0\n",
    "        push!(result, tree.featid)\n",
    "        get_all_nodes_in_tree!(tree.left, depth-1, result)\n",
    "        get_all_nodes_in_tree!(tree.right, depth-1, result)\n",
    "    end\n",
    "    return result\n",
    "end\n",
    "\n",
    "function get_freq(forest, depth=3) \n",
    "    ensemble = forest.trees\n",
    "    n_trees = length(ensemble)\n",
    "    res = []\n",
    "    for i = 1:n_trees\n",
    "        append!(res, get_all_nodes_in_tree!(forest.trees[i].tree, depth))\n",
    "    end\n",
    "    return proportionmap(res)\n",
    "end"
   ]
  },
  {
   "cell_type": "code",
   "execution_count": 19,
   "id": "53c7a54b",
   "metadata": {},
   "outputs": [
    {
     "name": "stdout",
     "output_type": "stream",
     "text": [
      "\u001b[1m2×5 DataFrame\u001b[0m\n",
      "\u001b[1m Row \u001b[0m│\u001b[1m method \u001b[0m\u001b[1m RMSE     \u001b[0m\u001b[1m imp1     \u001b[0m\u001b[1m imp2        \u001b[0m\u001b[1m imp3     \u001b[0m\n",
      "\u001b[1m     \u001b[0m│\u001b[90m String \u001b[0m\u001b[90m Float64  \u001b[0m\u001b[90m Float64  \u001b[0m\u001b[90m Float64     \u001b[0m\u001b[90m Float64  \u001b[0m\n",
      "─────┼───────────────────────────────────────────────────\n",
      "   1 │ GRF     0.981815  0.655163  0.0754224    0.269415\n",
      "   2 │ HTERF   0.765765  0.762526  0.000351466  0.237123"
     ]
    }
   ],
   "source": [
    "Random.seed!(123);\n",
    "n, m = 10^4, 3;\n",
    "@rlibrary grf\n",
    "R\"\"\"\n",
    "set.seed(123)\n",
    "res <- data.frame()\n",
    "\"\"\"\n",
    "errors_grf = zeros(60)\n",
    "errors_hterf = zeros(60)\n",
    "hterf1 = zeros(60)\n",
    "hterf2 = zeros(60)\n",
    "hterf3 = zeros(60)\n",
    "grf1 = zeros(60)\n",
    "grf2 = zeros(60)\n",
    "grf3 = zeros(60)\n",
    "for j in 1:60\n",
    "    u = Uniform(-pi,pi);\n",
    "    features = rand(u, (n, m));\n",
    "    X = features;\n",
    "    b = Bernoulli();\n",
    "    T = convert(Vector{Int64},rand(b, n));\n",
    "    Y = sin.(features[:,1])+7*(sin.(features[:,2])).^2+0.3*(features[:,3].^4).*sin.(features[:,1]).*T\n",
    "    Xtest = rand(u, (n, m));\n",
    "    tau = 0.3*(Xtest[:,3].^4).*sin.(Xtest[:,1])\n",
    "    @rput X T Y Xtest tau\n",
    "    R\"\"\"\n",
    "    cf <- grf::causal_forest(X, Y, T, num.trees=500, tune.num.trees=500, sample.fraction=0.7, ci.group.size=1)\n",
    "    tau.hat <- predict(cf, Xtest)$predictions\n",
    "    mse = sqrt(mean((tau.hat - tau)^2))\n",
    "    g_1 = grf::variable_importance(cf)[1]\n",
    "    g_2 = grf::variable_importance(cf)[2]\n",
    "    g_3 = grf::variable_importance(cf)[3]\n",
    "    \"\"\"\n",
    "    @rget mse g_1 g_2 g_3\n",
    "    cf = build_forest(false, true, Y, T, X, true, m, 500, 500)\n",
    "    tauhat = apply_forest(cf, Xtest)\n",
    "    hterf1[j] = importance(cf)[1]\n",
    "    hterf2[j] = importance(cf)[2]\n",
    "    hterf3[j] = importance(cf)[3]\n",
    "    errors_hterf[j] = rmsd(tau, tauhat)\n",
    "    grf1[j] = g_1\n",
    "    grf2[j] = g_2\n",
    "    grf3[j] = g_3\n",
    "    errors_grf[j] = mse\n",
    "end\n",
    "err_hterf = mean(errors_hterf)\n",
    "err_grf = mean(errors_grf)\n",
    "grf_1 = mean(grf1)\n",
    "grf_2 = mean(grf2)\n",
    "grf_3 = mean(grf3)\n",
    "hterf_1 = mean(hterf1)\n",
    "hterf_2 = mean(hterf2)\n",
    "hterf_3 = mean(hterf3)\n",
    "@rput err_grf err_hterf grf_1 grf_2 grf_3 hterf_1 hterf_2 hterf_3\n",
    "R\"\"\"\n",
    "dfgrf = data.frame(method = \"GRF\", RMSE = err_grf, imp1 = grf_1, imp2 = grf_2, imp3 = grf_3)\n",
    "dfhterf = data.frame(method = \"HTERF\", RMSE = err_hterf, imp1 = hterf_1, imp2 = hterf_2, imp3 = hterf_3)\n",
    "res = rbind(res, dfgrf, dfhterf)\n",
    "\n",
    "\"\"\"\n",
    "@rget res\n",
    "print(res)"
   ]
  },
  {
   "cell_type": "code",
   "execution_count": null,
   "id": "b6a8268d",
   "metadata": {},
   "outputs": [],
   "source": []
  }
 ],
 "metadata": {
  "kernelspec": {
   "display_name": "Julia 1.7.2",
   "language": "julia",
   "name": "julia-1.7"
  },
  "language_info": {
   "file_extension": ".jl",
   "mimetype": "application/julia",
   "name": "julia",
   "version": "1.7.2"
  }
 },
 "nbformat": 4,
 "nbformat_minor": 5
}
