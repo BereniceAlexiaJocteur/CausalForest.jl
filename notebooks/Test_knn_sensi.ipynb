{
 "cells": [
  {
   "cell_type": "code",
   "execution_count": 1,
   "id": "65fda159",
   "metadata": {},
   "outputs": [],
   "source": [
    "using CausalForest\n",
    "using StatsBase\n",
    "using Distributions"
   ]
  },
  {
   "cell_type": "code",
   "execution_count": 2,
   "id": "f82af3d9",
   "metadata": {},
   "outputs": [],
   "source": [
    "indices,X,T,Y = load_data(\"causal\");\n",
    "cf1 = build_forest(true, true, false, Y, T, X, false, -1, 100);"
   ]
  },
  {
   "cell_type": "code",
   "execution_count": 3,
   "id": "f9ae4dae",
   "metadata": {},
   "outputs": [
    {
     "data": {
      "text/plain": [
       "10×1 Matrix{Float64}:\n",
       " 0.6903535904047534\n",
       " 0.03810086581000402\n",
       " 0.0\n",
       " 0.003884713015135305\n",
       " 0.03952876439220851\n",
       " 0.0492241950290233\n",
       " 0.0\n",
       " 0.09280012054301526\n",
       " 0.038532019787561635\n",
       " 0.047575724075337646"
      ]
     },
     "execution_count": 3,
     "metadata": {},
     "output_type": "execute_result"
    }
   ],
   "source": [
    "sens = knn_sensi(cf1,500)"
   ]
  },
  {
   "cell_type": "code",
   "execution_count": 4,
   "id": "8d9ac415",
   "metadata": {},
   "outputs": [
    {
     "data": {
      "text/plain": [
       "0.999999993057039"
      ]
     },
     "execution_count": 4,
     "metadata": {},
     "output_type": "execute_result"
    }
   ],
   "source": [
    "sum(sens)"
   ]
  },
  {
   "cell_type": "code",
   "execution_count": 5,
   "id": "4e72ceed",
   "metadata": {},
   "outputs": [
    {
     "data": {
      "text/plain": [
       "10×1 Matrix{Float64}:\n",
       " 0.6767106041117914\n",
       " 0.04950737488832961\n",
       " 0.0\n",
       " 0.00032076861293717175\n",
       " 0.04802968931207935\n",
       " 0.0733575603058784\n",
       " 0.024219362727976992\n",
       " 0.027874635681425213\n",
       " 0.033881363577159235\n",
       " 0.06609863398185203"
      ]
     },
     "execution_count": 5,
     "metadata": {},
     "output_type": "execute_result"
    }
   ],
   "source": [
    "sens1 = knn_sensi(cf1,1000)"
   ]
  },
  {
   "cell_type": "code",
   "execution_count": 6,
   "id": "7af49028",
   "metadata": {},
   "outputs": [
    {
     "data": {
      "text/plain": [
       "0.9999999931994293"
      ]
     },
     "execution_count": 6,
     "metadata": {},
     "output_type": "execute_result"
    }
   ],
   "source": [
    "sum(sens1)"
   ]
  },
  {
   "cell_type": "code",
   "execution_count": 7,
   "id": "b95d9597",
   "metadata": {},
   "outputs": [],
   "source": [
    "cf1_bis = build_forest(true, true, false, Y, T, X, false, 10, 100);"
   ]
  },
  {
   "cell_type": "code",
   "execution_count": 8,
   "id": "2c67ae0e",
   "metadata": {},
   "outputs": [
    {
     "data": {
      "text/plain": [
       "10×1 Matrix{Float64}:\n",
       " 0.6378920008156836\n",
       " 0.06878810383754115\n",
       " 0.06003644805770045\n",
       " 0.00121870078383678\n",
       " 0.01404993613859869\n",
       " 0.0\n",
       " 0.026356762187642983\n",
       " 0.07719902519139897\n",
       " 0.07363332108217177\n",
       " 0.04082569175963782"
      ]
     },
     "execution_count": 8,
     "metadata": {},
     "output_type": "execute_result"
    }
   ],
   "source": [
    "sens2 = knn_sensi(cf1_bis,500)"
   ]
  },
  {
   "cell_type": "code",
   "execution_count": null,
   "id": "612c8618",
   "metadata": {},
   "outputs": [],
   "source": []
  },
  {
   "cell_type": "code",
   "execution_count": 9,
   "id": "06f5fee5",
   "metadata": {},
   "outputs": [],
   "source": [
    "n, m = 10^4, 10\n",
    "u = Uniform()\n",
    "features = rand(u, (n, m))\n",
    "X = features\n",
    "d = Normal()\n",
    "eps = rand(d, n)\n",
    "b = Bernoulli()\n",
    "T = convert(Vector{Int64},rand(b, n))\n",
    "Y = features*[10, 0, 0, 0, 0, 0, 0, 0, 0, 0].*T  .+ 0.5\n",
    "\n",
    "cf2 = build_forest(true, true, false, Y, T, features, false, 10, 1000);"
   ]
  },
  {
   "cell_type": "code",
   "execution_count": 10,
   "id": "6708030d",
   "metadata": {},
   "outputs": [
    {
     "data": {
      "text/plain": [
       "10×1 Matrix{Float64}:\n",
       " 0.9438343129855237\n",
       " 0.00015206803433844037\n",
       " 0.013377071634533944\n",
       " 0.0\n",
       " 0.00011541942015846501\n",
       " 0.0\n",
       " 0.01226763557524474\n",
       " 0.0\n",
       " 0.0\n",
       " 0.03025349041282173"
      ]
     },
     "execution_count": 10,
     "metadata": {},
     "output_type": "execute_result"
    }
   ],
   "source": [
    "sens3 = knn_sensi(cf2,500)"
   ]
  },
  {
   "cell_type": "code",
   "execution_count": 11,
   "id": "4998611f",
   "metadata": {},
   "outputs": [
    {
     "data": {
      "text/plain": [
       "0.9999999980626211"
      ]
     },
     "execution_count": 11,
     "metadata": {},
     "output_type": "execute_result"
    }
   ],
   "source": [
    "sum(sens3)"
   ]
  },
  {
   "cell_type": "code",
   "execution_count": 12,
   "id": "6b0b51a7",
   "metadata": {},
   "outputs": [],
   "source": [
    "cf2_bis = build_forest(true, true, false, Y, T, features, false, -1, 1000);"
   ]
  },
  {
   "cell_type": "code",
   "execution_count": 13,
   "id": "2bfa4442",
   "metadata": {},
   "outputs": [
    {
     "data": {
      "text/plain": [
       "10×1 Matrix{Float64}:\n",
       " 0.9400932152070254\n",
       " 0.014262342487274099\n",
       " 0.03269544840965107\n",
       " 0.0\n",
       " 0.0\n",
       " 0.00021340072498336003\n",
       " 0.012735590956971833\n",
       " 0.0\n",
       " 0.0\n",
       " 0.0"
      ]
     },
     "execution_count": 13,
     "metadata": {},
     "output_type": "execute_result"
    }
   ],
   "source": [
    "sens3_bis = knn_sensi(cf2_bis,500)"
   ]
  },
  {
   "cell_type": "code",
   "execution_count": null,
   "id": "8a60f0c0",
   "metadata": {},
   "outputs": [],
   "source": []
  },
  {
   "cell_type": "code",
   "execution_count": 14,
   "id": "e6ec1a9d",
   "metadata": {},
   "outputs": [],
   "source": [
    "Y = features*[10, 0, 0, 0, 0, 0, 0, 0, 0, 0].*T  .+ eps\n",
    "\n",
    "cf3 = build_forest(false, false, true, Y, T, X, true, 10, 1000);"
   ]
  },
  {
   "cell_type": "code",
   "execution_count": 15,
   "id": "c9153c60",
   "metadata": {},
   "outputs": [
    {
     "data": {
      "text/plain": [
       "10×1 Matrix{Float64}:\n",
       " 0.9671210332195298\n",
       " 0.0\n",
       " 0.0\n",
       " 0.006055115657657317\n",
       " 0.0\n",
       " 0.009857052219747045\n",
       " 0.012742609533753797\n",
       " 0.0011814714857704104\n",
       " 0.00039604650250939526\n",
       " 0.0026466707069372573"
      ]
     },
     "execution_count": 15,
     "metadata": {},
     "output_type": "execute_result"
    }
   ],
   "source": [
    "sens4 = knn_sensi(cf3,500)"
   ]
  },
  {
   "cell_type": "code",
   "execution_count": 16,
   "id": "08dd9e3e",
   "metadata": {},
   "outputs": [],
   "source": [
    "cf3_bis = build_forest(false, false, true, Y, T, X, true, -1, 1000);"
   ]
  },
  {
   "cell_type": "code",
   "execution_count": 17,
   "id": "6a8ac6fc",
   "metadata": {},
   "outputs": [
    {
     "data": {
      "text/plain": [
       "10×1 Matrix{Float64}:\n",
       " 0.9596407815498847\n",
       " 0.001675508403626067\n",
       " 0.0\n",
       " 0.008207103130268548\n",
       " 0.0090861049268669\n",
       " 0.007052584717445472\n",
       " 0.0\n",
       " 0.00218221589090601\n",
       " 0.008629258945228207\n",
       " 0.0035264403854346677"
      ]
     },
     "execution_count": 17,
     "metadata": {},
     "output_type": "execute_result"
    }
   ],
   "source": [
    "sens4_bis = knn_sensi(cf3_bis,500)"
   ]
  },
  {
   "cell_type": "code",
   "execution_count": null,
   "id": "6142bee9",
   "metadata": {},
   "outputs": [],
   "source": []
  }
 ],
 "metadata": {
  "kernelspec": {
   "display_name": "Julia 1.7.2",
   "language": "julia",
   "name": "julia-1.7"
  },
  "language_info": {
   "file_extension": ".jl",
   "mimetype": "application/julia",
   "name": "julia",
   "version": "1.7.2"
  }
 },
 "nbformat": 4,
 "nbformat_minor": 5
}
