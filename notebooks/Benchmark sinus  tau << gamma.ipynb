{
 "cells": [
  {
   "cell_type": "code",
   "execution_count": 19,
   "id": "53b7f27d",
   "metadata": {},
   "outputs": [],
   "source": [
    "using CausalForest\n",
    "using StatsBase\n",
    "using Plots\n",
    "using Random\n",
    "using Distributions\n",
    "using RCall\n",
    "using BenchmarkTools\n",
    "using DelimitedFiles"
   ]
  },
  {
   "cell_type": "code",
   "execution_count": 20,
   "id": "a5434049",
   "metadata": {},
   "outputs": [
    {
     "data": {
      "text/plain": [
       "1"
      ]
     },
     "execution_count": 20,
     "metadata": {},
     "output_type": "execute_result"
    }
   ],
   "source": [
    "BenchmarkTools.DEFAULT_PARAMETERS.samples = 1"
   ]
  },
  {
   "cell_type": "code",
   "execution_count": 21,
   "id": "2a4cd378",
   "metadata": {},
   "outputs": [],
   "source": [
    "Random.seed!(123);\n",
    "n, m = 10^4, 10;\n",
    "u = Uniform(0,10);\n",
    "features = rand(u, (n, m));\n",
    "X = features;\n",
    "d = Normal();\n",
    "eps = rand(d, n);\n",
    "b = Bernoulli();\n",
    "T = convert(Vector{Int64},rand(b, n));\n",
    "Y = sin.(features*[1, 0, 0, 0, 0, 0, 0, 0, 0, 0]).*T  + features*[0, 0, 2, 0, 0, 0, 3, 0, 0, 0];"
   ]
  },
  {
   "cell_type": "code",
   "execution_count": 22,
   "id": "77832bf8",
   "metadata": {},
   "outputs": [
    {
     "data": {
      "text/plain": [
       "10000×12 Matrix{Float64}:\n",
       " 9.063     0.273863  9.2398     …  8.02953    8.61508   1.0  32.7318\n",
       " 4.43494   8.65398   4.38668       4.26558    5.79587   0.0  10.2415\n",
       " 7.45673   7.98071   9.35901       7.38559    9.99516   0.0  27.5137\n",
       " 5.12083   8.25448   8.79223       0.835565   8.06585   0.0  24.796\n",
       " 2.53849   5.30423   5.84012       0.570453   9.6668    0.0  22.6625\n",
       " 3.34152   2.66141   9.8669     …  0.92876    9.49805   1.0  25.1241\n",
       " 4.27328   8.75436   0.0258112     5.12688    2.24987   1.0   8.09666\n",
       " 8.67547   7.27313   0.151025      0.0873517  0.765286  0.0  25.0373\n",
       " 0.991336  1.20752   5.87184       8.38971    9.81301   0.0  20.8175\n",
       " 1.25287   6.88003   3.64868       4.16181    3.00126   0.0  26.2578\n",
       " 6.92209   0.298644  4.84843    …  8.07655    1.49476   0.0  36.4211\n",
       " 1.36551   1.07227   0.570038      2.53062    7.60498   1.0  21.9686\n",
       " 0.320967  6.45858   4.85281       9.74512    1.98433   0.0  32.6943\n",
       " ⋮                              ⋱                       ⋮    \n",
       " 1.41477   4.12499   4.66667       7.15208    2.01061   1.0  17.0164\n",
       " 8.90644   0.206914  4.58998       6.88024    4.0675    0.0  37.4342\n",
       " 9.06998   4.30907   5.78293    …  2.16229    2.83885   0.0  21.0071\n",
       " 5.36969   2.79123   7.52206       6.62058    0.337787  1.0  25.8433\n",
       " 4.02403   7.35939   6.73502       4.1632     4.9581    0.0  20.2401\n",
       " 5.42829   1.81778   9.49776       4.32137    1.39286   0.0  19.9342\n",
       " 4.09515   0.94505   3.75739       0.426026   3.54751   1.0  29.9997\n",
       " 5.28518   8.82277   2.73882    …  3.74575    6.67028   0.0  32.327\n",
       " 5.03432   1.86886   8.78118       8.52253    7.07487   1.0  40.846\n",
       " 1.51227   7.42091   6.94678       9.10512    2.08088   0.0  18.0307\n",
       " 9.87606   3.9929    7.10062       5.31304    1.92731   1.0  37.5453\n",
       " 8.55271   2.31435   0.181986      6.36457    2.56864   0.0  18.5483"
      ]
     },
     "execution_count": 22,
     "metadata": {},
     "output_type": "execute_result"
    }
   ],
   "source": [
    "df = hcat(X,T,Y)"
   ]
  },
  {
   "cell_type": "code",
   "execution_count": 23,
   "id": "8133f0ae",
   "metadata": {},
   "outputs": [],
   "source": [
    "#header = [\"X1\" \"X2\" \"X3\" \"X4\" \"X5\" \"X6\" \"X7\" \"X8\" \"X9\" \"X10\" \"T\" \"Y\"]\n",
    "#writedlm(\"sinus_causal_3.csv\", [header ; df], \",\")"
   ]
  },
  {
   "cell_type": "code",
   "execution_count": 24,
   "id": "f7a37ce6",
   "metadata": {},
   "outputs": [],
   "source": [
    "reval(\"set.seed(1)\")\n",
    "Xtest_1 = rcopy(R\"matrix(runif(10000,0,10),nrow=1000)\")\n",
    "true_effect_1 = sin.(Xtest_1[:, 1]);"
   ]
  },
  {
   "cell_type": "code",
   "execution_count": 25,
   "id": "f724ac5e",
   "metadata": {},
   "outputs": [
    {
     "data": {
      "text/plain": [
       "get_freq (generic function with 2 methods)"
      ]
     },
     "execution_count": 25,
     "metadata": {},
     "output_type": "execute_result"
    }
   ],
   "source": [
    "function get_all_nodes_in_tree!(\n",
    "    tree ,\n",
    "    depth = 3,\n",
    "    result  = []\n",
    "    )\n",
    "    if hasproperty(tree, :featid) && depth > 0\n",
    "        push!(result, tree.featid)\n",
    "        get_all_nodes_in_tree!(tree.left, depth-1, result)\n",
    "        get_all_nodes_in_tree!(tree.right, depth-1, result)\n",
    "    end\n",
    "    return result\n",
    "end\n",
    "\n",
    "function get_freq(forest, depth=3) \n",
    "    ensemble = forest.trees\n",
    "    n_trees = length(ensemble)\n",
    "    res = []\n",
    "    for i = 1:n_trees\n",
    "        append!(res, get_all_nodes_in_tree!(forest.trees[i].tree, depth))\n",
    "    end\n",
    "    return proportionmap(res)\n",
    "end"
   ]
  },
  {
   "cell_type": "markdown",
   "id": "f8fe7aa5",
   "metadata": {},
   "source": [
    "# Critère nouveau"
   ]
  },
  {
   "cell_type": "markdown",
   "id": "ea5dcdae",
   "metadata": {},
   "source": [
    "### Subsampling"
   ]
  },
  {
   "cell_type": "code",
   "execution_count": 26,
   "id": "436059a4",
   "metadata": {},
   "outputs": [
    {
     "name": "stdout",
     "output_type": "stream",
     "text": [
      "  400.307 s (110023402 allocations: 37.14 GiB)\n",
      "  4.061 s (128329962 allocations: 2.37 GiB)\n",
      "0.039744740467064325\n",
      "1.0073983437365042e-6\n"
     ]
    }
   ],
   "source": [
    "errors_11 = zeros(100)\n",
    "\n",
    "cf = @btime build_forest(false, true, Y, T, X, true, 10, 500, 500)\n",
    "pred = @btime apply_forest(cf, Xtest_1)\n",
    "errors_11[1] = rmsd(float(true_effect_1), pred)\n",
    "for i in 2:100\n",
    "    @rput i\n",
    "    reval(\"set.seed(i)\")\n",
    "    Xtest = rcopy(R\"matrix(runif(10000,0,10),nrow=1000)\")\n",
    "    pred = apply_forest(cf, Xtest)\n",
    "    true_effect = sin.(Xtest[:, 1])\n",
    "    errors_11[i] = rmsd(float(true_effect), pred)\n",
    "end\n",
    "println(mean(errors_11))\n",
    "println(var(errors_11))"
   ]
  },
  {
   "cell_type": "code",
   "execution_count": 27,
   "id": "579cf4b4",
   "metadata": {},
   "outputs": [
    {
     "data": {
      "image/png": "[encoded data removed]"
     },
     "execution_count": 27,
     "metadata": {},
     "output_type": "execute_result"
    }
   ],
   "source": [
    "ind = sortperm(Xtest_1[:, 1])\n",
    "pred = apply_forest(cf, Xtest_1)\n",
    "plot(Xtest_1[ind, 1], [true_effect_1[ind], pred[ind]], label=[\"True effect\" \"Estimation\"], title = \"Subsample honest\", fmt = :png)"
   ]
  },
  {
   "cell_type": "code",
   "execution_count": 28,
   "id": "a0501647",
   "metadata": {},
   "outputs": [
    {
     "data": {
      "text/plain": [
       "Dict{Any, Float64} with 3 entries:\n",
       "  8 => 0.000285714\n",
       "  3 => 0.000285714\n",
       "  1 => 0.999429"
      ]
     },
     "execution_count": 28,
     "metadata": {},
     "output_type": "execute_result"
    }
   ],
   "source": [
    "get_freq(cf, 3)"
   ]
  },
  {
   "cell_type": "code",
   "execution_count": 29,
   "id": "713bb1b4",
   "metadata": {},
   "outputs": [
    {
     "data": {
      "text/plain": [
       "Dict{Any, Float64} with 10 entries:\n",
       "  5  => 0.0351809\n",
       "  4  => 0.031683\n",
       "  6  => 0.0351809\n",
       "  7  => 0.0435221\n",
       "  2  => 0.0300686\n",
       "  10 => 0.0290596\n",
       "  9  => 0.0366608\n",
       "  8  => 0.0306068\n",
       "  3  => 0.0462801\n",
       "  1  => 0.681757"
      ]
     },
     "execution_count": 29,
     "metadata": {},
     "output_type": "execute_result"
    }
   ],
   "source": [
    "get_freq(cf, 5)"
   ]
  },
  {
   "cell_type": "code",
   "execution_count": 30,
   "id": "87d8bd43",
   "metadata": {},
   "outputs": [
    {
     "data": {
      "text/plain": [
       "Dict{Any, Float64} with 10 entries:\n",
       "  5  => 0.0802495\n",
       "  4  => 0.0785052\n",
       "  6  => 0.084127\n",
       "  7  => 0.099035\n",
       "  2  => 0.0828722\n",
       "  10 => 0.0781538\n",
       "  9  => 0.0779656\n",
       "  8  => 0.077815\n",
       "  3  => 0.0938398\n",
       "  1  => 0.247437"
      ]
     },
     "execution_count": 30,
     "metadata": {},
     "output_type": "execute_result"
    }
   ],
   "source": [
    "get_freq(cf, 10)"
   ]
  },
  {
   "cell_type": "markdown",
   "id": "fa847f58",
   "metadata": {},
   "source": [
    "### Bootstrap"
   ]
  },
  {
   "cell_type": "code",
   "execution_count": 31,
   "id": "79e98dc1",
   "metadata": {},
   "outputs": [
    {
     "name": "stdout",
     "output_type": "stream",
     "text": [
      "  404.243 s (111177605 allocations: 37.32 GiB)\n",
      "  4.326 s (138075556 allocations: 2.52 GiB)\n",
      "0.03872318940194855\n",
      "7.346943063875833e-7\n"
     ]
    }
   ],
   "source": [
    "errors_12 = zeros(100)\n",
    "\n",
    "cf = @btime build_forest(true, true, Y, T, X, true, 10, 500, 500)\n",
    "pred = @btime apply_forest(cf, Xtest_1)\n",
    "errors_12[1] = rmsd(float(true_effect_1), pred)\n",
    "for i in 2:100\n",
    "    @rput i\n",
    "    reval(\"set.seed(i)\")\n",
    "    Xtest = rcopy(R\"matrix(runif(10000,0,10),nrow=1000)\")\n",
    "    pred = apply_forest(cf, Xtest)\n",
    "    true_effect = sin.(Xtest[:, 1])\n",
    "    errors_12[i] = rmsd(float(true_effect), pred)\n",
    "end\n",
    "println(mean(errors_12))\n",
    "println(var(errors_12))"
   ]
  },
  {
   "cell_type": "code",
   "execution_count": 32,
   "id": "7f825b73",
   "metadata": {},
   "outputs": [
    {
     "data": {
      "image/png": "[encoded data removed]"
     },
     "execution_count": 32,
     "metadata": {},
     "output_type": "execute_result"
    }
   ],
   "source": [
    "ind = sortperm(Xtest_1[:, 1])\n",
    "pred = apply_forest(cf, Xtest_1)\n",
    "plot(Xtest_1[ind, 1], [true_effect_1[ind], pred[ind]], label=[\"True effect\" \"Estimation\"], title = \"Bootstrap honest\", fmt = :png)"
   ]
  },
  {
   "cell_type": "code",
   "execution_count": 33,
   "id": "b6bac07e",
   "metadata": {},
   "outputs": [
    {
     "data": {
      "text/plain": [
       "Dict{Any, Float64} with 8 entries:\n",
       "  5 => 0.000571429\n",
       "  4 => 0.000571429\n",
       "  7 => 0.000285714\n",
       "  2 => 0.000857143\n",
       "  9 => 0.000285714\n",
       "  8 => 0.000285714\n",
       "  3 => 0.00285714\n",
       "  1 => 0.994286"
      ]
     },
     "execution_count": 33,
     "metadata": {},
     "output_type": "execute_result"
    }
   ],
   "source": [
    "get_freq(cf, 3)"
   ]
  },
  {
   "cell_type": "code",
   "execution_count": 34,
   "id": "2730fa55",
   "metadata": {},
   "outputs": [
    {
     "data": {
      "text/plain": [
       "Dict{Any, Float64} with 10 entries:\n",
       "  5  => 0.0382979\n",
       "  4  => 0.0334347\n",
       "  6  => 0.0396488\n",
       "  7  => 0.0501857\n",
       "  2  => 0.0322188\n",
       "  10 => 0.0304627\n",
       "  9  => 0.0388382\n",
       "  8  => 0.0327592\n",
       "  3  => 0.0616008\n",
       "  1  => 0.642553"
      ]
     },
     "execution_count": 34,
     "metadata": {},
     "output_type": "execute_result"
    }
   ],
   "source": [
    "get_freq(cf, 5)"
   ]
  },
  {
   "cell_type": "code",
   "execution_count": 35,
   "id": "b1535fe0",
   "metadata": {},
   "outputs": [
    {
     "data": {
      "text/plain": [
       "Dict{Any, Float64} with 10 entries:\n",
       "  5  => 0.0828229\n",
       "  4  => 0.0800533\n",
       "  6  => 0.0865406\n",
       "  7  => 0.0994194\n",
       "  2  => 0.0846232\n",
       "  10 => 0.0804474\n",
       "  9  => 0.0835473\n",
       "  8  => 0.0844847\n",
       "  3  => 0.100985\n",
       "  1  => 0.217076"
      ]
     },
     "execution_count": 35,
     "metadata": {},
     "output_type": "execute_result"
    }
   ],
   "source": [
    "get_freq(cf, 10)"
   ]
  },
  {
   "cell_type": "code",
   "execution_count": null,
   "id": "70eb9d1f",
   "metadata": {},
   "outputs": [],
   "source": []
  }
 ],
 "metadata": {
  "kernelspec": {
   "display_name": "Julia 1.7.2",
   "language": "julia",
   "name": "julia-1.7"
  },
  "language_info": {
   "file_extension": ".jl",
   "mimetype": "application/julia",
   "name": "julia",
   "version": "1.7.2"
  }
 },
 "nbformat": 4,
 "nbformat_minor": 5
}
