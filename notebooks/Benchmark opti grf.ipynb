{
 "cells": [
  {
   "cell_type": "code",
   "execution_count": 1,
   "id": "6e471994",
   "metadata": {},
   "outputs": [
    {
     "name": "stderr",
     "output_type": "stream",
     "text": [
      "┌ Info: Precompiling CausalForest [31bdf679-24a7-499a-9be9-b214c66174ea]\n",
      "└ @ Base loading.jl:1423\n"
     ]
    }
   ],
   "source": [
    "using CausalForest\n",
    "using RCall\n",
    "using StatsBase\n",
    "using BenchmarkTools"
   ]
  },
  {
   "cell_type": "code",
   "execution_count": 2,
   "id": "94636cad",
   "metadata": {},
   "outputs": [],
   "source": [
    "indices,X,T,Y = load_data(\"causal\")\n",
    "reval(\"set.seed(1)\")\n",
    "Xtest_1 = rcopy(R\"matrix(runif(10000),nrow=1000)\")\n",
    "true_effect_1 = Xtest_1[:, 1].>0.5;"
   ]
  },
  {
   "cell_type": "markdown",
   "id": "1ae94232",
   "metadata": {},
   "source": [
    "# Critère exact : centré honnête"
   ]
  },
  {
   "cell_type": "markdown",
   "id": "b0ca7f77",
   "metadata": {},
   "source": [
    "### Subsampling"
   ]
  },
  {
   "cell_type": "code",
   "execution_count": 3,
   "id": "1e55d606",
   "metadata": {},
   "outputs": [
    {
     "name": "stdout",
     "output_type": "stream",
     "text": [
      "  68.455 s (46791895 allocations: 5.96 GiB)\n",
      "  79.676 s (3111009490 allocations: 46.60 GiB)\n",
      "0.50118425547573651.0344825575204384e-6"
     ]
    }
   ],
   "source": [
    "errors_7 = zeros(100)\n",
    "\n",
    "cf = @btime build_forest_opti(true, false, true, Y, T, X, true, 10, 500, 0.5, 0.5, -1, 5, 10, 2000)\n",
    "pred = @btime apply_forest(cf, Xtest_1)\n",
    "errors_7[1] = rmsd(float(true_effect_1), pred)\n",
    "for i in 2:100\n",
    "    @rput i\n",
    "    reval(\"set.seed(i)\")\n",
    "    Xtest = rcopy(R\"matrix(runif(10000),nrow=1000)\")\n",
    "    pred = apply_forest(cf, Xtest)\n",
    "    true_effect = Xtest[:, 1].>0.5\n",
    "    errors_7[i] = rmsd(float(true_effect), pred)\n",
    "end\n",
    "print(mean(errors_7))\n",
    "print(var(errors_7))"
   ]
  },
  {
   "cell_type": "markdown",
   "id": "f64f640a",
   "metadata": {},
   "source": [
    "### Bootstrap"
   ]
  },
  {
   "cell_type": "code",
   "execution_count": 4,
   "id": "02ac018f",
   "metadata": {},
   "outputs": [
    {
     "name": "stdout",
     "output_type": "stream",
     "text": [
      "  1028.749 s (47438683 allocations: 6.16 GiB)\n",
      "  197.994 s (6108459490 allocations: 91.26 GiB)\n",
      "0.5012260451773011.071249021068289e-6"
     ]
    }
   ],
   "source": [
    "errors_8 = zeros(100)\n",
    "\n",
    "cf = @btime build_forest_opti(true, true, true, Y, T, X, true, 10, 500, 0.5, 0.5, -1, 5, 10, 2000)\n",
    "pred = @btime apply_forest(cf, Xtest_1)\n",
    "errors_8[1] = rmsd(float(true_effect_1), pred)\n",
    "for i in 2:100\n",
    "    @rput i\n",
    "    reval(\"set.seed(i)\")\n",
    "    Xtest = rcopy(R\"matrix(runif(10000),nrow=1000)\")\n",
    "    pred = apply_forest(cf, Xtest)\n",
    "    true_effect = Xtest[:, 1].>0.5\n",
    "    errors_8[i] = rmsd(float(true_effect), pred)\n",
    "end\n",
    "print(mean(errors_8))\n",
    "print(var(errors_8))"
   ]
  },
  {
   "cell_type": "markdown",
   "id": "1e823fe1",
   "metadata": {},
   "source": [
    "# Critère alternatif (différence non centrée) honnête"
   ]
  },
  {
   "cell_type": "markdown",
   "id": "9bdad164",
   "metadata": {},
   "source": [
    "### Subsampling"
   ]
  },
  {
   "cell_type": "code",
   "execution_count": 3,
   "id": "4ea448cd",
   "metadata": {},
   "outputs": [
    {
     "name": "stdout",
     "output_type": "stream",
     "text": [
      "  2.249 s (951866 allocations: 357.26 MiB)\n",
      "  5.137 s (186000598 allocations: 3.01 GiB)\n",
      "0.068403557731431613.908746180886685e-5"
     ]
    }
   ],
   "source": [
    "errors_11 = zeros(100)\n",
    "\n",
    "cf = @btime build_forest_1_opti(false, false, true, Y, T, X, true, 10, 500, 0.5, 0.5, -1, 5, 10, 2000)\n",
    "pred = @btime apply_forest_1(cf, Xtest_1)\n",
    "errors_11[1] = rmsd(float(true_effect_1), pred)\n",
    "for i in 2:100\n",
    "    @rput i\n",
    "    reval(\"set.seed(i)\")\n",
    "    Xtest = rcopy(R\"matrix(runif(10000),nrow=1000)\")\n",
    "    pred = apply_forest_1(cf, Xtest)\n",
    "    true_effect = Xtest[:, 1].>0.5\n",
    "    errors_11[i] = rmsd(float(true_effect), pred)\n",
    "end\n",
    "print(mean(errors_11))\n",
    "print(var(errors_11))"
   ]
  },
  {
   "cell_type": "markdown",
   "id": "ac2b6725",
   "metadata": {},
   "source": [
    "### Bootstrap"
   ]
  },
  {
   "cell_type": "code",
   "execution_count": 4,
   "id": "d89d2d25",
   "metadata": {},
   "outputs": [
    {
     "name": "stdout",
     "output_type": "stream",
     "text": [
      "  6.099 s (1866588 allocations: 585.13 MiB)\n",
      "  5.355 s (194938514 allocations: 3.14 GiB)\n",
      "0.072098917751472173.752496659951461e-5"
     ]
    }
   ],
   "source": [
    "errors_12 = zeros(100)\n",
    "\n",
    "cf = @btime build_forest_1_opti(false, true, true, Y, T, X, true, 10, 500, 0.5, 0.5, -1, 5, 10, 2000)\n",
    "pred = @btime apply_forest_1(cf, Xtest_1)\n",
    "errors_12[1] = rmsd(float(true_effect_1), pred)\n",
    "for i in 2:100\n",
    "    @rput i\n",
    "    reval(\"set.seed(i)\")\n",
    "    Xtest = rcopy(R\"matrix(runif(10000),nrow=1000)\")\n",
    "    pred = apply_forest_1(cf, Xtest)\n",
    "    true_effect = Xtest[:, 1].>0.5\n",
    "    errors_12[i] = rmsd(float(true_effect), pred)\n",
    "end\n",
    "print(mean(errors_12))\n",
    "print(var(errors_12))"
   ]
  },
  {
   "cell_type": "code",
   "execution_count": null,
   "id": "96b0132d",
   "metadata": {},
   "outputs": [],
   "source": []
  }
 ],
 "metadata": {
  "kernelspec": {
   "display_name": "Julia 1.7.2",
   "language": "julia",
   "name": "julia-1.7"
  },
  "language_info": {
   "file_extension": ".jl",
   "mimetype": "application/julia",
   "name": "julia",
   "version": "1.7.2"
  }
 },
 "nbformat": 4,
 "nbformat_minor": 5
}
