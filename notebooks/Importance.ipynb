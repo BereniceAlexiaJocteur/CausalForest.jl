{
 "cells": [
  {
   "cell_type": "code",
   "execution_count": 1,
   "id": "dcdffae0",
   "metadata": {},
   "outputs": [],
   "source": [
    "using CausalForest\n",
    "using StatsBase\n",
    "using Distributions"
   ]
  },
  {
   "cell_type": "code",
   "execution_count": 2,
   "id": "c63c37ae",
   "metadata": {},
   "outputs": [],
   "source": [
    "indices,X,T,Y = load_data(\"causal\");\n",
    "cf1 = build_forest(true, false, Y, T, X, false, -1, 500, 100);"
   ]
  },
  {
   "cell_type": "code",
   "execution_count": 3,
   "id": "5ae73196",
   "metadata": {},
   "outputs": [
    {
     "data": {
      "text/plain": [
       "10-element Vector{Float64}:\n",
       " 0.6670134312188798\n",
       " 0.04954808521384946\n",
       " 0.0463824751092647\n",
       " 0.04053620586801205\n",
       " 0.02545280984208492\n",
       " 0.038855666385649724\n",
       " 0.02614403381749563\n",
       " 0.02625656359494224\n",
       " 0.04990863755101657\n",
       " 0.029902091398804852"
      ]
     },
     "execution_count": 3,
     "metadata": {},
     "output_type": "execute_result"
    }
   ],
   "source": [
    "importance(cf1)"
   ]
  },
  {
   "cell_type": "code",
   "execution_count": 4,
   "id": "0ba6bfd5",
   "metadata": {},
   "outputs": [],
   "source": [
    "cf1bis = build_forest(true, false, Y, T, X, true, 10, 500, 100);"
   ]
  },
  {
   "cell_type": "code",
   "execution_count": 5,
   "id": "e0ecf4d8",
   "metadata": {},
   "outputs": [
    {
     "data": {
      "text/plain": [
       "10-element Vector{Float64}:\n",
       " 0.7503223407313562\n",
       " 0.027803519037985485\n",
       " 0.04115050652134897\n",
       " 0.0230471940189154\n",
       " 0.026407893992054968\n",
       " 0.031641197398556795\n",
       " 0.024028707044794793\n",
       " 0.026632873331581618\n",
       " 0.02231701500348374\n",
       " 0.026648752919921973"
      ]
     },
     "execution_count": 5,
     "metadata": {},
     "output_type": "execute_result"
    }
   ],
   "source": [
    "importance(cf1bis)"
   ]
  },
  {
   "cell_type": "code",
   "execution_count": null,
   "id": "23852eb9",
   "metadata": {},
   "outputs": [],
   "source": []
  },
  {
   "cell_type": "code",
   "execution_count": 6,
   "id": "b302e619",
   "metadata": {},
   "outputs": [],
   "source": [
    "n, m = 10^4, 10\n",
    "u = Uniform()\n",
    "features = rand(u, (n, m))\n",
    "X = features\n",
    "d = Normal()\n",
    "eps = rand(d, n)\n",
    "b = Bernoulli()\n",
    "T = convert(Vector{Int64},rand(b, n))\n",
    "Y = features*[10, 0, 0, 0, 0, 0, 0, 0, 0, 0].*T  .+ 0.5\n",
    "\n",
    "cf2 = build_forest(true, false, Y, T, features, true, 10, 500, 100);"
   ]
  },
  {
   "cell_type": "code",
   "execution_count": 7,
   "id": "93ed6e08",
   "metadata": {},
   "outputs": [
    {
     "data": {
      "text/plain": [
       "10-element Vector{Float64}:\n",
       " 1.0\n",
       " 0.0\n",
       " 0.0\n",
       " 0.0\n",
       " 0.0\n",
       " 0.0\n",
       " 0.0\n",
       " 0.0\n",
       " 0.0\n",
       " 0.0"
      ]
     },
     "execution_count": 7,
     "metadata": {},
     "output_type": "execute_result"
    }
   ],
   "source": [
    "importance(cf2)"
   ]
  },
  {
   "cell_type": "code",
   "execution_count": null,
   "id": "9187f16d",
   "metadata": {},
   "outputs": [],
   "source": []
  },
  {
   "cell_type": "code",
   "execution_count": null,
   "id": "7e9dba2a",
   "metadata": {},
   "outputs": [],
   "source": [
    "Y = features*[10, 0, 0, 0, 0, 0, 0, 0, 0, 0].*T  .+ eps\n",
    "\n",
    "cf3 = build_forest(false, true, Y, T, X, true, 10, 500, 100);"
   ]
  },
  {
   "cell_type": "code",
   "execution_count": null,
   "id": "599ac173",
   "metadata": {},
   "outputs": [],
   "source": [
    "importance(cf3)"
   ]
  },
  {
   "cell_type": "code",
   "execution_count": null,
   "id": "9e744645",
   "metadata": {},
   "outputs": [],
   "source": []
  }
 ],
 "metadata": {
  "kernelspec": {
   "display_name": "Julia 1.7.2",
   "language": "julia",
   "name": "julia-1.7"
  },
  "language_info": {
   "file_extension": ".jl",
   "mimetype": "application/julia",
   "name": "julia",
   "version": "1.7.2"
  }
 },
 "nbformat": 4,
 "nbformat_minor": 5
}
