{
 "cells": [
  {
   "cell_type": "code",
   "execution_count": 1,
   "id": "65fda159",
   "metadata": {},
   "outputs": [],
   "source": [
    "using CausalForest\n",
    "using StatsBase\n",
    "using Distributions"
   ]
  },
  {
   "cell_type": "code",
   "execution_count": 2,
   "id": "f82af3d9",
   "metadata": {},
   "outputs": [],
   "source": [
    "indices,X,T,Y = load_data(\"causal\");\n",
    "cf1 = build_forest(true, false, Y, T, X, false, -1, 100; max_depth=5);"
   ]
  },
  {
   "cell_type": "code",
   "execution_count": 3,
   "id": "f9ae4dae",
   "metadata": {},
   "outputs": [
    {
     "data": {
      "text/plain": [
       "10×1 Matrix{Float64}:\n",
       " 0.0\n",
       " 0.11648336858476224\n",
       " 0.1385349208716651\n",
       " 0.17400738482957623\n",
       " 0.03665947993650975\n",
       " 0.0\n",
       " 0.0\n",
       " 0.027791935945228146\n",
       " 0.04474090357512037\n",
       " 0.46178200645781503"
      ]
     },
     "execution_count": 3,
     "metadata": {},
     "output_type": "execute_result"
    }
   ],
   "source": [
    "sens = shaff(cf1,50)"
   ]
  },
  {
   "cell_type": "code",
   "execution_count": 4,
   "id": "8d9ac415",
   "metadata": {},
   "outputs": [
    {
     "data": {
      "text/plain": [
       "1.0000000002006768"
      ]
     },
     "execution_count": 4,
     "metadata": {},
     "output_type": "execute_result"
    }
   ],
   "source": [
    "sum(sens)"
   ]
  },
  {
   "cell_type": "code",
   "execution_count": null,
   "id": "8998febb",
   "metadata": {},
   "outputs": [],
   "source": []
  }
 ],
 "metadata": {
  "kernelspec": {
   "display_name": "Julia 1.7.2",
   "language": "julia",
   "name": "julia-1.7"
  },
  "language_info": {
   "file_extension": ".jl",
   "mimetype": "application/julia",
   "name": "julia",
   "version": "1.7.2"
  }
 },
 "nbformat": 4,
 "nbformat_minor": 5
}
