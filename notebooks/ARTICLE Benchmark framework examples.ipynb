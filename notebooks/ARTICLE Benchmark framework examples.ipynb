{
 "cells": [
  {
   "cell_type": "code",
   "execution_count": 1,
   "id": "91e102c7",
   "metadata": {},
   "outputs": [],
   "source": [
    "using CausalForest\n",
    "using RCall\n",
    "using StatsBase\n",
    "using Statistics\n",
    "using Random\n",
    "using Distributions"
   ]
  },
  {
   "cell_type": "code",
   "execution_count": 2,
   "id": "c8156969",
   "metadata": {},
   "outputs": [
    {
     "name": "stdout",
     "output_type": "stream",
     "text": [
      "\u001b[1m3×4 DataFrame\u001b[0m\n",
      "\u001b[1m Row \u001b[0m│\u001b[1m a1      \u001b[0m\u001b[1m a2      \u001b[0m\u001b[1m C_GRF     \u001b[0m\u001b[1m HTERF      \u001b[0m\n",
      "\u001b[1m     \u001b[0m│\u001b[90m Float64 \u001b[0m\u001b[90m Float64 \u001b[0m\u001b[90m Float64   \u001b[0m\u001b[90m Float64    \u001b[0m\n",
      "─────┼─────────────────────────────────────────\n",
      "   1 │     1.0      5.0  0.276206   0.117095\n",
      "   2 │     1.0      1.0  0.121759   0.0116932\n",
      "   3 │     1.0      0.2  0.0789389  0.00405936"
     ]
    }
   ],
   "source": [
    "Random.seed!(123);\n",
    "n, m = 10^4, 10;\n",
    "@rlibrary grf\n",
    "R\"\"\"\n",
    "set.seed(123)\n",
    "grid = as.data.frame(matrix(c(1,5,1,1,1,0.2), ncol=2, byrow=T))\n",
    "colnames(grid) = c(\"a1\", \"a2\")\n",
    "N <- nrow(grid)\n",
    "res <- data.frame()\n",
    "\"\"\"\n",
    "@rget N\n",
    "for i in 1:N\n",
    "    @rput i\n",
    "    R\"\"\"\n",
    "    a1 <- grid$a1[i]\n",
    "    a2 <- grid$a2[i]\n",
    "    \"\"\"\n",
    "    @rget a1 a2\n",
    "    errors_grf = zeros(60)\n",
    "    errors_hterf = zeros(60)\n",
    "    for j in 1:60\n",
    "        u = Uniform(0,1);\n",
    "        features = rand(u, (n, m));\n",
    "        X = features;\n",
    "        b = Bernoulli();\n",
    "        T = convert(Vector{Int64},rand(b, n));\n",
    "        Y = a1*sin.(features*[1, 0, 0, 0, 0, 0, 0, 0, 0, 0]).*T  + a2*cos.(features*[0, 2, 3, 0, 0, 0, 0, 0, 0, 0]);\n",
    "        Xtest = rand(u, (n, m));\n",
    "        tau = a1*sin.(Xtest*[1, 0, 0, 0, 0, 0, 0, 0, 0, 0])\n",
    "        @rput X T Y Xtest tau\n",
    "        R\"\"\"\n",
    "        cf <- grf::causal_forest(X, Y, T, num.trees=500, tune.num.trees=500, sample.fraction=0.7, ci.group.size=1)\n",
    "        tau.hat <- predict(cf, Xtest)$predictions\n",
    "        mse = mean((tau.hat - tau)^2)\n",
    "        \"\"\"\n",
    "        @rget mse\n",
    "        cf = build_forest(false, true, Y, T, X, true, m, 500, 500)\n",
    "        tauhat = apply_forest(cf, Xtest)\n",
    "        errors_hterf[j] = msd(tau, tauhat)\n",
    "        errors_grf[j] = mse\n",
    "    end\n",
    "    err_hterf = mean(errors_hterf)\n",
    "    err_grf = mean(errors_grf)\n",
    "    @rput err_grf err_hterf\n",
    "    R\"\"\"\n",
    "    df = data.frame(a1 = a1, a2 = a2, C.GRF = err_grf * 1000, HTERF = err_hterf * 1000)\n",
    "    res = rbind(res, df)\n",
    "    \"\"\"\n",
    "end\n",
    "@rget res\n",
    "print(res)"
   ]
  },
  {
   "cell_type": "code",
   "execution_count": 3,
   "id": "5858a685",
   "metadata": {},
   "outputs": [
    {
     "data": {
      "text/plain": [
       "get_freq (generic function with 2 methods)"
      ]
     },
     "execution_count": 3,
     "metadata": {},
     "output_type": "execute_result"
    }
   ],
   "source": [
    "function get_all_nodes_in_tree!(\n",
    "    tree ,\n",
    "    depth = 3,\n",
    "    result  = []\n",
    "    )\n",
    "    if hasproperty(tree, :featid) && depth > 0\n",
    "        push!(result, tree.featid)\n",
    "        get_all_nodes_in_tree!(tree.left, depth-1, result)\n",
    "        get_all_nodes_in_tree!(tree.right, depth-1, result)\n",
    "    end\n",
    "    return result\n",
    "end\n",
    "\n",
    "function get_freq(forest, depth=3) \n",
    "    ensemble = forest.trees\n",
    "    n_trees = length(ensemble)\n",
    "    res = []\n",
    "    for i = 1:n_trees\n",
    "        append!(res, get_all_nodes_in_tree!(forest.trees[i].tree, depth))\n",
    "    end\n",
    "    return proportionmap(res)\n",
    "end"
   ]
  },
  {
   "cell_type": "code",
   "execution_count": 4,
   "id": "bc2b0556",
   "metadata": {},
   "outputs": [
    {
     "name": "stdout",
     "output_type": "stream",
     "text": [
      "\u001b[1m3×10 DataFrame\u001b[0m\n",
      "\u001b[1m Row \u001b[0m│\u001b[1m a1      \u001b[0m\u001b[1m a2      \u001b[0m\u001b[1m GRF_3    \u001b[0m\u001b[1m GRF_5    \u001b[0m\u001b[1m GRF_10   \u001b[0m\u001b[1m GRF_imp  \u001b[0m\u001b[1m HTERF_3  \u001b[0m\u001b[1m HTERF_5  \u001b[0m\u001b[1m HTERF_10 \u001b[0m\u001b[1m HTERF_imp \u001b[0m\n",
      "\u001b[1m     \u001b[0m│\u001b[90m Float64 \u001b[0m\u001b[90m Float64 \u001b[0m\u001b[90m Float64  \u001b[0m\u001b[90m Float64  \u001b[0m\u001b[90m Float64  \u001b[0m\u001b[90m Float64  \u001b[0m\u001b[90m Float64  \u001b[0m\u001b[90m Float64  \u001b[0m\u001b[90m Float64  \u001b[0m\u001b[90m Float64   \u001b[0m\n",
      "─────┼───────────────────────────────────────────────────────────────────────────────────────────────────\n",
      "   1 │     1.0      5.0  0.869723  0.377593  0.149885  0.852033  0.999886  0.497583  0.175225   0.984969\n",
      "   2 │     1.0      1.0  0.87365   0.526142  0.17448   0.865501  1.0       0.994539  0.281786   1.0\n",
      "   3 │     1.0      0.2  0.875354  0.627452  0.199608  0.87365   1.0       1.0       0.603331   1.0"
     ]
    }
   ],
   "source": [
    "Random.seed!(123);\n",
    "R\"\"\"\n",
    "resu <- data.frame()\n",
    "\"\"\"\n",
    "for i in 1:N\n",
    "    @rput i\n",
    "    R\"\"\"\n",
    "    a1 <- grid$a1[i]\n",
    "    a2 <- grid$a2[i]\n",
    "    \"\"\"\n",
    "    @rget a1 a2\n",
    "    hterf1 = zeros(60)\n",
    "    hterf2 = zeros(60)\n",
    "    hterf3 = zeros(60)\n",
    "    hterf4 = zeros(60)\n",
    "    grf1 = zeros(60)\n",
    "    grf2 = zeros(60)\n",
    "    grf3 = zeros(60)\n",
    "    grf4 = zeros(60)\n",
    "    for j in 1:60\n",
    "        u = Uniform(0,1);\n",
    "        features = rand(u, (n, m));\n",
    "        X = features;\n",
    "        b = Bernoulli();\n",
    "        T = convert(Vector{Int64},rand(b, n));\n",
    "        Y = a1*sin.(features*[1, 0, 0, 0, 0, 0, 0, 0, 0, 0]).*T  + a2*cos.(features*[0, 2, 3, 0, 0, 0, 0, 0, 0, 0]);\n",
    "        cf0 = build_forest(false, true, Y, T, X, true, m, 500, 500)\n",
    "        hterf1[j] = get_freq(cf0, 3)[1]\n",
    "        hterf2[j] = get_freq(cf0, 5)[1]\n",
    "        hterf3[j] = get_freq(cf0, 10)[1]\n",
    "        hterf4[j] = importance(cf0)[1]\n",
    "        @rput X T Y\n",
    "        R\"\"\"\n",
    "        cf1 <- grf::causal_forest(X, Y, T, num.trees=500, tune.num.trees=500, sample.fraction=0.7, ci.group.size=1)\n",
    "        freq = grf::split_frequencies(cf1,20)\n",
    "        g_1 = sum(freq[1:3,1])/sum(freq[1:3,])\n",
    "        g_2 = sum(freq[1:5,1])/sum(freq[1:5,])\n",
    "        g_3 = sum(freq[1:10,1])/sum(freq[1:10,])\n",
    "        g_4 = grf::variable_importance(cf1)[1]\n",
    "        \"\"\"\n",
    "        @rget g_1 g_2 g_3 g_4\n",
    "        grf1[j] = g_1\n",
    "        grf2[j] = g_2\n",
    "        grf3[j] = g_3\n",
    "        grf4[j] = g_4\n",
    "    end\n",
    "    grf_1 = mean(grf1)\n",
    "    grf_2 = mean(grf2)\n",
    "    grf_3 = mean(grf3)\n",
    "    grf_4 = mean(grf4)\n",
    "    hterf_1 = mean(hterf1)\n",
    "    hterf_2 = mean(hterf2)\n",
    "    hterf_3 = mean(hterf3)\n",
    "    hterf_4 = mean(hterf4)\n",
    "    @rput grf_1 grf_2 grf_3 grf_4 hterf_1 hterf_2 hterf_3 hterf_4\n",
    "    R\"\"\"\n",
    "    df = data.frame(a1 = a1, a2 = a2, GRF_3 = grf_1, GRF_5 = grf_2, GRF_10 = grf_3, GRF_imp = grf_4, HTERF_3 = hterf_1, HTERF_5 = hterf_2, HTERF_10 = hterf_3, HTERF_imp = hterf_4)\n",
    "    resu = rbind(resu, df)\n",
    "    \"\"\"\n",
    "    end\n",
    "@rget resu\n",
    "print(resu)"
   ]
  },
  {
   "cell_type": "code",
   "execution_count": null,
   "id": "7f9b3aab",
   "metadata": {},
   "outputs": [],
   "source": []
  }
 ],
 "metadata": {
  "kernelspec": {
   "display_name": "Julia 1.7.2",
   "language": "julia",
   "name": "julia-1.7"
  },
  "language_info": {
   "file_extension": ".jl",
   "mimetype": "application/julia",
   "name": "julia",
   "version": "1.7.2"
  }
 },
 "nbformat": 4,
 "nbformat_minor": 5
}
